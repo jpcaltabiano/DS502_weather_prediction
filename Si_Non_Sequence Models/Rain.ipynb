{
 "cells": [
  {
   "cell_type": "code",
   "execution_count": 1,
   "metadata": {},
   "outputs": [],
   "source": [
    "import pandas as pd\n",
    "import numpy as np\n",
    "from math import pi\n",
    "import matplotlib.pyplot as plt\n",
    "from matplotlib.pyplot import figure\n",
    "import seaborn as sns\n",
    "from IPython.display import display, Markdown\n",
    "import time"
   ]
  },
  {
   "cell_type": "code",
   "execution_count": 2,
   "metadata": {},
   "outputs": [],
   "source": [
    "from sklearn import preprocessing\n",
    "from sklearn.preprocessing import MinMaxScaler\n",
    "from sklearn.preprocessing import PowerTransformer\n",
    "from sklearn.impute import SimpleImputer\n",
    "from sklearn.decomposition import PCA\n",
    "from sklearn import svm\n",
    "from sklearn.linear_model import Lasso, LogisticRegression\n",
    "from sklearn.feature_selection import SelectFromModel\n",
    "from sklearn.model_selection import cross_val_score\n",
    "from sklearn.metrics import accuracy_score\n",
    "from sklearn import metrics\n",
    "from sklearn.metrics import confusion_matrix\n",
    "from sklearn.model_selection import StratifiedKFold\n",
    "# from sklearn.base import clone\n",
    "\n",
    "import keras\n",
    "from keras.models import Model\n",
    "from keras.models import Sequential\n",
    "from keras.layers import Convolution1D as Conv1D\n",
    "from keras.layers import ZeroPadding1D, MaxPooling1D, BatchNormalization, Activation, Dropout, Flatten, Dense"
   ]
  },
  {
   "cell_type": "code",
   "execution_count": 163,
   "metadata": {},
   "outputs": [],
   "source": [
    "df = pd.read_csv(\"training_set.csv\")\n",
    "location_df = pd.read_csv(\"locations.csv\")"
   ]
  },
  {
   "cell_type": "code",
   "execution_count": 164,
   "metadata": {},
   "outputs": [
    {
     "data": {
      "text/plain": [
       "Index(['Date', 'Location', 'MinTemp', 'MaxTemp', 'Rainfall', 'Evaporation',\n",
       "       'Sunshine', 'WindGustDir', 'WindGustSpeed', 'WindDir9am', 'WindDir3pm',\n",
       "       'WindSpeed9am', 'WindSpeed3pm', 'Humidity9am', 'Humidity3pm',\n",
       "       'Pressure9am', 'Pressure3pm', 'Cloud9am', 'Cloud3pm', 'Temp9am',\n",
       "       'Temp3pm', 'RainToday', 'RISK_MM', 'RainTomorrow', 'lat', 'lon'],\n",
       "      dtype='object')"
      ]
     },
     "execution_count": 164,
     "metadata": {},
     "output_type": "execute_result"
    }
   ],
   "source": [
    "#check all columns\n",
    "df_loc = df.join(location_df.set_index('Location'), on='Location')\n",
    "df_loc.columns"
   ]
  },
  {
   "cell_type": "code",
   "execution_count": 165,
   "metadata": {},
   "outputs": [],
   "source": [
    "# take out test set (2015)\n",
    "df[\"Date\"] = pd.to_datetime(df['Date'])\n",
    "df.insert(1, \"Year\", df[\"Date\"].dt.year, True)\n",
    "test = df[df.Year == 2015]\n",
    "train = df[df.Year != 2015]"
   ]
  },
  {
   "cell_type": "code",
   "execution_count": 122,
   "metadata": {},
   "outputs": [
    {
     "name": "stdout",
     "output_type": "stream",
     "text": [
      "\n",
      "number of obdervations with rainfall>200mm: 11\n"
     ]
    },
    {
     "data": {
      "image/png": "[encoded data removed]",
      "text/plain": [
       "<Figure size 432x288 with 1 Axes>"
      ]
     },
     "metadata": {
      "needs_background": "light"
     },
     "output_type": "display_data"
    }
   ],
   "source": [
    "df.Rainfall[df.Rainfall>50].hist()\n",
    "print()\n",
    "print(\"number of obdervations with rainfall>200mm:\",len(df.Rainfall[df.Rainfall>200]))"
   ]
  },
  {
   "cell_type": "code",
   "execution_count": 166,
   "metadata": {},
   "outputs": [],
   "source": [
    "train = train.drop(train[train['Rainfall']> 200].index)"
   ]
  },
  {
   "cell_type": "code",
   "execution_count": 10,
   "metadata": {},
   "outputs": [],
   "source": [
    "# USEAGE\n",
    "# Each function takes 'df' as pandas dataframe object and returns the modified dataframe.\n",
    "# add_locs also takes a datafrane of the locations\n",
    "# example:\n",
    "#   data = pd.read_csv(\"weatherAUS.csv\")\n",
    "#   data = wind_vectors(data)\n",
    "#   locations = pd.read_csv(\"lcoations.csv\")\n",
    "#   data = add_locs(data, locations)\n",
    "\n",
    "import pandas as pd\n",
    "import numpy as np\n",
    "import datetime\n",
    "\n",
    "# add location coordinates\n",
    "def add_locs(df, location_df):\n",
    "    return df.join(location_df.set_index('Location'), on='Location')\n",
    "\n",
    "# convert yes and no strings to binary\n",
    "def binary_target(df):\n",
    "    df[\"RainTomorrow\"] = df[\"RainTomorrow\"].replace(('Yes', 'No'), (1, 0))\n",
    "    df[\"RainToday\"] = df[\"RainToday\"].replace(('Yes', 'No'), (1, 0))\n",
    "    return df\n",
    "\n",
    "def wind_vectors(df):\n",
    "    df['WindGustDir'] = df['WindGustDir'].replace(\n",
    "        ('N', 'NNE', 'NE', 'ENE', 'E', 'ESE', 'SE', 'SSE', 'S', 'SSW','SW','WSW','W','WNW','NW','NNW'),\n",
    "        (0, 22.5, 45, 67.5, 90, 112.5, 135, 157.5, 180, 202.5, 225, 247.5, 270, 292.5, 315, 337.5)\n",
    "    )\n",
    "\n",
    "    df['WindDir9am'] = df['WindDir9am'].replace(\n",
    "        ('N', 'NNE', 'NE', 'ENE', 'E', 'ESE', 'SE', 'SSE', 'S', 'SSW','SW','WSW','W','WNW','NW','NNW'),\n",
    "        (0, 22.5, 45, 67.5, 90, 112.5, 135, 157.5, 180, 202.5, 225, 247.5, 270, 292.5, 315, 337.5)\n",
    "    )\n",
    "\n",
    "    df['WindDir3pm'] = df['WindDir3pm'].replace(\n",
    "        ('N', 'NNE', 'NE', 'ENE', 'E', 'ESE', 'SE', 'SSE', 'S', 'SSW','SW','WSW','W','WNW','NW','NNW'),\n",
    "        (0, 22.5, 45, 67.5, 90, 112.5, 135, 157.5, 180, 202.5, 225, 247.5, 270, 292.5, 315, 337.5)\n",
    "    )\n",
    "\n",
    "    wv = df.pop('WindGustSpeed')\n",
    "    wd = df.pop('WindGustDir')*np.pi/180\n",
    "    df['WindGustX'] = wv*np.cos(wd)\n",
    "    df['WindGustY'] = wv*np.sin(wd)\n",
    "\n",
    "    wv = df.pop('WindSpeed9am')\n",
    "    wd = df.pop('WindDir9am')*np.pi/180\n",
    "    df['Wind9amX'] = wv*np.cos(wd)\n",
    "    df['Wind9amY'] = wv*np.sin(wd)\n",
    "\n",
    "    wv = df.pop('WindSpeed3pm')\n",
    "    wd = df.pop('WindDir3pm')*np.pi/180\n",
    "    df['Wind3pmX'] = wv*np.cos(wd)\n",
    "    df['Wind3pmY'] = wv*np.sin(wd)\n",
    "\n",
    "    return df\n",
    "\n",
    "def date_to_signal(df):\n",
    "    data_date = pd.to_datetime(df['Date'])\n",
    "    timestamp_s = data_date.map(datetime.datetime.timestamp)\n",
    "    day = 24*60*60\n",
    "    year = (365.2425)*day\n",
    "    month = data_date.dt.month\n",
    "    season = ((month -1)%12 + 3)//3\n",
    "    df['daysin'] = np.sin(timestamp_s * (2 * np.pi/day))\n",
    "    df['daycos'] = np.cos(timestamp_s * (2 * np.pi/day))\n",
    "    df['yearsin'] = np.sin(timestamp_s * (2 * np.pi/year))\n",
    "    df['yearcos'] = np.cos(timestamp_s * (2 * np.pi/year))\n",
    "    df['monthsin'] = np.sin((month-1)*(2.*np.pi/12))\n",
    "    df['monthcos'] = np.cos((month-1)*(2.*np.pi/12))\n",
    "    df['seasonsin'] = np.sin((month-1)*(2.*np.pi/4))\n",
    "    df['seasoncos'] = np.cos((month-1)*(2.*np.pi/4))\n",
    "\n",
    "    return df\n",
    "\n",
    "def aug_all(df, location_df):\n",
    "    df = add_locs(df, location_df)\n",
    "    df = binary_target(df)\n",
    "    df = date_to_signal(df)\n",
    "    df = wind_vectors(df)\n",
    "    return df"
   ]
  },
  {
   "cell_type": "code",
   "execution_count": 129,
   "metadata": {},
   "outputs": [],
   "source": [
    "# USEAGE\n",
    "# df should have turned 'Date' column as pd.to_datetime(df['Date'])\n",
    "# df has inserted a 2nd colum 'Year': df.insert(1, \"Year\", df[\"Date\"].dt.year, True)\n",
    "# median = None: this is to preprocess test data that's never seen\n",
    "# median != None, will return processed df, and medians, powertransform fit, and minmaxsclar fit from training data, \n",
    "# They will be used to transform test data.\n",
    "\n",
    "def preprocess(df, median = None, pt_fit = None, mms_f = None):\n",
    "\n",
    "    \n",
    "    ### 1. add lon, lat columns and features engineering\n",
    "    df = aug_all(df, location_df)\n",
    "    \n",
    "\n",
    "    ### 2. drop some column ###\n",
    "    df.drop(\"Date\",axis=1,inplace=True)\n",
    "    df.drop(\"Year\",axis=1,inplace=True)\n",
    "    df.drop(\"RISK_MM\",axis=1,inplace = True)\n",
    "    #remove highly correlated columns\n",
    "    df.drop(columns = [\"Temp3pm\", \"Temp9am\", \"Pressure9am\"], axis=1, inplace = True)\n",
    "    #print('1. columns:', df.columns)\n",
    "    \n",
    "    ### 3. define columns ###\n",
    "    # high missing % columns\n",
    "    miss_col_30 = ['Sunshine', 'Evaporation', 'Cloud3pm', 'Cloud9am']\n",
    "    \n",
    "    # \n",
    "    \n",
    "    # catogorical and numerical columns\n",
    "    cat_cols = []\n",
    "    num_cols = []\n",
    "    other_cols = []\n",
    "\n",
    "    for each in df.columns:\n",
    "        if df[each].dtype == \"object\":\n",
    "            cat_cols.append(each)\n",
    "        elif df[each].dtype == \"float64\":\n",
    "            num_cols.append(each)\n",
    "        else:\n",
    "            other_cols.append(each)\n",
    "\n",
    "    \n",
    "    ### 4. data preprocessing ###\n",
    "    \n",
    "    # drop columns with too many missing values\n",
    "    df_clean = df.copy(deep = True)\n",
    "    df_clean.drop(columns = miss_col_30, axis=1, inplace = True)\n",
    "    to_remove = miss_col_30\n",
    "    num_cols = [i for i in num_cols if i not in to_remove]\n",
    "    \n",
    "    # Fill missing value with median\n",
    "    # if this is for training data\n",
    "    if median == None:\n",
    "        medians = []\n",
    "        for k in num_cols:\n",
    "            df_clean[k].fillna(value=df[k].median(),inplace=True)\n",
    "            medians.append(df[k].median())\n",
    "    # # if this is for test data, use the median values of training data\n",
    "    else: \n",
    "        medians = median\n",
    "        i = 0\n",
    "        for k in num_cols:\n",
    "            df_clean[k].fillna(value = medians[i],inplace=True)\n",
    "            i += 1\n",
    "        \n",
    "    # one hot encoder\n",
    "    df1 = pd.get_dummies(df_clean.Location)\n",
    "    df_prepared = pd.concat([df_clean, df1], axis=1)\n",
    "    \n",
    "    # drop more columns \n",
    "    df_prepared.drop(columns = [\"Location\"],axis=1,inplace=True)\n",
    "    #print('1. columns:',df_prepared.columns)\n",
    "    \n",
    "    # Drop rainfall outliers: only 13 entries, but they stretch the range to almost twice.\n",
    "    df_prepared = df_prepared.drop(df_prepared[df_prepared['Rainfall']> 200].index)\n",
    "\n",
    "    \n",
    "    if pt_fit == None:\n",
    "        # Power transform 'Rainfall' column that's serious skewed\n",
    "        a = np.array(df_prepared['Rainfall'].values.tolist()).reshape(-1, 1)\n",
    "        pt = PowerTransformer(method='yeo-johnson')\n",
    "        pt_fit = pt.fit(a)\n",
    "        features_trans = pt_fit.transform(a)\n",
    "        # df1.skew()\n",
    "        df_prepared['Rainfall'] = features_trans\n",
    "    else: \n",
    "        a = np.array(df_prepared['Rainfall'].values.tolist()).reshape(-1, 1)\n",
    "        features_trans = pt_fit.transform(a)\n",
    "        # df1.skew()\n",
    "        df_prepared['Rainfall'] = features_trans\n",
    "    \n",
    "    #Normalize\n",
    "    if mms_f == None:\n",
    "        mms = MinMaxScaler()\n",
    "        mms_fit = mms.fit(df_prepared)\n",
    "        df_prepared[df_prepared.columns[:]] = mms_fit.fit_transform(df_prepared)\n",
    "    else: \n",
    "        df_prepared[df_prepared.columns[:]] = mms_fit.fit_transform(df_prepared)\n",
    "\n",
    "    if median == None:\n",
    "        return df_prepared, medians, pt_fit, mms_fit\n",
    "    else:\n",
    "        return df_prepared\n",
    "    "
   ]
  },
  {
   "cell_type": "code",
   "execution_count": 130,
   "metadata": {},
   "outputs": [],
   "source": [
    "# transform traning data\n",
    "train_df = train.copy(deep=True)\n",
    "train_df, medians, pt_fit, mms_fit = preprocess(train_df)"
   ]
  },
  {
   "cell_type": "code",
   "execution_count": 131,
   "metadata": {},
   "outputs": [
    {
     "data": {
      "text/plain": [
       "((92410, 25), (92401, 73))"
      ]
     },
     "execution_count": 131,
     "metadata": {},
     "output_type": "execute_result"
    }
   ],
   "source": [
    "train.shape, train_df.shape\n",
    "#removes 9 outliers"
   ]
  },
  {
   "cell_type": "code",
   "execution_count": 189,
   "metadata": {},
   "outputs": [],
   "source": [
    "# tranform test data\n",
    "test_df = test.copy(deep=True)\n",
    "# use the medians in training set to fill missing values in test days\n",
    "test_df= preprocess(test, medians)"
   ]
  },
  {
   "cell_type": "code",
   "execution_count": 190,
   "metadata": {},
   "outputs": [
    {
     "data": {
      "text/plain": [
       "((17231, 25), (17229, 73))"
      ]
     },
     "execution_count": 190,
     "metadata": {},
     "output_type": "execute_result"
    }
   ],
   "source": [
    "test.shape, test_df.shape\n",
    "#removes 2 outliers"
   ]
  },
  {
   "cell_type": "markdown",
   "metadata": {},
   "source": [
    "# 3. Train Model"
   ]
  },
  {
   "cell_type": "code",
   "execution_count": 191,
   "metadata": {},
   "outputs": [],
   "source": [
    "X_train = train_df.drop(columns = [\"RainTomorrow\"], axis = 1)\n",
    "y_train = train_df[\"RainTomorrow\"]\n",
    "\n",
    "X_test = test_df.drop(columns = [\"RainTomorrow\"], axis = 1)\n",
    "y_test = test_df[\"RainTomorrow\"]"
   ]
  },
  {
   "cell_type": "code",
   "execution_count": 136,
   "metadata": {},
   "outputs": [
    {
     "data": {
      "text/plain": [
       "((92401, 72), (92401,))"
      ]
     },
     "execution_count": 136,
     "metadata": {},
     "output_type": "execute_result"
    }
   ],
   "source": [
    "X_train.shape, y_train.shape"
   ]
  },
  {
   "cell_type": "code",
   "execution_count": 137,
   "metadata": {},
   "outputs": [],
   "source": [
    "# list of columns\n",
    "l = X_train.columns"
   ]
  },
  {
   "cell_type": "code",
   "execution_count": 193,
   "metadata": {},
   "outputs": [
    {
     "data": {
      "text/plain": [
       "((17229, 72), (17229,))"
      ]
     },
     "execution_count": 193,
     "metadata": {},
     "output_type": "execute_result"
    }
   ],
   "source": [
    "X_test.shape, y_test.shape"
   ]
  },
  {
   "cell_type": "markdown",
   "metadata": {},
   "source": [
    "### Different CV methods"
   ]
  },
  {
   "cell_type": "markdown",
   "metadata": {},
   "source": [
    "# PCA"
   ]
  },
  {
   "cell_type": "code",
   "execution_count": 139,
   "metadata": {},
   "outputs": [
    {
     "data": {
      "text/html": [
       "<div>\n",
       "<style scoped>\n",
       "    .dataframe tbody tr th:only-of-type {\n",
       "        vertical-align: middle;\n",
       "    }\n",
       "\n",
       "    .dataframe tbody tr th {\n",
       "        vertical-align: top;\n",
       "    }\n",
       "\n",
       "    .dataframe thead th {\n",
       "        text-align: right;\n",
       "    }\n",
       "</style>\n",
       "<table border=\"1\" class=\"dataframe\">\n",
       "  <thead>\n",
       "    <tr style=\"text-align: right;\">\n",
       "      <th></th>\n",
       "      <th>0</th>\n",
       "      <th>1</th>\n",
       "      <th>2</th>\n",
       "      <th>3</th>\n",
       "      <th>4</th>\n",
       "      <th>5</th>\n",
       "      <th>6</th>\n",
       "      <th>7</th>\n",
       "      <th>8</th>\n",
       "      <th>9</th>\n",
       "      <th>...</th>\n",
       "      <th>49</th>\n",
       "      <th>50</th>\n",
       "      <th>51</th>\n",
       "      <th>52</th>\n",
       "      <th>53</th>\n",
       "      <th>54</th>\n",
       "      <th>55</th>\n",
       "      <th>56</th>\n",
       "      <th>57</th>\n",
       "      <th>58</th>\n",
       "    </tr>\n",
       "  </thead>\n",
       "  <tbody>\n",
       "    <tr>\n",
       "      <th>0</th>\n",
       "      <td>1.346039</td>\n",
       "      <td>0.178185</td>\n",
       "      <td>0.735945</td>\n",
       "      <td>0.083805</td>\n",
       "      <td>1.381676</td>\n",
       "      <td>-0.710627</td>\n",
       "      <td>-0.309919</td>\n",
       "      <td>0.528818</td>\n",
       "      <td>-0.678838</td>\n",
       "      <td>0.903599</td>\n",
       "      <td>...</td>\n",
       "      <td>-0.182973</td>\n",
       "      <td>-0.147009</td>\n",
       "      <td>0.039386</td>\n",
       "      <td>1.375426</td>\n",
       "      <td>0.918660</td>\n",
       "      <td>3.296175</td>\n",
       "      <td>0.146573</td>\n",
       "      <td>0.337501</td>\n",
       "      <td>-0.945428</td>\n",
       "      <td>0.526036</td>\n",
       "    </tr>\n",
       "    <tr>\n",
       "      <th>1</th>\n",
       "      <td>1.394591</td>\n",
       "      <td>-0.525180</td>\n",
       "      <td>0.753263</td>\n",
       "      <td>0.057371</td>\n",
       "      <td>1.397473</td>\n",
       "      <td>-0.624881</td>\n",
       "      <td>-0.352933</td>\n",
       "      <td>0.686289</td>\n",
       "      <td>-0.980180</td>\n",
       "      <td>0.568253</td>\n",
       "      <td>...</td>\n",
       "      <td>-0.047650</td>\n",
       "      <td>-0.136383</td>\n",
       "      <td>-0.006629</td>\n",
       "      <td>0.979328</td>\n",
       "      <td>-0.509692</td>\n",
       "      <td>-0.095468</td>\n",
       "      <td>-0.262022</td>\n",
       "      <td>-0.428107</td>\n",
       "      <td>0.067683</td>\n",
       "      <td>-0.360811</td>\n",
       "    </tr>\n",
       "    <tr>\n",
       "      <th>2</th>\n",
       "      <td>1.415153</td>\n",
       "      <td>-0.508081</td>\n",
       "      <td>0.731580</td>\n",
       "      <td>0.068475</td>\n",
       "      <td>1.392415</td>\n",
       "      <td>-0.516084</td>\n",
       "      <td>-0.239965</td>\n",
       "      <td>0.685719</td>\n",
       "      <td>-0.849579</td>\n",
       "      <td>0.158131</td>\n",
       "      <td>...</td>\n",
       "      <td>-0.047097</td>\n",
       "      <td>0.037584</td>\n",
       "      <td>0.054666</td>\n",
       "      <td>1.765386</td>\n",
       "      <td>-0.559218</td>\n",
       "      <td>-0.233894</td>\n",
       "      <td>-0.357974</td>\n",
       "      <td>-0.879403</td>\n",
       "      <td>0.400896</td>\n",
       "      <td>-0.719876</td>\n",
       "    </tr>\n",
       "    <tr>\n",
       "      <th>3</th>\n",
       "      <td>1.421197</td>\n",
       "      <td>-0.574921</td>\n",
       "      <td>0.704480</td>\n",
       "      <td>0.052249</td>\n",
       "      <td>1.382108</td>\n",
       "      <td>-0.408526</td>\n",
       "      <td>-0.114401</td>\n",
       "      <td>0.681554</td>\n",
       "      <td>-0.994170</td>\n",
       "      <td>0.007929</td>\n",
       "      <td>...</td>\n",
       "      <td>0.067416</td>\n",
       "      <td>0.295496</td>\n",
       "      <td>-0.377593</td>\n",
       "      <td>-0.718024</td>\n",
       "      <td>-0.960554</td>\n",
       "      <td>0.411307</td>\n",
       "      <td>-0.188331</td>\n",
       "      <td>-0.279341</td>\n",
       "      <td>-0.179772</td>\n",
       "      <td>-0.526219</td>\n",
       "    </tr>\n",
       "    <tr>\n",
       "      <th>4</th>\n",
       "      <td>1.368545</td>\n",
       "      <td>0.380595</td>\n",
       "      <td>0.652472</td>\n",
       "      <td>0.090313</td>\n",
       "      <td>1.360313</td>\n",
       "      <td>-0.598356</td>\n",
       "      <td>-0.065687</td>\n",
       "      <td>0.319157</td>\n",
       "      <td>-0.203650</td>\n",
       "      <td>1.115444</td>\n",
       "      <td>...</td>\n",
       "      <td>-0.209442</td>\n",
       "      <td>-0.306570</td>\n",
       "      <td>0.024323</td>\n",
       "      <td>0.877367</td>\n",
       "      <td>1.597874</td>\n",
       "      <td>4.081338</td>\n",
       "      <td>0.344203</td>\n",
       "      <td>0.247796</td>\n",
       "      <td>-0.675862</td>\n",
       "      <td>0.542303</td>\n",
       "    </tr>\n",
       "    <tr>\n",
       "      <th>...</th>\n",
       "      <td>...</td>\n",
       "      <td>...</td>\n",
       "      <td>...</td>\n",
       "      <td>...</td>\n",
       "      <td>...</td>\n",
       "      <td>...</td>\n",
       "      <td>...</td>\n",
       "      <td>...</td>\n",
       "      <td>...</td>\n",
       "      <td>...</td>\n",
       "      <td>...</td>\n",
       "      <td>...</td>\n",
       "      <td>...</td>\n",
       "      <td>...</td>\n",
       "      <td>...</td>\n",
       "      <td>...</td>\n",
       "      <td>...</td>\n",
       "      <td>...</td>\n",
       "      <td>...</td>\n",
       "      <td>...</td>\n",
       "      <td>...</td>\n",
       "    </tr>\n",
       "    <tr>\n",
       "      <th>92396</th>\n",
       "      <td>-0.934133</td>\n",
       "      <td>-0.843946</td>\n",
       "      <td>-0.414420</td>\n",
       "      <td>-0.182381</td>\n",
       "      <td>-1.353151</td>\n",
       "      <td>1.035746</td>\n",
       "      <td>-0.350931</td>\n",
       "      <td>-0.780558</td>\n",
       "      <td>-1.450700</td>\n",
       "      <td>-0.592574</td>\n",
       "      <td>...</td>\n",
       "      <td>0.241559</td>\n",
       "      <td>0.315049</td>\n",
       "      <td>-0.238651</td>\n",
       "      <td>-1.064289</td>\n",
       "      <td>-2.649759</td>\n",
       "      <td>1.305398</td>\n",
       "      <td>2.703184</td>\n",
       "      <td>-0.907444</td>\n",
       "      <td>5.893295</td>\n",
       "      <td>7.606908</td>\n",
       "    </tr>\n",
       "    <tr>\n",
       "      <th>92397</th>\n",
       "      <td>-0.925669</td>\n",
       "      <td>-0.875338</td>\n",
       "      <td>-0.387281</td>\n",
       "      <td>-0.168957</td>\n",
       "      <td>-1.342582</td>\n",
       "      <td>1.143385</td>\n",
       "      <td>-0.347984</td>\n",
       "      <td>-0.629060</td>\n",
       "      <td>-1.678406</td>\n",
       "      <td>-0.555519</td>\n",
       "      <td>...</td>\n",
       "      <td>0.234309</td>\n",
       "      <td>0.203279</td>\n",
       "      <td>-0.191137</td>\n",
       "      <td>-0.919217</td>\n",
       "      <td>-2.895269</td>\n",
       "      <td>1.393323</td>\n",
       "      <td>2.606934</td>\n",
       "      <td>-1.052443</td>\n",
       "      <td>5.972626</td>\n",
       "      <td>7.388041</td>\n",
       "    </tr>\n",
       "    <tr>\n",
       "      <th>92398</th>\n",
       "      <td>-0.928308</td>\n",
       "      <td>-0.869638</td>\n",
       "      <td>-0.366381</td>\n",
       "      <td>-0.164525</td>\n",
       "      <td>-1.331580</td>\n",
       "      <td>1.118689</td>\n",
       "      <td>-0.407777</td>\n",
       "      <td>-0.549118</td>\n",
       "      <td>-1.776255</td>\n",
       "      <td>0.096783</td>\n",
       "      <td>...</td>\n",
       "      <td>0.145405</td>\n",
       "      <td>-0.224194</td>\n",
       "      <td>0.024117</td>\n",
       "      <td>-0.424785</td>\n",
       "      <td>-2.609629</td>\n",
       "      <td>1.297137</td>\n",
       "      <td>2.726344</td>\n",
       "      <td>-0.594834</td>\n",
       "      <td>5.548255</td>\n",
       "      <td>7.953422</td>\n",
       "    </tr>\n",
       "    <tr>\n",
       "      <th>92399</th>\n",
       "      <td>-0.919388</td>\n",
       "      <td>-0.868083</td>\n",
       "      <td>-0.354308</td>\n",
       "      <td>-0.157212</td>\n",
       "      <td>-1.328202</td>\n",
       "      <td>1.184531</td>\n",
       "      <td>-0.355380</td>\n",
       "      <td>-0.545134</td>\n",
       "      <td>-1.762606</td>\n",
       "      <td>0.330099</td>\n",
       "      <td>...</td>\n",
       "      <td>0.124111</td>\n",
       "      <td>-0.466485</td>\n",
       "      <td>0.123070</td>\n",
       "      <td>-0.326946</td>\n",
       "      <td>-2.534298</td>\n",
       "      <td>1.250153</td>\n",
       "      <td>2.674129</td>\n",
       "      <td>-0.825884</td>\n",
       "      <td>5.795153</td>\n",
       "      <td>7.735508</td>\n",
       "    </tr>\n",
       "    <tr>\n",
       "      <th>92400</th>\n",
       "      <td>-0.903975</td>\n",
       "      <td>-0.866004</td>\n",
       "      <td>-0.361811</td>\n",
       "      <td>-0.154386</td>\n",
       "      <td>-1.340472</td>\n",
       "      <td>1.294269</td>\n",
       "      <td>-0.246081</td>\n",
       "      <td>-0.585971</td>\n",
       "      <td>-1.656632</td>\n",
       "      <td>-0.461162</td>\n",
       "      <td>...</td>\n",
       "      <td>0.200979</td>\n",
       "      <td>0.080260</td>\n",
       "      <td>-0.044670</td>\n",
       "      <td>-0.159918</td>\n",
       "      <td>-2.734962</td>\n",
       "      <td>1.274677</td>\n",
       "      <td>2.773722</td>\n",
       "      <td>-1.140923</td>\n",
       "      <td>6.038047</td>\n",
       "      <td>7.473801</td>\n",
       "    </tr>\n",
       "  </tbody>\n",
       "</table>\n",
       "<p>92401 rows × 59 columns</p>\n",
       "</div>"
      ],
      "text/plain": [
       "             0         1         2         3         4         5         6   \\\n",
       "0      1.346039  0.178185  0.735945  0.083805  1.381676 -0.710627 -0.309919   \n",
       "1      1.394591 -0.525180  0.753263  0.057371  1.397473 -0.624881 -0.352933   \n",
       "2      1.415153 -0.508081  0.731580  0.068475  1.392415 -0.516084 -0.239965   \n",
       "3      1.421197 -0.574921  0.704480  0.052249  1.382108 -0.408526 -0.114401   \n",
       "4      1.368545  0.380595  0.652472  0.090313  1.360313 -0.598356 -0.065687   \n",
       "...         ...       ...       ...       ...       ...       ...       ...   \n",
       "92396 -0.934133 -0.843946 -0.414420 -0.182381 -1.353151  1.035746 -0.350931   \n",
       "92397 -0.925669 -0.875338 -0.387281 -0.168957 -1.342582  1.143385 -0.347984   \n",
       "92398 -0.928308 -0.869638 -0.366381 -0.164525 -1.331580  1.118689 -0.407777   \n",
       "92399 -0.919388 -0.868083 -0.354308 -0.157212 -1.328202  1.184531 -0.355380   \n",
       "92400 -0.903975 -0.866004 -0.361811 -0.154386 -1.340472  1.294269 -0.246081   \n",
       "\n",
       "             7         8         9   ...        49        50        51  \\\n",
       "0      0.528818 -0.678838  0.903599  ... -0.182973 -0.147009  0.039386   \n",
       "1      0.686289 -0.980180  0.568253  ... -0.047650 -0.136383 -0.006629   \n",
       "2      0.685719 -0.849579  0.158131  ... -0.047097  0.037584  0.054666   \n",
       "3      0.681554 -0.994170  0.007929  ...  0.067416  0.295496 -0.377593   \n",
       "4      0.319157 -0.203650  1.115444  ... -0.209442 -0.306570  0.024323   \n",
       "...         ...       ...       ...  ...       ...       ...       ...   \n",
       "92396 -0.780558 -1.450700 -0.592574  ...  0.241559  0.315049 -0.238651   \n",
       "92397 -0.629060 -1.678406 -0.555519  ...  0.234309  0.203279 -0.191137   \n",
       "92398 -0.549118 -1.776255  0.096783  ...  0.145405 -0.224194  0.024117   \n",
       "92399 -0.545134 -1.762606  0.330099  ...  0.124111 -0.466485  0.123070   \n",
       "92400 -0.585971 -1.656632 -0.461162  ...  0.200979  0.080260 -0.044670   \n",
       "\n",
       "             52        53        54        55        56        57        58  \n",
       "0      1.375426  0.918660  3.296175  0.146573  0.337501 -0.945428  0.526036  \n",
       "1      0.979328 -0.509692 -0.095468 -0.262022 -0.428107  0.067683 -0.360811  \n",
       "2      1.765386 -0.559218 -0.233894 -0.357974 -0.879403  0.400896 -0.719876  \n",
       "3     -0.718024 -0.960554  0.411307 -0.188331 -0.279341 -0.179772 -0.526219  \n",
       "4      0.877367  1.597874  4.081338  0.344203  0.247796 -0.675862  0.542303  \n",
       "...         ...       ...       ...       ...       ...       ...       ...  \n",
       "92396 -1.064289 -2.649759  1.305398  2.703184 -0.907444  5.893295  7.606908  \n",
       "92397 -0.919217 -2.895269  1.393323  2.606934 -1.052443  5.972626  7.388041  \n",
       "92398 -0.424785 -2.609629  1.297137  2.726344 -0.594834  5.548255  7.953422  \n",
       "92399 -0.326946 -2.534298  1.250153  2.674129 -0.825884  5.795153  7.735508  \n",
       "92400 -0.159918 -2.734962  1.274677  2.773722 -1.140923  6.038047  7.473801  \n",
       "\n",
       "[92401 rows x 59 columns]"
      ]
     },
     "execution_count": 139,
     "metadata": {},
     "output_type": "execute_result"
    }
   ],
   "source": [
    "from sklearn.decomposition import PCA\n",
    "\n",
    "pca = PCA(0.99, whiten=True)\n",
    "pac_train = pca.fit(X_train)\n",
    "principalComponents = pac_train.transform(X_train)\n",
    "#fit-train, transform-test\n",
    "X_train_PCA = pd.DataFrame(data = principalComponents)\n",
    "X_train_PCA"
   ]
  },
  {
   "cell_type": "markdown",
   "metadata": {},
   "source": [
    "# use 15 most Important features based on coefficient"
   ]
  },
  {
   "cell_type": "code",
   "execution_count": 146,
   "metadata": {},
   "outputs": [],
   "source": [
    "def cv_important_features(clf, clf_coef= None):\n",
    "    \n",
    "    # if random forest\n",
    "    if clf_coef:\n",
    "        coef = clf.feature_importances_\n",
    "        coef = list(coef.reshape(coef.shape[0],))\n",
    "    else: \n",
    "        coef = np.round(clf.coef_,2)\n",
    "        coef = list(coef.reshape(coef.shape[1],))\n",
    "    l = X_train.columns\n",
    "\n",
    "    d = {} \n",
    "    for key in l: \n",
    "        for value in coef: \n",
    "            d[key] = value \n",
    "            coef.remove(value) \n",
    "            break\n",
    "\n",
    "    predictor_coef = {k: v for k, v in sorted(d.items(), reverse=True, key=lambda item: abs(item[1]))}\n",
    "    # select top 1o features \n",
    "    impt_15f= [k for k,v in predictor_coef.items()][:15]\n",
    "    impt_10f = impt_15f[:10]\n",
    "    \n",
    "    # compared wiht cv using top 10 features\n",
    "    start_time_sgd_impt = time.time()\n",
    "    scores_10impt = cross_val_score(clf, X_train[impt_10f], y_train, cv=5, scoring=\"accuracy\")\n",
    "    print(\"Took  %s seconds  for 5-fold CV using 10 most important features\" % round((time.time() - start_time_sgd_impt),2))\n",
    "    print(\"cv scores using 15 most important features:\",scores_10impt,)\n",
    "    avg_scores_10 = scores_10impt.mean()\n",
    "    print('Average score:', avg_scores_10)\n",
    "    print()\n",
    "    \n",
    "    # compared wiht cv using top 15 features\n",
    "    start_time_sgd_impt = time.time()\n",
    "    scores_impt = cross_val_score(clf, X_train[impt_15f], y_train, cv=5, scoring=\"accuracy\")\n",
    "    print(\"Took  %s seconds  for 5-fold CV using 15 most important features\" % round((time.time() - start_time_sgd_impt),2))\n",
    "    print(\"cv scores using 15 most important features:\",scores_10impt,)\n",
    "    avg_scores = scores_impt.mean()\n",
    "    print('Average score:', avg_scores)\n",
    "    print()\n",
    "    \n",
    "    # compared wiht cv using all features\n",
    "    start_time = time.time()\n",
    "    scores_all = cross_val_score(clf, X_train, y_train, cv=5, scoring='accuracy')\n",
    "    print(\"Took %s seconds for 5-fold CV using all feature\" % round((time.time() - start_time),2))\n",
    "    print(\"cv scores using all features:\",scores_all)\n",
    "    avg_scores_all = scores_all.mean()\n",
    "    print('Average score:', avg_scores_all)\n",
    "    print()\n",
    "    \n",
    "    diff = round((avg_scores - avg_scores_all)*100,2)\n",
    "    diff10 = round((avg_scores_10 - avg_scores)*100,2)\n",
    "    if (diff>=0):\n",
    "        print('Using most important 15 features IMPROVED average CV accuracy by '+str(diff)+' %')\n",
    "        if  diff10 > 0:\n",
    "            print('AND using most important 10 features IMPROVED average CV accuracy by '+str(diff10+diff)+' %')    \n",
    "    else:\n",
    "        print('Using most important 15 features decresed average CV accuracy by '+str(diff)+' %')\n",
    "    \n",
    "    return predictor_coef, impt_15f, scores_impt, scores_all"
   ]
  },
  {
   "cell_type": "code",
   "execution_count": 147,
   "metadata": {},
   "outputs": [
    {
     "name": "stdout",
     "output_type": "stream",
     "text": [
      "Took  0.77 seconds  for 5-fold CV using 10 most important features\n",
      "cv scores using 15 most important features: [0.82733618 0.81168831 0.83333333 0.82900433 0.84015152]\n",
      "Average score: 0.8283027344568928\n",
      "\n",
      "Took  0.88 seconds  for 5-fold CV using 15 most important features\n",
      "cv scores using 15 most important features: [0.82733618 0.81168831 0.83333333 0.82900433 0.84015152]\n",
      "Average score: 0.8305321552894736\n",
      "\n",
      "Took 2.07 seconds for 5-fold CV using all feature\n",
      "cv scores using all features: [0.82327796 0.80286797 0.76650433 0.76850649 0.84334416]\n",
      "Average score: 0.8009001809744465\n",
      "\n",
      "Using most important 15 features IMPROVED average CV accuracy by 2.96 %\n"
     ]
    }
   ],
   "source": [
    "predictor_coef_sgd, impt_15f_sgd, scores_impt_sgd, scores_all_sgd = cv_important_features(sgd_clf)"
   ]
  },
  {
   "cell_type": "markdown",
   "metadata": {},
   "source": [
    "# Logistic Regression"
   ]
  },
  {
   "cell_type": "code",
   "execution_count": 168,
   "metadata": {},
   "outputs": [
    {
     "data": {
      "text/plain": [
       "0.83986104046493"
      ]
     },
     "execution_count": 168,
     "metadata": {},
     "output_type": "execute_result"
    }
   ],
   "source": [
    "clf_lr = LogisticRegression(C=1, penalty='l1', solver='liblinear')\n",
    "clf_lr.fit(X_train, y_train)\n",
    "#Predict Output\n",
    "y_pred_lr= clf_lr.predict(X_train) \n",
    "accuracy_score(y_train,y_pred_lr)"
   ]
  },
  {
   "cell_type": "code",
   "execution_count": 197,
   "metadata": {},
   "outputs": [
    {
     "data": {
      "text/plain": [
       "Index(['Cairns', 'MountGambier', 'Newcastle'], dtype='object')"
      ]
     },
     "execution_count": 197,
     "metadata": {},
     "output_type": "execute_result"
    }
   ],
   "source": [
    "# see the features removed by lasso\n",
    "sel_ = SelectFromModel(LogisticRegression(C=1, penalty='l1', solver='liblinear')).fit(X_train, y_train)\n",
    "lasso_removed_feats = X_train.columns[(sel_.estimator_.coef_ == 0).ravel().tolist()]\n",
    "lasso_removed_feats"
   ]
  },
  {
   "cell_type": "code",
   "execution_count": null,
   "metadata": {},
   "outputs": [],
   "source": [
    "# X_train_selected = sel_.transform(X_train)\n",
    "# X_test_selected = sel_.transform(X_test)\n",
    "# X_train_selected.shape, X_test_selected.shape"
   ]
  },
  {
   "cell_type": "code",
   "execution_count": 171,
   "metadata": {},
   "outputs": [
    {
     "name": "stdout",
     "output_type": "stream",
     "text": [
      "Took 54.71 seconds for 5-fold CV using all feature\n"
     ]
    },
    {
     "data": {
      "text/plain": [
       "array([0.82344029, 0.74832251, 0.76455628, 0.75719697, 0.84123377])"
      ]
     },
     "execution_count": 171,
     "metadata": {},
     "output_type": "execute_result"
    }
   ],
   "source": [
    "start_time = time.time()\n",
    "scores = cross_val_score(clf_lr, X_train, y_train, cv=5, scoring='accuracy')\n",
    "print(\"Took %s seconds for 5-fold CV using all feature\" % round((time.time() - start_time),2))\n",
    "scores"
   ]
  },
  {
   "cell_type": "code",
   "execution_count": 172,
   "metadata": {},
   "outputs": [
    {
     "data": {
      "text/plain": [
       "0.786949962767424"
      ]
     },
     "execution_count": 172,
     "metadata": {},
     "output_type": "execute_result"
    }
   ],
   "source": [
    "scores.mean()"
   ]
  },
  {
   "cell_type": "code",
   "execution_count": 169,
   "metadata": {
    "scrolled": true
   },
   "outputs": [
    {
     "name": "stdout",
     "output_type": "stream",
     "text": [
      "Took  8.32 seconds  for 5-fold CV using 10 most important features\n",
      "cv scores using 15 most important features: [0.82755262 0.81201299 0.8387987  0.83019481 0.84193723]\n",
      "Average score: 0.8300992689110215\n",
      "\n",
      "Took  11.29 seconds  for 5-fold CV using 15 most important features\n",
      "cv scores using 15 most important features: [0.82755262 0.81201299 0.8387987  0.83019481 0.84193723]\n",
      "Average score: 0.8354022617355229\n",
      "\n",
      "Took 53.81 seconds for 5-fold CV using all feature\n",
      "cv scores using all features: [0.82647043 0.74810606 0.76450216 0.75795455 0.84074675]\n",
      "Average score: 0.7875559905797717\n",
      "\n",
      "Using most important 15 features IMPROVED average CV accuracy by 4.78 %\n"
     ]
    }
   ],
   "source": [
    "predictor_coef_lr, impt_15f_lr, scores_impt_lr, scores_all_lr = cv_important_features(clf_lr)"
   ]
  },
  {
   "cell_type": "code",
   "execution_count": 170,
   "metadata": {},
   "outputs": [
    {
     "data": {
      "text/plain": [
       "['Humidity3pm',\n",
       " 'Pressure3pm',\n",
       " 'MinTemp',\n",
       " 'Wind9amY',\n",
       " 'Wind9amX',\n",
       " 'daysin',\n",
       " 'lat',\n",
       " 'Wind3pmX',\n",
       " 'daycos',\n",
       " 'Wind3pmY',\n",
       " 'yearcos',\n",
       " 'WindGustY',\n",
       " 'Wollongong',\n",
       " 'WindGustX',\n",
       " 'Rainfall']"
      ]
     },
     "execution_count": 170,
     "metadata": {},
     "output_type": "execute_result"
    }
   ],
   "source": [
    "impt_15f_lr"
   ]
  },
  {
   "cell_type": "markdown",
   "metadata": {},
   "source": [
    "# SVC"
   ]
  },
  {
   "cell_type": "code",
   "execution_count": 183,
   "metadata": {},
   "outputs": [
    {
     "data": {
      "text/plain": [
       "0.8420471639917317"
      ]
     },
     "execution_count": 183,
     "metadata": {},
     "output_type": "execute_result"
    }
   ],
   "source": [
    "# small C means high tolerance of misclassification\n",
    "clf_svc = svm.SVC(kernel='linear', C=1)\n",
    "\n",
    "clf_svc.fit(X_train, y_train)\n",
    "#Predict Output\n",
    "predicted= clf_svc.predict(X_train) \n",
    "accuracy_score(y_train,y_pred)\n",
    "# start_time = time.time()\n",
    "# scores_svc = cross_val_score(clf_svc, X_train, y_train, cv=3, scoring='accuracy')\n",
    "# print(\"SVC took--- %s seconds ---\" % round((time.time() - start_time),2))\n",
    "# scores_svc"
   ]
  },
  {
   "cell_type": "code",
   "execution_count": 400,
   "metadata": {},
   "outputs": [
    {
     "data": {
      "image/png": "[encoded data removed]",
      "text/plain": [
       "<Figure size 432x288 with 1 Axes>"
      ]
     },
     "metadata": {
      "needs_background": "light"
     },
     "output_type": "display_data"
    }
   ],
   "source": [
    "from sklearn.metrics import plot_roc_curve\n",
    "\n",
    "svc_disp = plot_roc_curve(clf, X_train, y_train)\n",
    "plt.show()"
   ]
  },
  {
   "cell_type": "code",
   "execution_count": 373,
   "metadata": {},
   "outputs": [
    {
     "data": {
      "text/plain": [
       "array([[68741,  3012],\n",
       "       [11782,  8875]])"
      ]
     },
     "execution_count": 373,
     "metadata": {},
     "output_type": "execute_result"
    }
   ],
   "source": [
    "cm = confusion_matrix(y_train, predicted)\n",
    "cm"
   ]
  },
  {
   "cell_type": "code",
   "execution_count": 184,
   "metadata": {
    "scrolled": true
   },
   "outputs": [
    {
     "name": "stdout",
     "output_type": "stream",
     "text": [
      "Took  323.01 seconds  for 5-fold CV using 10 most important features\n",
      "cv scores using 15 most important features: [0.82814783 0.81060606 0.83874459 0.83095238 0.84090909]\n",
      "Average score: 0.8298719897421266\n",
      "\n",
      "Took  361.04 seconds  for 5-fold CV using 15 most important features\n",
      "cv scores using 15 most important features: [0.82814783 0.81060606 0.83874459 0.83095238 0.84090909]\n",
      "Average score: 0.8359325501257755\n",
      "\n",
      "Took 1401.88 seconds for 5-fold CV using all feature\n",
      "cv scores using all features: [0.8268492  0.7538961  0.76920996 0.75692641 0.8387987 ]\n",
      "Average score: 0.7891360730606441\n",
      "\n",
      "Using most important 15 features IMPROVED average CV accuracy by 4.68 %\n"
     ]
    }
   ],
   "source": [
    "predictor_coef_svc, impt_15f_svc, scores_impt_svc, scores_all_svc = cv_important_features(clf_svc)"
   ]
  },
  {
   "cell_type": "markdown",
   "metadata": {},
   "source": [
    "# KNN"
   ]
  },
  {
   "cell_type": "code",
   "execution_count": 837,
   "metadata": {},
   "outputs": [
    {
     "data": {
      "text/plain": [
       "0.8711070230494535"
      ]
     },
     "execution_count": 837,
     "metadata": {},
     "output_type": "execute_result"
    }
   ],
   "source": [
    "from sklearn.neighbors import KNeighborsClassifier\n",
    "\n",
    "knn = KNeighborsClassifier(n_neighbors=5)\n",
    "knn.fit(X_train, y_train)\n",
    "#Predict Output\n",
    "y_pred_knn= knn.predict(X_train) \n",
    "accuracy_score(y_train,y_pred_knn)"
   ]
  },
  {
   "cell_type": "code",
   "execution_count": 372,
   "metadata": {},
   "outputs": [
    {
     "data": {
      "text/plain": [
       "array([[69611,  2142],\n",
       "       [ 7515, 13142]])"
      ]
     },
     "execution_count": 372,
     "metadata": {},
     "output_type": "execute_result"
    }
   ],
   "source": [
    "cm = confusion_matrix(y_train, y_pred_knn)\n",
    "cm"
   ]
  },
  {
   "cell_type": "code",
   "execution_count": 832,
   "metadata": {},
   "outputs": [
    {
     "name": "stdout",
     "output_type": "stream",
     "text": [
      "KNN took--- 333.43 seconds ---\n"
     ]
    },
    {
     "data": {
      "text/plain": [
       "array([0.80721783, 0.76674602, 0.74770047, 0.7544097 , 0.82177254])"
      ]
     },
     "execution_count": 832,
     "metadata": {},
     "output_type": "execute_result"
    }
   ],
   "source": [
    "# # This one used 3 neighbors, overfit\n",
    "# start_time = time.time()\n",
    "\n",
    "# scores = cross_val_score(knn3, X_train, y_train, cv=5, scoring='accuracy')\n",
    "\n",
    "# print(\"KNN took--- %s seconds ---\" % round((time.time() - start_time),2))\n",
    "# scores"
   ]
  },
  {
   "cell_type": "code",
   "execution_count": 839,
   "metadata": {},
   "outputs": [
    {
     "name": "stdout",
     "output_type": "stream",
     "text": [
      "KNN took--- 277.05 seconds ---\n"
     ]
    },
    {
     "data": {
      "text/plain": [
       "array([0.80346708, 0.75820537, 0.81602441])"
      ]
     },
     "execution_count": 839,
     "metadata": {},
     "output_type": "execute_result"
    }
   ],
   "source": [
    "start_time = time.time()\n",
    "\n",
    "scores_5 = cross_val_score(knn, X_train[], y_train, cv=3, scoring='accuracy')\n",
    "\n",
    "print(\"KNN took--- %s seconds ---\" % round((time.time() - start_time),2))\n",
    "scores_5"
   ]
  },
  {
   "cell_type": "code",
   "execution_count": 203,
   "metadata": {},
   "outputs": [],
   "source": [
    "# # use 15 most important features\n",
    "# start_time = time.time()\n",
    "\n",
    "# scores_5 = cross_val_score(knn, X_train[impt_15f_sgd], y_train, cv=3, scoring='accuracy')\n",
    "\n",
    "# print(\"KNN took--- %s seconds ---\" % round((time.time() - start_time),2))\n",
    "# scores_5"
   ]
  },
  {
   "cell_type": "markdown",
   "metadata": {},
   "source": [
    "# Random Forest"
   ]
  },
  {
   "cell_type": "code",
   "execution_count": 173,
   "metadata": {},
   "outputs": [
    {
     "data": {
      "text/plain": [
       "0.8420471639917317"
      ]
     },
     "execution_count": 173,
     "metadata": {},
     "output_type": "execute_result"
    }
   ],
   "source": [
    "from sklearn.ensemble import RandomForestClassifier\n",
    "\n",
    "#random forest\n",
    "rfc=RandomForestClassifier(random_state=42, max_features='auto', n_estimators= 200, max_depth=8, criterion='gini')\n",
    "\n",
    "rfc.fit(X_train, y_train)\n",
    "y_pred=rfc.predict(X_train)\n",
    "accuracy_score(y_train,y_pred)"
   ]
  },
  {
   "cell_type": "code",
   "execution_count": 174,
   "metadata": {},
   "outputs": [
    {
     "data": {
      "text/plain": [
       "array([[70305,  1448],\n",
       "       [13147,  7501]])"
      ]
     },
     "execution_count": 174,
     "metadata": {},
     "output_type": "execute_result"
    }
   ],
   "source": [
    "cm = confusion_matrix(y_train, y_pred)\n",
    "cm"
   ]
  },
  {
   "cell_type": "code",
   "execution_count": 784,
   "metadata": {},
   "outputs": [
    {
     "name": "stdout",
     "output_type": "stream",
     "text": [
      "RF took--- 64.56 seconds ---\n"
     ]
    },
    {
     "data": {
      "text/plain": [
       "array([0.82653392, 0.82739963, 0.81895899, 0.79444865, 0.8336219 ])"
      ]
     },
     "execution_count": 784,
     "metadata": {},
     "output_type": "execute_result"
    }
   ],
   "source": [
    "start_time = time.time()\n",
    "scores_rfc = cross_val_score(rfc, X_train, y_train, cv=5, scoring='accuracy')\n",
    "print(\"RF took--- %s seconds ---\" % round((time.time() - start_time),2))\n",
    "scores_rfc"
   ]
  },
  {
   "cell_type": "code",
   "execution_count": 804,
   "metadata": {},
   "outputs": [
    {
     "data": {
      "text/plain": [
       "0.8201926198463371"
      ]
     },
     "execution_count": 804,
     "metadata": {},
     "output_type": "execute_result"
    }
   ],
   "source": [
    "scores_rfc.mean()"
   ]
  },
  {
   "cell_type": "code",
   "execution_count": 175,
   "metadata": {},
   "outputs": [
    {
     "name": "stdout",
     "output_type": "stream",
     "text": [
      "Took  55.25 seconds  for 5-fold CV using 10 most important features\n",
      "cv scores using 15 most important features: [0.8414588  0.8288961  0.84145022 0.84312771 0.84431818]\n",
      "Average score: 0.8398502006623861\n",
      "\n",
      "Took  53.64 seconds  for 5-fold CV using 15 most important features\n",
      "cv scores using 15 most important features: [0.8414588  0.8288961  0.84145022 0.84312771 0.84431818]\n",
      "Average score: 0.8388761676611359\n",
      "\n",
      "Took 59.39 seconds for 5-fold CV using all feature\n",
      "cv scores using all features: [0.82863481 0.82862554 0.8142316  0.77575758 0.83306277]\n",
      "Average score: 0.8160624606621848\n",
      "\n",
      "Using most important 15 features IMPROVED average CV accuracy by 2.28 %\n",
      "AND using most important 10 features IMPROVED average CV accuracy by 2.38 %\n"
     ]
    }
   ],
   "source": [
    "predictor_coef_rfc, impt_15f_rfc, scores_impt_rfc, scores_all_rfc = cv_important_features(rfc, 1)"
   ]
  },
  {
   "cell_type": "markdown",
   "metadata": {},
   "source": [
    "# SGD classifier - FAST!\n",
    "\n",
    "#Stochastic Gradient Descent (SGD) classifier. This classifier has the advantage of being capable of handling very large datasets efficiently. This is in part because SGD deals with training instances independently, one at a time (which also makes SGD well suited for online learning)."
   ]
  },
  {
   "cell_type": "code",
   "execution_count": 141,
   "metadata": {},
   "outputs": [
    {
     "data": {
      "text/plain": [
       "0.8386813995519529"
      ]
     },
     "execution_count": 141,
     "metadata": {},
     "output_type": "execute_result"
    }
   ],
   "source": [
    "from sklearn.linear_model import SGDClassifier\n",
    "from sklearn.model_selection import cross_val_score\n",
    "\n",
    "sgd_clf = SGDClassifier(random_state=42)\n",
    "\n",
    "sgd_clf.fit(X_train, y_train)\n",
    "y_pred_sgd=sgd_clf.predict(X_train)\n",
    "accuracy_score(y_train,y_pred_sgd)"
   ]
  },
  {
   "cell_type": "code",
   "execution_count": 148,
   "metadata": {},
   "outputs": [
    {
     "name": "stdout",
     "output_type": "stream",
     "text": [
      "Took  0.6 seconds  for 5-fold CV using 10 most important features\n",
      "cv scores using 15 most important features: [0.82733618 0.81168831 0.83333333 0.82900433 0.84015152]\n",
      "Average score: 0.8283027344568928\n",
      "\n",
      "Took  0.8 seconds  for 5-fold CV using 15 most important features\n",
      "cv scores using 15 most important features: [0.82733618 0.81168831 0.83333333 0.82900433 0.84015152]\n",
      "Average score: 0.8305321552894736\n",
      "\n",
      "Took 1.83 seconds for 5-fold CV using all feature\n",
      "cv scores using all features: [0.82327796 0.80286797 0.76650433 0.76850649 0.84334416]\n",
      "Average score: 0.8009001809744465\n",
      "\n",
      "Using most important 15 features IMPROVED average CV accuracy by 2.96 %\n"
     ]
    }
   ],
   "source": [
    "predictor_coef_sgd, impt_15f_sgd, scores_impt_sgd, scores_all_sgd = cv_important_features(sgd_clf)"
   ]
  },
  {
   "cell_type": "markdown",
   "metadata": {},
   "source": [
    "# Select best features"
   ]
  },
  {
   "cell_type": "code",
   "execution_count": null,
   "metadata": {},
   "outputs": [],
   "source": [
    "clf = Pipeline([\n",
    "  ('feature_selection', SelectFromModel(LinearSVC(penalty=\"l1\"))),\n",
    "  ('classification', RandomForestClassifier())\n",
    "])\n",
    "clf.fit(X, y)"
   ]
  },
  {
   "cell_type": "markdown",
   "metadata": {},
   "source": [
    "# based on coeffients"
   ]
  },
  {
   "cell_type": "code",
   "execution_count": 198,
   "metadata": {},
   "outputs": [
    {
     "data": {
      "text/html": [
       "<div>\n",
       "<style scoped>\n",
       "    .dataframe tbody tr th:only-of-type {\n",
       "        vertical-align: middle;\n",
       "    }\n",
       "\n",
       "    .dataframe tbody tr th {\n",
       "        vertical-align: top;\n",
       "    }\n",
       "\n",
       "    .dataframe thead th {\n",
       "        text-align: right;\n",
       "    }\n",
       "</style>\n",
       "<table border=\"1\" class=\"dataframe\">\n",
       "  <thead>\n",
       "    <tr style=\"text-align: right;\">\n",
       "      <th></th>\n",
       "      <th>LReg</th>\n",
       "      <th>SVC</th>\n",
       "      <th>RamF</th>\n",
       "      <th>SGD</th>\n",
       "    </tr>\n",
       "  </thead>\n",
       "  <tbody>\n",
       "    <tr>\n",
       "      <th>0</th>\n",
       "      <td>Humidity3pm</td>\n",
       "      <td>Humidity3pm</td>\n",
       "      <td>Humidity3pm</td>\n",
       "      <td>Humidity3pm</td>\n",
       "    </tr>\n",
       "    <tr>\n",
       "      <th>1</th>\n",
       "      <td>Pressure3pm</td>\n",
       "      <td>Pressure3pm</td>\n",
       "      <td>Rainfall</td>\n",
       "      <td>Pressure3pm</td>\n",
       "    </tr>\n",
       "    <tr>\n",
       "      <th>2</th>\n",
       "      <td>MinTemp</td>\n",
       "      <td>Wind9amY</td>\n",
       "      <td>RainToday</td>\n",
       "      <td>Wind9amY</td>\n",
       "    </tr>\n",
       "    <tr>\n",
       "      <th>3</th>\n",
       "      <td>Wind9amY</td>\n",
       "      <td>Wind3pmY</td>\n",
       "      <td>Humidity9am</td>\n",
       "      <td>MinTemp</td>\n",
       "    </tr>\n",
       "    <tr>\n",
       "      <th>4</th>\n",
       "      <td>Wind9amX</td>\n",
       "      <td>Wind9amX</td>\n",
       "      <td>Pressure3pm</td>\n",
       "      <td>Wind3pmY</td>\n",
       "    </tr>\n",
       "    <tr>\n",
       "      <th>5</th>\n",
       "      <td>daysin</td>\n",
       "      <td>MinTemp</td>\n",
       "      <td>MaxTemp</td>\n",
       "      <td>Wind9amX</td>\n",
       "    </tr>\n",
       "    <tr>\n",
       "      <th>6</th>\n",
       "      <td>lat</td>\n",
       "      <td>Humidity9am</td>\n",
       "      <td>WindGustY</td>\n",
       "      <td>Humidity9am</td>\n",
       "    </tr>\n",
       "    <tr>\n",
       "      <th>7</th>\n",
       "      <td>Wind3pmX</td>\n",
       "      <td>Wind3pmX</td>\n",
       "      <td>WindGustX</td>\n",
       "      <td>Wind3pmX</td>\n",
       "    </tr>\n",
       "    <tr>\n",
       "      <th>8</th>\n",
       "      <td>daycos</td>\n",
       "      <td>Wollongong</td>\n",
       "      <td>MinTemp</td>\n",
       "      <td>Wollongong</td>\n",
       "    </tr>\n",
       "    <tr>\n",
       "      <th>9</th>\n",
       "      <td>Wind3pmY</td>\n",
       "      <td>Townsville</td>\n",
       "      <td>Wind9amX</td>\n",
       "      <td>Townsville</td>\n",
       "    </tr>\n",
       "    <tr>\n",
       "      <th>10</th>\n",
       "      <td>yearcos</td>\n",
       "      <td>WindGustX</td>\n",
       "      <td>lon</td>\n",
       "      <td>WindGustX</td>\n",
       "    </tr>\n",
       "    <tr>\n",
       "      <th>11</th>\n",
       "      <td>WindGustY</td>\n",
       "      <td>NorahHead</td>\n",
       "      <td>Wind3pmX</td>\n",
       "      <td>AliceSprings</td>\n",
       "    </tr>\n",
       "    <tr>\n",
       "      <th>12</th>\n",
       "      <td>Wollongong</td>\n",
       "      <td>Rainfall</td>\n",
       "      <td>lat</td>\n",
       "      <td>NorahHead</td>\n",
       "    </tr>\n",
       "    <tr>\n",
       "      <th>13</th>\n",
       "      <td>WindGustX</td>\n",
       "      <td>Albany</td>\n",
       "      <td>yearcos</td>\n",
       "      <td>Rainfall</td>\n",
       "    </tr>\n",
       "    <tr>\n",
       "      <th>14</th>\n",
       "      <td>Rainfall</td>\n",
       "      <td>yearcos</td>\n",
       "      <td>Wind9amY</td>\n",
       "      <td>daycos</td>\n",
       "    </tr>\n",
       "  </tbody>\n",
       "</table>\n",
       "</div>"
      ],
      "text/plain": [
       "           LReg          SVC         RamF           SGD\n",
       "0   Humidity3pm  Humidity3pm  Humidity3pm   Humidity3pm\n",
       "1   Pressure3pm  Pressure3pm     Rainfall   Pressure3pm\n",
       "2       MinTemp     Wind9amY    RainToday      Wind9amY\n",
       "3      Wind9amY     Wind3pmY  Humidity9am       MinTemp\n",
       "4      Wind9amX     Wind9amX  Pressure3pm      Wind3pmY\n",
       "5        daysin      MinTemp      MaxTemp      Wind9amX\n",
       "6           lat  Humidity9am    WindGustY   Humidity9am\n",
       "7      Wind3pmX     Wind3pmX    WindGustX      Wind3pmX\n",
       "8        daycos   Wollongong      MinTemp    Wollongong\n",
       "9      Wind3pmY   Townsville     Wind9amX    Townsville\n",
       "10      yearcos    WindGustX          lon     WindGustX\n",
       "11    WindGustY    NorahHead     Wind3pmX  AliceSprings\n",
       "12   Wollongong     Rainfall          lat     NorahHead\n",
       "13    WindGustX       Albany      yearcos      Rainfall\n",
       "14     Rainfall      yearcos     Wind9amY        daycos"
      ]
     },
     "execution_count": 198,
     "metadata": {},
     "output_type": "execute_result"
    }
   ],
   "source": [
    "f_top15 = pd.DataFrame(\n",
    "    {'LReg': impt_15f_lr, \n",
    "     'SVC': impt_15f_svc,\n",
    "     'RamF': impt_15f_rfc,\n",
    "     'SGD':impt_15f_sgd\n",
    "    })\n",
    "f_top15"
   ]
  },
  {
   "cell_type": "markdown",
   "metadata": {},
   "source": [
    "### 2. select features based on importance weights."
   ]
  },
  {
   "cell_type": "code",
   "execution_count": 233,
   "metadata": {},
   "outputs": [],
   "source": [
    "from sklearn.feature_selection import RFE\n",
    "\n",
    "# n_features_to_select=1 to rank all features\n",
    "selector = RFE(sgd_clf, n_features_to_select=1, step=1)\n",
    "selector = selector.fit(X_train, y_train)\n",
    "# selector.support_"
   ]
  },
  {
   "cell_type": "code",
   "execution_count": 200,
   "metadata": {},
   "outputs": [],
   "source": [
    "from sklearn.feature_selection import RFE\n",
    "\n",
    "# n_features_to_select=1 to rank all features\n",
    "selector = RFE(sgd_clf, n_features_to_select=1, step=1)\n",
    "selector = selector.fit(X_train, y_train)\n",
    "\n",
    "rank1 = selector.ranking_\n",
    "\n",
    "d1 = {} \n",
    "for key in l: \n",
    "    for value in rank1: \n",
    "        d1[key] = value \n",
    "        np.delete(rank1, np.argwhere(rank1 == 6))\n",
    "        break\n",
    "\n",
    "predictor_rank = {k: v for k, v in sorted(d1.items(), reverse=True, key=lambda item: abs(item[1]))}\n",
    "# select top 10 features \n",
    "impt_15_rfe= [k for k,v in predictor_rank.items()][:15]\n",
    "f_top15['RFE_sgd'] = impt_15_rfe"
   ]
  },
  {
   "cell_type": "markdown",
   "metadata": {},
   "source": [
    "# Most important features"
   ]
  },
  {
   "cell_type": "code",
   "execution_count": 202,
   "metadata": {},
   "outputs": [
    {
     "data": {
      "text/html": [
       "<div>\n",
       "<style scoped>\n",
       "    .dataframe tbody tr th:only-of-type {\n",
       "        vertical-align: middle;\n",
       "    }\n",
       "\n",
       "    .dataframe tbody tr th {\n",
       "        vertical-align: top;\n",
       "    }\n",
       "\n",
       "    .dataframe thead th {\n",
       "        text-align: right;\n",
       "    }\n",
       "</style>\n",
       "<table border=\"1\" class=\"dataframe\">\n",
       "  <thead>\n",
       "    <tr style=\"text-align: right;\">\n",
       "      <th></th>\n",
       "      <th>LReg</th>\n",
       "      <th>SVC</th>\n",
       "      <th>RamF</th>\n",
       "      <th>SGD</th>\n",
       "      <th>RFE_sgd</th>\n",
       "    </tr>\n",
       "  </thead>\n",
       "  <tbody>\n",
       "    <tr>\n",
       "      <th>0</th>\n",
       "      <td>Humidity3pm</td>\n",
       "      <td>Humidity3pm</td>\n",
       "      <td>Humidity3pm</td>\n",
       "      <td>Humidity3pm</td>\n",
       "      <td>MinTemp</td>\n",
       "    </tr>\n",
       "    <tr>\n",
       "      <th>1</th>\n",
       "      <td>Pressure3pm</td>\n",
       "      <td>Pressure3pm</td>\n",
       "      <td>Rainfall</td>\n",
       "      <td>Pressure3pm</td>\n",
       "      <td>MaxTemp</td>\n",
       "    </tr>\n",
       "    <tr>\n",
       "      <th>2</th>\n",
       "      <td>MinTemp</td>\n",
       "      <td>Wind9amY</td>\n",
       "      <td>RainToday</td>\n",
       "      <td>Wind9amY</td>\n",
       "      <td>Rainfall</td>\n",
       "    </tr>\n",
       "    <tr>\n",
       "      <th>3</th>\n",
       "      <td>Wind9amY</td>\n",
       "      <td>Wind3pmY</td>\n",
       "      <td>Humidity9am</td>\n",
       "      <td>MinTemp</td>\n",
       "      <td>Humidity9am</td>\n",
       "    </tr>\n",
       "    <tr>\n",
       "      <th>4</th>\n",
       "      <td>Wind9amX</td>\n",
       "      <td>Wind9amX</td>\n",
       "      <td>Pressure3pm</td>\n",
       "      <td>Wind3pmY</td>\n",
       "      <td>Humidity3pm</td>\n",
       "    </tr>\n",
       "    <tr>\n",
       "      <th>5</th>\n",
       "      <td>daysin</td>\n",
       "      <td>MinTemp</td>\n",
       "      <td>MaxTemp</td>\n",
       "      <td>Wind9amX</td>\n",
       "      <td>Pressure3pm</td>\n",
       "    </tr>\n",
       "    <tr>\n",
       "      <th>6</th>\n",
       "      <td>lat</td>\n",
       "      <td>Humidity9am</td>\n",
       "      <td>WindGustY</td>\n",
       "      <td>Humidity9am</td>\n",
       "      <td>RainToday</td>\n",
       "    </tr>\n",
       "    <tr>\n",
       "      <th>7</th>\n",
       "      <td>Wind3pmX</td>\n",
       "      <td>Wind3pmX</td>\n",
       "      <td>WindGustX</td>\n",
       "      <td>Wind3pmX</td>\n",
       "      <td>lat</td>\n",
       "    </tr>\n",
       "    <tr>\n",
       "      <th>8</th>\n",
       "      <td>daycos</td>\n",
       "      <td>Wollongong</td>\n",
       "      <td>MinTemp</td>\n",
       "      <td>Wollongong</td>\n",
       "      <td>lon</td>\n",
       "    </tr>\n",
       "    <tr>\n",
       "      <th>9</th>\n",
       "      <td>Wind3pmY</td>\n",
       "      <td>Townsville</td>\n",
       "      <td>Wind9amX</td>\n",
       "      <td>Townsville</td>\n",
       "      <td>daysin</td>\n",
       "    </tr>\n",
       "    <tr>\n",
       "      <th>10</th>\n",
       "      <td>yearcos</td>\n",
       "      <td>WindGustX</td>\n",
       "      <td>lon</td>\n",
       "      <td>WindGustX</td>\n",
       "      <td>daycos</td>\n",
       "    </tr>\n",
       "    <tr>\n",
       "      <th>11</th>\n",
       "      <td>WindGustY</td>\n",
       "      <td>NorahHead</td>\n",
       "      <td>Wind3pmX</td>\n",
       "      <td>AliceSprings</td>\n",
       "      <td>yearsin</td>\n",
       "    </tr>\n",
       "    <tr>\n",
       "      <th>12</th>\n",
       "      <td>Wollongong</td>\n",
       "      <td>Rainfall</td>\n",
       "      <td>lat</td>\n",
       "      <td>NorahHead</td>\n",
       "      <td>yearcos</td>\n",
       "    </tr>\n",
       "    <tr>\n",
       "      <th>13</th>\n",
       "      <td>WindGustX</td>\n",
       "      <td>Albany</td>\n",
       "      <td>yearcos</td>\n",
       "      <td>Rainfall</td>\n",
       "      <td>monthsin</td>\n",
       "    </tr>\n",
       "    <tr>\n",
       "      <th>14</th>\n",
       "      <td>Rainfall</td>\n",
       "      <td>yearcos</td>\n",
       "      <td>Wind9amY</td>\n",
       "      <td>daycos</td>\n",
       "      <td>monthcos</td>\n",
       "    </tr>\n",
       "  </tbody>\n",
       "</table>\n",
       "</div>"
      ],
      "text/plain": [
       "           LReg          SVC         RamF           SGD      RFE_sgd\n",
       "0   Humidity3pm  Humidity3pm  Humidity3pm   Humidity3pm      MinTemp\n",
       "1   Pressure3pm  Pressure3pm     Rainfall   Pressure3pm      MaxTemp\n",
       "2       MinTemp     Wind9amY    RainToday      Wind9amY     Rainfall\n",
       "3      Wind9amY     Wind3pmY  Humidity9am       MinTemp  Humidity9am\n",
       "4      Wind9amX     Wind9amX  Pressure3pm      Wind3pmY  Humidity3pm\n",
       "5        daysin      MinTemp      MaxTemp      Wind9amX  Pressure3pm\n",
       "6           lat  Humidity9am    WindGustY   Humidity9am    RainToday\n",
       "7      Wind3pmX     Wind3pmX    WindGustX      Wind3pmX          lat\n",
       "8        daycos   Wollongong      MinTemp    Wollongong          lon\n",
       "9      Wind3pmY   Townsville     Wind9amX    Townsville       daysin\n",
       "10      yearcos    WindGustX          lon     WindGustX       daycos\n",
       "11    WindGustY    NorahHead     Wind3pmX  AliceSprings      yearsin\n",
       "12   Wollongong     Rainfall          lat     NorahHead      yearcos\n",
       "13    WindGustX       Albany      yearcos      Rainfall     monthsin\n",
       "14     Rainfall      yearcos     Wind9amY        daycos     monthcos"
      ]
     },
     "execution_count": 202,
     "metadata": {},
     "output_type": "execute_result"
    }
   ],
   "source": [
    "f_top15"
   ]
  },
  {
   "cell_type": "code",
   "execution_count": 234,
   "metadata": {},
   "outputs": [
    {
     "data": {
      "text/plain": [
       "({'Humidity3pm', 'MinTemp', 'Pressure3pm', 'Rainfall'},\n",
       " {'Humidity3pm': 4,\n",
       "  'Pressure3pm': 4,\n",
       "  'MinTemp': 4,\n",
       "  'Humidity9am': 4,\n",
       "  'Rainfall': 4,\n",
       "  'Wind9amY': 3,\n",
       "  'Wind9amX': 3,\n",
       "  'Wind3pmX': 3,\n",
       "  'WindGustX': 3,\n",
       "  'yearcos': 3,\n",
       "  'Wind3pmY': 2,\n",
       "  'Wollongong': 2,\n",
       "  'Townsville': 2,\n",
       "  'NorahHead': 2,\n",
       "  'RainToday': 2,\n",
       "  'MaxTemp': 2,\n",
       "  'lon': 2,\n",
       "  'lat': 2,\n",
       "  'daycos': 2,\n",
       "  'Albany': 1,\n",
       "  'WindGustY': 1,\n",
       "  'AliceSprings': 1,\n",
       "  'daysin': 1,\n",
       "  'yearsin': 1,\n",
       "  'monthsin': 1,\n",
       "  'monthcos': 1})"
      ]
     },
     "execution_count": 234,
     "metadata": {},
     "output_type": "execute_result"
    }
   ],
   "source": [
    "def longestCommonFeatures(lists):\n",
    "    \n",
    "    l1 = set(lists[0])\n",
    "    ppl = {}\n",
    "    for l in lists[1:]:\n",
    "        common = set(l).intersection(l1)\n",
    "\n",
    "        l1 = common\n",
    "        \n",
    "        for i in l:\n",
    "            if i not in ppl:\n",
    "                ppl[i] = 1\n",
    "            else:\n",
    "                ppl[i] += 1\n",
    "                \n",
    "    ppl = {k: v for k, v in sorted(ppl.items(), reverse=True, key=lambda item: abs(item[1]))}\n",
    "    \n",
    "    return common, ppl\n",
    "\n",
    "lists = [impt_15f_lr, impt_15f_svc,impt_15f_rfc,impt_15f_sgd, impt_15_rfe]\n",
    "common, ppl = longestCommonFeatures(lists)\n",
    "common, ppl"
   ]
  },
  {
   "cell_type": "markdown",
   "metadata": {},
   "source": [
    "### 3. select features based on importance weights.\n",
    "##### same with 1st method, it uses coefficients"
   ]
  },
  {
   "cell_type": "code",
   "execution_count": null,
   "metadata": {},
   "outputs": [],
   "source": [
    "# from sklearn.feature_selection import SelectFromModel\n",
    "# from sklearn.linear_model import LogisticRegression\n",
    "\n",
    "# selector = SelectFromModel(estimator= sgd_clf).fit(X_train, y_train)\n",
    "# selector.estimator_.coef_"
   ]
  },
  {
   "cell_type": "code",
   "execution_count": null,
   "metadata": {},
   "outputs": [],
   "source": [
    "# selector.threshold_"
   ]
  },
  {
   "cell_type": "code",
   "execution_count": null,
   "metadata": {},
   "outputs": [],
   "source": [
    "# selector.get_support()"
   ]
  },
  {
   "cell_type": "code",
   "execution_count": 235,
   "metadata": {},
   "outputs": [],
   "source": [
    "# selector.transform(X)"
   ]
  },
  {
   "cell_type": "markdown",
   "metadata": {},
   "source": [
    "#### use important features saves time and doesn't lower accuracy"
   ]
  },
  {
   "cell_type": "markdown",
   "metadata": {},
   "source": [
    "## Use a whole year as the validation set"
   ]
  },
  {
   "cell_type": "code",
   "execution_count": 167,
   "metadata": {},
   "outputs": [
    {
     "name": "stdout",
     "output_type": "stream",
     "text": [
      "validation accuracy of year 2008 : 0.82\n",
      "validation accuracy of year 2009 : 0.85\n",
      "validation accuracy of year 2010 : 0.83\n",
      "validation accuracy of year 2011 : 0.83\n",
      "validation accuracy of year 2013 : 0.85\n",
      "validation accuracy of year 2014 : 0.85\n",
      "validation accuracy of year 2017 : 0.84\n",
      "validation accuracy of year 2007 : 0.74\n"
     ]
    }
   ],
   "source": [
    "train_df1 = pd.concat([train[['Year']], train_df], axis=1)\n",
    "train_df1\n",
    "\n",
    "\n",
    "# 2015 is held out as the test set, other years will be held out one by one as validation set.\n",
    "cv_score_year = []\n",
    "for y in train_df1.Year[(train_df1.Year != 2015)].unique():\n",
    "\n",
    "    train1 = train_df1 [(train_df1.Year != 2015)&(train_df1 .Year != y)]\n",
    "    valid = train_df1 [train_df1 .Year == y]\n",
    "\n",
    "    X_train1 = train1.drop(columns = [\"RainTomorrow\", \"Year\"], axis = 1)\n",
    "    y_train1 = train1[\"RainTomorrow\"]\n",
    "\n",
    "    X_valid = valid.drop(columns = [\"RainTomorrow\", \"Year\"], axis=1)\n",
    "    y_valid = valid[\"RainTomorrow\"]\n",
    "          \n",
    "    sgd_clf.fit(X_train1, y_train1)\n",
    "    y_pred_sgd1=rfc.predict(X_valid)\n",
    "    score = round(accuracy_score(y_valid,y_pred_sgd1),2)\n",
    "    cv_score_year.append(score)\n",
    "    print(\"validation accuracy of year\",y,':',score)"
   ]
  },
  {
   "cell_type": "code",
   "execution_count": 654,
   "metadata": {},
   "outputs": [],
   "source": [
    "not much difference"
   ]
  },
  {
   "cell_type": "markdown",
   "metadata": {},
   "source": [
    "## Different accuracy score "
   ]
  },
  {
   "cell_type": "markdown",
   "metadata": {},
   "source": [
    "# CNN"
   ]
  },
  {
   "cell_type": "code",
   "execution_count": 351,
   "metadata": {},
   "outputs": [],
   "source": [
    "measurements = train.copy(deep=True)"
   ]
  },
  {
   "cell_type": "code",
   "execution_count": 352,
   "metadata": {},
   "outputs": [],
   "source": [
    "x = measurements.drop(columns = [\"RainTomorrow\", \"Month\", \"Year\"], axis = 1)\n",
    "y = measurements[\"RainTomorrow\"]"
   ]
  },
  {
   "cell_type": "code",
   "execution_count": 353,
   "metadata": {},
   "outputs": [
    {
     "data": {
      "text/plain": [
       "(92410, 72)"
      ]
     },
     "execution_count": 353,
     "metadata": {},
     "output_type": "execute_result"
    }
   ],
   "source": [
    "x = np.array(x[:])\n",
    "x.shape"
   ]
  },
  {
   "cell_type": "code",
   "execution_count": 354,
   "metadata": {},
   "outputs": [],
   "source": [
    "# validation set\n",
    "from sklearn.model_selection import train_test_split\n",
    "x_train, x_test, Y_train, Y_test = train_test_split(x, y, test_size = 0.2,random_state = 120)"
   ]
  },
  {
   "cell_type": "code",
   "execution_count": 355,
   "metadata": {},
   "outputs": [
    {
     "data": {
      "text/plain": [
       "((73928,), (18482,))"
      ]
     },
     "execution_count": 355,
     "metadata": {},
     "output_type": "execute_result"
    }
   ],
   "source": [
    "Y_train.shape, Y_test.shape"
   ]
  },
  {
   "cell_type": "code",
   "execution_count": 356,
   "metadata": {},
   "outputs": [
    {
     "data": {
      "text/plain": [
       "((73928, 72), (18482, 72))"
      ]
     },
     "execution_count": 356,
     "metadata": {},
     "output_type": "execute_result"
    }
   ],
   "source": [
    "x_train.shape, x_test.shape"
   ]
  },
  {
   "cell_type": "code",
   "execution_count": 357,
   "metadata": {},
   "outputs": [],
   "source": [
    "x_train = x_train.reshape(x_train.shape[0],x_train.shape[1],1)\n",
    "x_test = x_test.reshape(x_test.shape[0],x_test.shape[1],1)"
   ]
  },
  {
   "cell_type": "code",
   "execution_count": 358,
   "metadata": {},
   "outputs": [
    {
     "data": {
      "text/plain": [
       "((73928, 72, 1), (18482, 72, 1))"
      ]
     },
     "execution_count": 358,
     "metadata": {},
     "output_type": "execute_result"
    }
   ],
   "source": [
    "x_train.shape, x_test.shape"
   ]
  },
  {
   "cell_type": "code",
   "execution_count": 359,
   "metadata": {},
   "outputs": [],
   "source": [
    "Y_train = np.asarray(Y_train).astype('float32').reshape((-1,1))\n",
    "Y_test = np.asarray(Y_test).astype('float32').reshape((-1,1))"
   ]
  },
  {
   "cell_type": "code",
   "execution_count": 360,
   "metadata": {},
   "outputs": [
    {
     "data": {
      "text/plain": [
       "((73928, 1), (18482, 1))"
      ]
     },
     "execution_count": 360,
     "metadata": {},
     "output_type": "execute_result"
    }
   ],
   "source": [
    "Y_train.shape, Y_test.shape"
   ]
  },
  {
   "cell_type": "code",
   "execution_count": 361,
   "metadata": {},
   "outputs": [],
   "source": [
    "batch_size = 256\n",
    "num_classes = 1\n",
    "epochs = 100\n",
    "input_shape=(x_train.shape[1],1)"
   ]
  },
  {
   "cell_type": "code",
   "execution_count": 333,
   "metadata": {
    "scrolled": true
   },
   "outputs": [
    {
     "name": "stdout",
     "output_type": "stream",
     "text": [
      "Model: \"sequential_73\"\n",
      "_________________________________________________________________\n",
      "Layer (type)                 Output Shape              Param #   \n",
      "=================================================================\n",
      "conv1d_15 (Conv1D)           (None, 72, 128)           512       \n",
      "_________________________________________________________________\n",
      "batch_normalization_18 (Batc (None, 72, 128)           512       \n",
      "_________________________________________________________________\n",
      "max_pooling1d_15 (MaxPooling (None, 36, 128)           0         \n",
      "_________________________________________________________________\n",
      "conv1d_16 (Conv1D)           (None, 36, 128)           49280     \n",
      "_________________________________________________________________\n",
      "batch_normalization_19 (Batc (None, 36, 128)           512       \n",
      "_________________________________________________________________\n",
      "max_pooling1d_16 (MaxPooling (None, 18, 128)           0         \n",
      "_________________________________________________________________\n",
      "flatten_10 (Flatten)         (None, 2304)              0         \n",
      "_________________________________________________________________\n",
      "dense_160 (Dense)            (None, 64)                147520    \n",
      "_________________________________________________________________\n",
      "dropout_21 (Dropout)         (None, 64)                0         \n",
      "_________________________________________________________________\n",
      "dense_161 (Dense)            (None, 32)                2080      \n",
      "_________________________________________________________________\n",
      "dropout_22 (Dropout)         (None, 32)                0         \n",
      "_________________________________________________________________\n",
      "dense_162 (Dense)            (None, 16)                528       \n",
      "_________________________________________________________________\n",
      "dropout_23 (Dropout)         (None, 16)                0         \n",
      "_________________________________________________________________\n",
      "dense_163 (Dense)            (None, 1)                 17        \n",
      "=================================================================\n",
      "Total params: 200,961\n",
      "Trainable params: 200,449\n",
      "Non-trainable params: 512\n",
      "_________________________________________________________________\n"
     ]
    }
   ],
   "source": [
    "model = Sequential()\n",
    "intput_shape=(x_train.shape[1], 1)\n",
    "model.add(Conv1D(128, kernel_size=3,padding = 'same',activation='relu', input_shape=input_shape))\n",
    "model.add(BatchNormalization())\n",
    "model.add(MaxPooling1D(pool_size=(2)))\n",
    "model.add(Conv1D(128,kernel_size=3,padding = 'same', activation='relu'))\n",
    "model.add(BatchNormalization())\n",
    "model.add(MaxPooling1D(pool_size=(2)))\n",
    "model.add(Flatten())\n",
    "model.add(Dense(64, activation='tanh'))\n",
    "model.add(Dropout(0.2))\n",
    "model.add(Dense(32, activation='tanh'))\n",
    "model.add(Dropout(0.2))\n",
    "model.add(Dense(16, activation='relu'))\n",
    "model.add(Dropout(0.2))\n",
    "model.add(Dense(num_classes, activation='sigmoid'))\n",
    "model.summary()"
   ]
  },
  {
   "cell_type": "code",
   "execution_count": 334,
   "metadata": {},
   "outputs": [],
   "source": [
    "model.compile(optimizer='adam', loss='binary_crossentropy', metrics=['accuracy'])"
   ]
  },
  {
   "cell_type": "code",
   "execution_count": 370,
   "metadata": {
    "scrolled": true
   },
   "outputs": [
    {
     "name": "stdout",
     "output_type": "stream",
     "text": [
      "Epoch 1/15\n",
      "2311/2311 [==============================] - 27s 12ms/step - loss: 0.3455 - accuracy: 0.8529 - val_loss: 0.3448 - val_accuracy: 0.8527\n",
      "Epoch 2/15\n",
      "2311/2311 [==============================] - 26s 11ms/step - loss: 0.3453 - accuracy: 0.8528 - val_loss: 0.3444 - val_accuracy: 0.8492\n",
      "Epoch 3/15\n",
      "2311/2311 [==============================] - 28s 12ms/step - loss: 0.3444 - accuracy: 0.8524 - val_loss: 0.3462 - val_accuracy: 0.8509\n",
      "Epoch 4/15\n",
      "2311/2311 [==============================] - 29s 13ms/step - loss: 0.3455 - accuracy: 0.8527 - val_loss: 0.3629 - val_accuracy: 0.8480\n",
      "Epoch 5/15\n",
      "2311/2311 [==============================] - 30s 13ms/step - loss: 0.3445 - accuracy: 0.8533 - val_loss: 0.3491 - val_accuracy: 0.8503\n",
      "Epoch 6/15\n",
      "2311/2311 [==============================] - 29s 12ms/step - loss: 0.3440 - accuracy: 0.8537 - val_loss: 0.3485 - val_accuracy: 0.8496\n",
      "Epoch 7/15\n",
      "2311/2311 [==============================] - 27s 11ms/step - loss: 0.3434 - accuracy: 0.8545 - val_loss: 0.3489 - val_accuracy: 0.8503\n",
      "Epoch 8/15\n",
      "2311/2311 [==============================] - 28s 12ms/step - loss: 0.3442 - accuracy: 0.8545 - val_loss: 0.3443 - val_accuracy: 0.8507\n",
      "Epoch 9/15\n",
      "2311/2311 [==============================] - 27s 12ms/step - loss: 0.3437 - accuracy: 0.8533 - val_loss: 0.3546 - val_accuracy: 0.8471\n",
      "Epoch 10/15\n",
      "2311/2311 [==============================] - 27s 12ms/step - loss: 0.3430 - accuracy: 0.8531 - val_loss: 0.3478 - val_accuracy: 0.8494\n",
      "Epoch 11/15\n",
      "2311/2311 [==============================] - 30s 13ms/step - loss: 0.3430 - accuracy: 0.8539 - val_loss: 0.3752 - val_accuracy: 0.8479\n",
      "Epoch 12/15\n",
      "2311/2311 [==============================] - 29s 13ms/step - loss: 0.3434 - accuracy: 0.8526 - val_loss: 0.3442 - val_accuracy: 0.8517\n",
      "Epoch 13/15\n",
      "2311/2311 [==============================] - 30s 13ms/step - loss: 0.3433 - accuracy: 0.8537 - val_loss: 0.3427 - val_accuracy: 0.8522\n",
      "Epoch 14/15\n",
      "2311/2311 [==============================] - 31s 13ms/step - loss: 0.3419 - accuracy: 0.8557 - val_loss: 0.3702 - val_accuracy: 0.8405\n",
      "Epoch 15/15\n",
      "2311/2311 [==============================] - 30s 13ms/step - loss: 0.3414 - accuracy: 0.8556 - val_loss: 0.3437 - val_accuracy: 0.8519\n"
     ]
    }
   ],
   "source": [
    "hist_rnn = model.fit(x_train, Y_train, validation_data=(x_test, Y_test), epochs=15)"
   ]
  },
  {
   "cell_type": "code",
   "execution_count": 371,
   "metadata": {},
   "outputs": [
    {
     "data": {
      "image/png": "[encoded data removed]",
      "text/plain": [
       "<Figure size 576x360 with 1 Axes>"
      ]
     },
     "metadata": {
      "needs_background": "light"
     },
     "output_type": "display_data"
    }
   ],
   "source": [
    "pd.DataFrame(hist_rnn.history).plot(figsize=(8, 5))\n",
    "plt.grid(True)\n",
    "plt.gca().set_ylim(0, 1) # set the vertical range to [0-1]\n",
    "plt.show()"
   ]
  },
  {
   "cell_type": "markdown",
   "metadata": {},
   "source": [
    "# DNN"
   ]
  },
  {
   "cell_type": "code",
   "execution_count": 314,
   "metadata": {},
   "outputs": [],
   "source": [
    "model = keras.models.Sequential()\n",
    "model.add(keras.layers.Flatten(input_shape=[72,]))\n",
    "model.add(keras.layers.Dense(300, activation=\"relu\"))\n",
    "model.add(keras.layers.Dense(100, activation=\"relu\"))\n",
    "model.add(keras.layers.Dense(1, activation=\"sigmoid\"))\n",
    "\n",
    "model.compile(loss=\"binary_crossentropy\",\n",
    "              optimizer=\"sgd\",\n",
    "              metrics=[\"accuracy\"])"
   ]
  },
  {
   "cell_type": "code",
   "execution_count": 315,
   "metadata": {
    "scrolled": true
   },
   "outputs": [
    {
     "name": "stdout",
     "output_type": "stream",
     "text": [
      "Epoch 1/30\n",
      "2022/2022 [==============================] - 2s 993us/step - loss: 0.4670 - accuracy: 0.7947 - val_loss: 0.4212 - val_accuracy: 0.8180\n",
      "Epoch 2/30\n",
      "2022/2022 [==============================] - 2s 954us/step - loss: 0.3994 - accuracy: 0.8291 - val_loss: 0.3883 - val_accuracy: 0.8349\n",
      "Epoch 3/30\n",
      "2022/2022 [==============================] - 2s 1ms/step - loss: 0.3810 - accuracy: 0.8389 - val_loss: 0.3784 - val_accuracy: 0.8398\n",
      "Epoch 4/30\n",
      "2022/2022 [==============================] - 2s 880us/step - loss: 0.3758 - accuracy: 0.8411 - val_loss: 0.3761 - val_accuracy: 0.8394\n",
      "Epoch 5/30\n",
      "2022/2022 [==============================] - 2s 819us/step - loss: 0.3737 - accuracy: 0.8407 - val_loss: 0.3751 - val_accuracy: 0.8381\n",
      "Epoch 6/30\n",
      "2022/2022 [==============================] - 2s 810us/step - loss: 0.3719 - accuracy: 0.8410 - val_loss: 0.3730 - val_accuracy: 0.8400\n",
      "Epoch 7/30\n",
      "2022/2022 [==============================] - 2s 903us/step - loss: 0.3703 - accuracy: 0.8418 - val_loss: 0.3707 - val_accuracy: 0.8407\n",
      "Epoch 8/30\n",
      "2022/2022 [==============================] - 2s 1ms/step - loss: 0.3690 - accuracy: 0.8414 - val_loss: 0.3702 - val_accuracy: 0.8419\n",
      "Epoch 9/30\n",
      "2022/2022 [==============================] - 2s 823us/step - loss: 0.3674 - accuracy: 0.8437 - val_loss: 0.3676 - val_accuracy: 0.8418\n",
      "Epoch 10/30\n",
      "2022/2022 [==============================] - 2s 790us/step - loss: 0.3659 - accuracy: 0.8428 - val_loss: 0.3686 - val_accuracy: 0.8426\n",
      "Epoch 11/30\n",
      "2022/2022 [==============================] - 2s 776us/step - loss: 0.3640 - accuracy: 0.8440 - val_loss: 0.3664 - val_accuracy: 0.8410\n",
      "Epoch 12/30\n",
      "2022/2022 [==============================] - 2s 784us/step - loss: 0.3628 - accuracy: 0.8445 - val_loss: 0.3886 - val_accuracy: 0.8260\n",
      "Epoch 13/30\n",
      "2022/2022 [==============================] - 2s 851us/step - loss: 0.3609 - accuracy: 0.8450 - val_loss: 0.3626 - val_accuracy: 0.8442\n",
      "Epoch 14/30\n",
      "2022/2022 [==============================] - 2s 818us/step - loss: 0.3595 - accuracy: 0.8449 - val_loss: 0.3604 - val_accuracy: 0.8440\n",
      "Epoch 15/30\n",
      "2022/2022 [==============================] - 2s 781us/step - loss: 0.3577 - accuracy: 0.8466 - val_loss: 0.3627 - val_accuracy: 0.8439\n",
      "Epoch 16/30\n",
      "2022/2022 [==============================] - 2s 788us/step - loss: 0.3557 - accuracy: 0.8469 - val_loss: 0.3580 - val_accuracy: 0.8449\n",
      "Epoch 17/30\n",
      "2022/2022 [==============================] - 2s 788us/step - loss: 0.3539 - accuracy: 0.8475 - val_loss: 0.3570 - val_accuracy: 0.8455\n",
      "Epoch 18/30\n",
      "2022/2022 [==============================] - 2s 839us/step - loss: 0.3520 - accuracy: 0.8488 - val_loss: 0.3558 - val_accuracy: 0.8463\n",
      "Epoch 19/30\n",
      "2022/2022 [==============================] - 2s 872us/step - loss: 0.3505 - accuracy: 0.8490 - val_loss: 0.3548 - val_accuracy: 0.8450\n",
      "Epoch 20/30\n",
      "2022/2022 [==============================] - 2s 855us/step - loss: 0.3491 - accuracy: 0.8493 - val_loss: 0.3548 - val_accuracy: 0.8460\n",
      "Epoch 21/30\n",
      "2022/2022 [==============================] - 2s 812us/step - loss: 0.3476 - accuracy: 0.8501 - val_loss: 0.3537 - val_accuracy: 0.8476\n",
      "Epoch 22/30\n",
      "2022/2022 [==============================] - 2s 843us/step - loss: 0.3466 - accuracy: 0.8508 - val_loss: 0.3584 - val_accuracy: 0.8459\n",
      "Epoch 23/30\n",
      "2022/2022 [==============================] - 2s 839us/step - loss: 0.3452 - accuracy: 0.8515 - val_loss: 0.3519 - val_accuracy: 0.8469\n",
      "Epoch 24/30\n",
      "2022/2022 [==============================] - 2s 907us/step - loss: 0.3438 - accuracy: 0.8518 - val_loss: 0.3491 - val_accuracy: 0.8475\n",
      "Epoch 25/30\n",
      "2022/2022 [==============================] - 2s 884us/step - loss: 0.3432 - accuracy: 0.8525 - val_loss: 0.3669 - val_accuracy: 0.8364\n",
      "Epoch 26/30\n",
      "2022/2022 [==============================] - 2s 851us/step - loss: 0.3421 - accuracy: 0.8535 - val_loss: 0.3687 - val_accuracy: 0.8366\n",
      "Epoch 27/30\n",
      "2022/2022 [==============================] - 2s 842us/step - loss: 0.3413 - accuracy: 0.8528 - val_loss: 0.3460 - val_accuracy: 0.8485\n",
      "Epoch 28/30\n",
      "2022/2022 [==============================] - 2s 892us/step - loss: 0.3410 - accuracy: 0.8530 - val_loss: 0.3504 - val_accuracy: 0.8484\n",
      "Epoch 29/30\n",
      "2022/2022 [==============================] - 2s 1ms/step - loss: 0.3398 - accuracy: 0.8541 - val_loss: 0.3500 - val_accuracy: 0.8485\n",
      "Epoch 30/30\n",
      "2022/2022 [==============================] - 2s 1ms/step - loss: 0.3390 - accuracy: 0.8540 - val_loss: 0.3518 - val_accuracy: 0.8489\n"
     ]
    }
   ],
   "source": [
    "history = model.fit(x_train, Y_train, validation_data=(x_test, Y_test), epochs=30)"
   ]
  },
  {
   "cell_type": "code",
   "execution_count": 369,
   "metadata": {},
   "outputs": [
    {
     "data": {
      "image/png": "[encoded data removed]",
      "text/plain": [
       "<Figure size 576x360 with 1 Axes>"
      ]
     },
     "metadata": {
      "needs_background": "light"
     },
     "output_type": "display_data"
    }
   ],
   "source": [
    "pd.DataFrame(history.history).plot(figsize=(8, 5))\n",
    "plt.grid(True)\n",
    "plt.gca().set_ylim(0, 1) # set the vertical range to [0-1]\n",
    "plt.show()"
   ]
  },
  {
   "cell_type": "markdown",
   "metadata": {},
   "source": [
    "# Test"
   ]
  },
  {
   "cell_type": "code",
   "execution_count": 29,
   "metadata": {},
   "outputs": [],
   "source": [
    "X_test.shape, y_test.shape"
   ]
  },
  {
   "cell_type": "code",
   "execution_count": null,
   "metadata": {},
   "outputs": [],
   "source": []
  },
  {
   "cell_type": "code",
   "execution_count": null,
   "metadata": {},
   "outputs": [],
   "source": []
  },
  {
   "cell_type": "code",
   "execution_count": null,
   "metadata": {},
   "outputs": [],
   "source": []
  },
  {
   "cell_type": "code",
   "execution_count": null,
   "metadata": {},
   "outputs": [],
   "source": [
    "df = pd.read_csv(\"training_set.csv\",index_col=\"Date\",parse_dates=[\"Datetime\"])\n",
    "df = df.sort_index()\n",
    "df"
   ]
  },
  {
   "cell_type": "markdown",
   "metadata": {},
   "source": [
    "# label imbalance\n",
    "#If the training set was very skewed, with some classes being overrepresented and others underrepresented, it would be useful to set the class_weight argument when calling the fit() method, which would give a larger weight to underrepresented classes and a lower weight to overrepresented classes."
   ]
  },
  {
   "cell_type": "markdown",
   "metadata": {},
   "source": [
    "# Reference:\n",
    "##### circular data transform: http://blog.davidkaleko.com/feature-engineering-cyclical-features.html  \n",
    "##### Australian weather https://www.finalword.com/map-weather-of-australia/"
   ]
  }
 ],
 "metadata": {
  "kernelspec": {
   "display_name": "Python 3",
   "language": "python",
   "name": "python3"
  },
  "language_info": {
   "codemirror_mode": {
    "name": "ipython",
    "version": 3
   },
   "file_extension": ".py",
   "mimetype": "text/x-python",
   "name": "python",
   "nbconvert_exporter": "python",
   "pygments_lexer": "ipython3",
   "version": "3.8.3"
  }
 },
 "nbformat": 4,
 "nbformat_minor": 4
}
