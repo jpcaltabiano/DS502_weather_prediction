{
 "cells": [
  {
   "cell_type": "code",
   "execution_count": 1,
   "metadata": {},
   "outputs": [],
   "source": [
    "import pandas as pd\n",
    "import numpy as np\n",
    "from math import pi\n",
    "import matplotlib.pyplot as plt\n",
    "from matplotlib.pyplot import figure\n",
    "import seaborn as sns\n",
    "\n",
    "from IPython.display import display, Markdown\n",
    "import time"
   ]
  },
  {
   "cell_type": "code",
   "execution_count": 2,
   "metadata": {},
   "outputs": [],
   "source": [
    "from sklearn import preprocessing\n",
    "from sklearn.preprocessing import MinMaxScaler\n",
    "from sklearn.preprocessing import PowerTransformer\n",
    "from sklearn.impute import SimpleImputer\n",
    "from sklearn.decomposition import PCA\n",
    "from sklearn import svm\n",
    "from sklearn.linear_model import Lasso, LogisticRegression\n",
    "from sklearn.neighbors import KNeighborsClassifier\n",
    "from sklearn.ensemble import RandomForestClassifier\n",
    "from sklearn.feature_selection import SelectFromModel\n",
    "from sklearn.linear_model import SGDClassifier\n",
    "from sklearn.model_selection import cross_val_score\n",
    "from sklearn.metrics import accuracy_score\n",
    "from sklearn import metrics\n",
    "from sklearn.metrics import confusion_matrix\n",
    "from sklearn.model_selection import StratifiedKFold\n",
    "from sklearn.metrics import plot_roc_curve\n",
    "from sklearn.metrics import roc_curve\n",
    "from sklearn.metrics import roc_auc_score\n",
    "from sklearn import  metrics\n",
    "# from sklearn.base import clone\n",
    "from sklearn.ensemble import GradientBoostingClassifier\n",
    "from sklearn.model_selection import train_test_split\n",
    "from sklearn.metrics import classification_report\n",
    "from sklearn.datasets import make_classification\n",
    "from imblearn.ensemble import BalancedBaggingClassifier\n",
    "import keras\n",
    "from keras.models import Model\n",
    "from keras.models import Sequential\n",
    "from keras.layers import Convolution1D as Conv1D\n",
    "from keras.layers import ZeroPadding1D, MaxPooling1D, BatchNormalization, Activation, Dropout, Flatten, Dense"
   ]
  },
  {
   "cell_type": "code",
   "execution_count": 3,
   "metadata": {},
   "outputs": [
    {
     "name": "stdout",
     "output_type": "stream",
     "text": [
      "(109641, 26)\n"
     ]
    },
    {
     "data": {
      "text/plain": [
       "Index(['Date', 'Location', 'MinTemp', 'MaxTemp', 'Rainfall', 'Evaporation',\n",
       "       'Sunshine', 'WindGustDir', 'WindGustSpeed', 'WindDir9am', 'WindDir3pm',\n",
       "       'WindSpeed9am', 'WindSpeed3pm', 'Humidity9am', 'Humidity3pm',\n",
       "       'Pressure9am', 'Pressure3pm', 'Cloud9am', 'Cloud3pm', 'Temp9am',\n",
       "       'Temp3pm', 'RainToday', 'RISK_MM', 'RainTomorrow', 'lat', 'lon'],\n",
       "      dtype='object')"
      ]
     },
     "execution_count": 3,
     "metadata": {},
     "output_type": "execute_result"
    }
   ],
   "source": [
    "df = pd.read_csv(\"training_set.csv\")\n",
    "location_df = pd.read_csv(\"locations.csv\")\n",
    "\n",
    "#check all columns\n",
    "df_loc = df.join(location_df.set_index('Location'), on='Location')\n",
    "print(df_loc.shape)\n",
    "df_loc.columns"
   ]
  },
  {
   "cell_type": "code",
   "execution_count": 4,
   "metadata": {},
   "outputs": [],
   "source": [
    "# take out test set (2011, 2015)\n",
    "df[\"Date\"] = pd.to_datetime(df['Date'])\n",
    "df.insert(1, \"Year\", df[\"Date\"].dt.year, True)\n",
    "test = df[(df.Year == 2015) | (df.Year == 2011)].copy(deep = True)\n",
    "train = df[(df.Year != 2015) & (df.Year != 2011)].copy(deep = True)"
   ]
  },
  {
   "cell_type": "code",
   "execution_count": 5,
   "metadata": {},
   "outputs": [
    {
     "name": "stdout",
     "output_type": "stream",
     "text": [
      "testset percentage: 29.51%\n"
     ]
    }
   ],
   "source": [
    "print(\"testset percentage:\", \"{0:.2%}\".format(len(test)/len(df)))"
   ]
  },
  {
   "cell_type": "code",
   "execution_count": 6,
   "metadata": {},
   "outputs": [
    {
     "name": "stdout",
     "output_type": "stream",
     "text": [
      "\n",
      "number of obdervations with rainfall>200mm: 11\n"
     ]
    },
    {
     "data": {
      "image/png": "[encoded data removed]",
      "text/plain": [
       "<Figure size 432x288 with 1 Axes>"
      ]
     },
     "metadata": {
      "needs_background": "light"
     },
     "output_type": "display_data"
    }
   ],
   "source": [
    "df.Rainfall[df.Rainfall>50].hist()\n",
    "print()\n",
    "print(\"number of obdervations with rainfall>200mm:\",len(df.Rainfall[df.Rainfall>200]))"
   ]
  },
  {
   "cell_type": "code",
   "execution_count": 7,
   "metadata": {},
   "outputs": [],
   "source": [
    "# USEAGE\n",
    "# Each function takes 'df' as pandas dataframe object and returns the modified dataframe.\n",
    "# add_locs also takes a datafrane of the locations\n",
    "# example:\n",
    "#   data = pd.read_csv(\"weatherAUS.csv\")\n",
    "#   data = wind_vectors(data)\n",
    "#   locations = pd.read_csv(\"lcoations.csv\")\n",
    "#   data = add_locs(data, locations)\n",
    "\n",
    "import pandas as pd\n",
    "import numpy as np\n",
    "import datetime\n",
    "\n",
    "# add location coordinates\n",
    "def add_locs(df, location_df):\n",
    "    return df.join(location_df.set_index('Location'), on='Location')\n",
    "\n",
    "# convert yes and no strings to binary\n",
    "def binary_target(df):\n",
    "    df[\"RainTomorrow\"] = df[\"RainTomorrow\"].replace(('Yes', 'No'), (1, 0))\n",
    "    df[\"RainToday\"] = df[\"RainToday\"].replace(('Yes', 'No'), (1, 0))\n",
    "    return df\n",
    "\n",
    "def wind_vectors(df):\n",
    "    df['WindGustDir'] = df['WindGustDir'].replace(\n",
    "        ('N', 'NNE', 'NE', 'ENE', 'E', 'ESE', 'SE', 'SSE', 'S', 'SSW','SW','WSW','W','WNW','NW','NNW'),\n",
    "        (0, 22.5, 45, 67.5, 90, 112.5, 135, 157.5, 180, 202.5, 225, 247.5, 270, 292.5, 315, 337.5)\n",
    "    )\n",
    "\n",
    "    df['WindDir9am'] = df['WindDir9am'].replace(\n",
    "        ('N', 'NNE', 'NE', 'ENE', 'E', 'ESE', 'SE', 'SSE', 'S', 'SSW','SW','WSW','W','WNW','NW','NNW'),\n",
    "        (0, 22.5, 45, 67.5, 90, 112.5, 135, 157.5, 180, 202.5, 225, 247.5, 270, 292.5, 315, 337.5)\n",
    "    )\n",
    "\n",
    "    df['WindDir3pm'] = df['WindDir3pm'].replace(\n",
    "        ('N', 'NNE', 'NE', 'ENE', 'E', 'ESE', 'SE', 'SSE', 'S', 'SSW','SW','WSW','W','WNW','NW','NNW'),\n",
    "        (0, 22.5, 45, 67.5, 90, 112.5, 135, 157.5, 180, 202.5, 225, 247.5, 270, 292.5, 315, 337.5)\n",
    "    )\n",
    "\n",
    "    wv = df.pop('WindGustSpeed')\n",
    "    wd = df.pop('WindGustDir')*np.pi/180\n",
    "    df['WindGustX'] = wv*np.cos(wd)\n",
    "    df['WindGustY'] = wv*np.sin(wd)\n",
    "\n",
    "    wv = df.pop('WindSpeed9am')\n",
    "    wd = df.pop('WindDir9am')*np.pi/180\n",
    "    df['Wind9amX'] = wv*np.cos(wd)\n",
    "    df['Wind9amY'] = wv*np.sin(wd)\n",
    "\n",
    "    wv = df.pop('WindSpeed3pm')\n",
    "    wd = df.pop('WindDir3pm')*np.pi/180\n",
    "    df['Wind3pmX'] = wv*np.cos(wd)\n",
    "    df['Wind3pmY'] = wv*np.sin(wd)\n",
    "\n",
    "    return df\n",
    "\n",
    "def date_to_signal(df):\n",
    "    data_date = pd.to_datetime(df['Date'])\n",
    "    timestamp_s = data_date.map(datetime.datetime.timestamp)\n",
    "    day = 24*60*60\n",
    "    year = (365.2425)*day\n",
    "    month = data_date.dt.month\n",
    "    season = ((month -1)%12 + 3)//3\n",
    "    df['daysin'] = np.sin(timestamp_s * (2 * np.pi/day))\n",
    "    df['daycos'] = np.cos(timestamp_s * (2 * np.pi/day))\n",
    "    df['yearsin'] = np.sin(timestamp_s * (2 * np.pi/year))\n",
    "    df['yearcos'] = np.cos(timestamp_s * (2 * np.pi/year))\n",
    "    df['monthsin'] = np.sin((month-1)*(2.*np.pi/12))\n",
    "    df['monthcos'] = np.cos((month-1)*(2.*np.pi/12))\n",
    "    df['seasonsin'] = np.sin((month-1)*(2.*np.pi/4))\n",
    "    df['seasoncos'] = np.cos((month-1)*(2.*np.pi/4))\n",
    "\n",
    "    return df\n",
    "\n",
    "# shif certain column down by 1 day (each entry gets yesterday's info)\n",
    "def lag(df):\n",
    "    df = df.copy(deep= True)\n",
    "    df['Date'] = pd.to_datetime(df['Date'])\n",
    "    df = df.set_index([\"Date\",\"Location\"])\n",
    "    lag_cols = ['MinTemp','MaxTemp','Rainfall','Humidity3pm','Pressure3pm','WindGustX','WindGustY','RainToday']\n",
    "\n",
    "    shit_days = [1,2]\n",
    "    for d in shit_days:\n",
    "        shifted = df[lag_cols].groupby(level=\"Location\").shift(d)\n",
    "        shifted = shifted.rename(columns=lambda x: x+\"_lag\"+str(d))\n",
    "        df = pd.merge(df, shifted, how='left', left_index=True, right_index=True)\n",
    "           \n",
    "    df = df.reset_index() \n",
    "    \n",
    "    return df\n",
    "\n",
    "# deiffernce from month and year average\n",
    "def mean_diff(df):\n",
    "    \n",
    "    df['Date'] = pd.to_datetime(df['Date'])\n",
    "    df.insert(2, \"Month\", df[\"Date\"].dt.month, True)\n",
    "    df = df.set_index([\"Location\", \"Year\", \"Month\"])\n",
    "    mean_cols = ['MinTemp','MaxTemp','Rainfall','Humidity3pm','Pressure3pm','WindGustX','WindGustY']\n",
    "    \n",
    "    # month mean\n",
    "    mean = pd.DataFrame(df[mean_cols].groupby(level=[0,1,2]).mean())\n",
    "    mean = mean.rename(columns=lambda x: x+\"_month_mean\")\n",
    "    df = pd.merge(df, mean, how='left', left_index=True, right_index=True)\n",
    "    \n",
    "    # year mean\n",
    "    mean_year = pd.DataFrame(df[mean_cols].groupby(level=[0,1]).mean())\n",
    "    mean_year = mean_year.rename(columns=lambda x: x+\"_year_mean\")\n",
    "    df = pd.merge(df, mean_year, how='left', left_index=True, right_index=True)\n",
    "    \n",
    "    for col in mean_cols:\n",
    "        #month diff\n",
    "        mean = col+\"_month_mean\"\n",
    "        new_name = col + \"_month_diff\"\n",
    "        df[new_name] = df[col] - df[mean]\n",
    "        df.drop(mean,axis=1,inplace=True)\n",
    "        \n",
    "        #year diff\n",
    "        mean_year = col+\"_year_mean\"\n",
    "        new_name_year = col + \"_year_diff\"\n",
    "        df[new_name_year] = df[col] - df[mean_year]\n",
    "        df.drop(mean_year,axis=1,inplace=True)\n",
    "    \n",
    "    df = df.reset_index() \n",
    "    df.drop(\"Month\",axis=1,inplace=True)\n",
    "    \n",
    "    return df\n",
    "\n",
    "def aug_all(df, location_df):\n",
    "    df = add_locs(df, location_df)\n",
    "    df = binary_target(df)\n",
    "    df = date_to_signal(df)\n",
    "    df = wind_vectors(df)\n",
    "    df = lag(df)\n",
    "    df = mean_diff(df)\n",
    "    \n",
    "    return df"
   ]
  },
  {
   "cell_type": "code",
   "execution_count": 8,
   "metadata": {},
   "outputs": [],
   "source": [
    "# USEAGE\n",
    "# df should have turned 'Date' column as pd.to_datetime(df['Date'])\n",
    "# df has inserted a 2nd colum 'Year': df.insert(1, \"Year\", df[\"Date\"].dt.year, True)\n",
    "# median = None: this is to preprocess test data that's never seen\n",
    "# median != None, will return processed df, and medians, powertransform fit, and minmaxsclar fit from training data, \n",
    "# They will be used to transform test data.\n",
    "\n",
    "def preprocess(df, median = None, pt_fit = None, mms_f = None):\n",
    "\n",
    "    \n",
    "    ### 1. add lon, lat columns and features engineering\n",
    "    df = aug_all(df, location_df)\n",
    "    #df = df.sort_index()\n",
    "    \n",
    "    ### 2. drop some column ###\n",
    "    df.drop(\"Date\",axis=1,inplace=True)\n",
    "#     df.drop(\"Year\",axis=1,inplace=True)\n",
    "    df.drop(\"RISK_MM\",axis=1,inplace = True)\n",
    "    #remove highly correlated columns\n",
    "#     df.drop(columns = [\"Temp3pm\", \"Temp9am\", \"Pressure9am\"], axis=1, inplace = True)\n",
    "    #print('1. columns:', df.columns)\n",
    "    \n",
    "    ### 3. define columns ###\n",
    "    # high missing % columns\n",
    "    miss_col_30 = ['Sunshine', 'Evaporation', 'Cloud3pm', 'Cloud9am']\n",
    "    \n",
    "    # \n",
    "    \n",
    "    # catogorical and numerical columns\n",
    "    cat_cols = []\n",
    "    num_cols = []\n",
    "    other_cols = []\n",
    "\n",
    "    for each in df.columns:\n",
    "        if df[each].dtype == \"object\":\n",
    "            cat_cols.append(each)\n",
    "        elif df[each].dtype == \"float64\":\n",
    "            num_cols.append(each)\n",
    "        else:\n",
    "            other_cols.append(each)\n",
    "\n",
    "    \n",
    "    ### 4. data preprocessing ###\n",
    "    \n",
    "    # drop columns with too many missing values\n",
    "    df_clean = df.copy(deep = True)\n",
    "#     df_clean.drop(columns = miss_col_30, axis=1, inplace = True)\n",
    "#     to_remove = miss_col_30\n",
    "#     num_cols = [i for i in num_cols if i not in to_remove]\n",
    "    \n",
    "    # Fill missing value with median\n",
    "    # if this is for training data\n",
    "    if median == None:\n",
    "        medians = []\n",
    "        for k in num_cols:\n",
    "            df_clean[k].fillna(value=df[k].median(),inplace=True)\n",
    "            medians.append(df[k].median())\n",
    "    # # if this is for test data, use the median values of training data\n",
    "    else: \n",
    "        medians = median\n",
    "        i = 0\n",
    "        for k in num_cols:\n",
    "            df_clean[k].fillna(value = medians[i],inplace=True)\n",
    "            i += 1\n",
    "        \n",
    "    # one hot encoder\n",
    "    df1 = pd.get_dummies(df_clean.Location)\n",
    "    df_prepared = pd.concat([df_clean, df1], axis=1)\n",
    "    \n",
    "    # drop more columns \n",
    "    df_prepared.drop(columns = [\"Location\"],axis=1,inplace=True)\n",
    "    #print('1. columns:',df_prepared.columns)\n",
    "    \n",
    "    # Drop rainfall outliers: only 13 entries, but they stretch the range to almost twice.\n",
    "    df_prepared = df_prepared.drop(df_prepared[df_prepared['Rainfall']> 200].index)\n",
    "\n",
    "    \n",
    "#     if pt_fit == None:\n",
    "#         # Power transform 'Rainfall' column that's serious skewed\n",
    "#         a = np.array(df_prepared['Rainfall'].values.tolist()).reshape(-1, 1)\n",
    "#         pt = PowerTransformer(method='yeo-johnson')\n",
    "#         pt_fit = pt.fit(a)\n",
    "#         features_trans = pt_fit.transform(a)\n",
    "#         # df1.skew()\n",
    "#         df_prepared['Rainfall'] = features_trans\n",
    "#     else: \n",
    "#         a = np.array(df_prepared['Rainfall'].values.tolist()).reshape(-1, 1)\n",
    "#         features_trans = pt_fit.transform(a)\n",
    "#         # df1.skew()\n",
    "#         df_prepared['Rainfall'] = features_trans\n",
    "    \n",
    "    \n",
    "    #Normalize\n",
    "    if mms_f == None:\n",
    "        mms = MinMaxScaler()\n",
    "        mms_fit = mms.fit(df_prepared)\n",
    "        df_prepared[df_prepared.columns[:]] = mms_fit.fit_transform(df_prepared)\n",
    "    else: \n",
    "        mms_fit = mms_f\n",
    "        df_prepared[df_prepared.columns[:]] = mms_fit.fit_transform(df_prepared)\n",
    "    \n",
    "    \n",
    "    if median == None:\n",
    "        return df_prepared, medians, pt_fit, mms_fit\n",
    "    else:\n",
    "        return df_prepared\n",
    "    "
   ]
  },
  {
   "cell_type": "code",
   "execution_count": 9,
   "metadata": {},
   "outputs": [
    {
     "data": {
      "text/plain": [
       "((77284, 25), (77278, 111))"
      ]
     },
     "execution_count": 9,
     "metadata": {},
     "output_type": "execute_result"
    }
   ],
   "source": [
    "# transform traning data\n",
    "train_df = train.copy(deep=True)\n",
    "train_df, medians, pt_fit, mms_fit = preprocess(train_df)\n",
    "\n",
    "train.shape, train_df.shape"
   ]
  },
  {
   "cell_type": "code",
   "execution_count": 10,
   "metadata": {},
   "outputs": [
    {
     "data": {
      "text/plain": [
       "((32357, 25), (32352, 111))"
      ]
     },
     "execution_count": 10,
     "metadata": {},
     "output_type": "execute_result"
    }
   ],
   "source": [
    "# tranform test data\n",
    "test_df = test.copy(deep=True)\n",
    "# use the medians in training set to fill missing values in test days\n",
    "test_df= preprocess(test, medians, pt_fit, mms_fit)\n",
    "test.shape, test_df.shape"
   ]
  },
  {
   "cell_type": "markdown",
   "metadata": {},
   "source": [
    "# 3. Prepare for training\n",
    "## 3.1 train, test, validation split"
   ]
  },
  {
   "cell_type": "code",
   "execution_count": 11,
   "metadata": {},
   "outputs": [
    {
     "name": "stdout",
     "output_type": "stream",
     "text": [
      "X train: (77278, 109) \n",
      "y train: (77278,) \n",
      "X test: (32352, 109) \n",
      "y test: (32352,)\n"
     ]
    }
   ],
   "source": [
    "X_train = train_df.drop(columns = [\"RainTomorrow\",'Year'], axis = 1)\n",
    "y_train = train_df[\"RainTomorrow\"]\n",
    "\n",
    "X_test = test_df.drop(columns = [\"RainTomorrow\",'Year'], axis = 1)\n",
    "y_test = test_df[\"RainTomorrow\"]\n",
    "\n",
    "# list of columns\n",
    "l = X_train.columns\n",
    "print(\"X train:\",X_train.shape, \"\\ny train:\", y_train.shape, \"\\nX test:\",X_test.shape, \"\\ny test:\",y_test.shape)"
   ]
  },
  {
   "cell_type": "code",
   "execution_count": 12,
   "metadata": {},
   "outputs": [
    {
     "name": "stdout",
     "output_type": "stream",
     "text": [
      "X train1: (61822, 109) \n",
      "y train1: (61822,) \n",
      "X valid: (15456, 109) \n",
      "y valid: (15456,)\n"
     ]
    }
   ],
   "source": [
    "#cross validation set\n",
    "X_train1, X_valid, y_train1, y_valid = train_test_split(X_train, y_train, test_size=0.2, random_state=0) #stratify = y_train\n",
    "print(\"X train1:\",X_train1.shape, \"\\ny train1:\", y_train1.shape, \"\\nX valid:\",X_valid.shape, \"\\ny valid:\",y_valid.shape)"
   ]
  },
  {
   "cell_type": "markdown",
   "metadata": {},
   "source": [
    "### 3.1.1 Some functions"
   ]
  },
  {
   "cell_type": "code",
   "execution_count": 13,
   "metadata": {},
   "outputs": [],
   "source": [
    "def train_model(clf, X_train = X_train):\n",
    "    clf = clf.fit(X_train, y_train)\n",
    "    y_pred=clf.predict(X_train)\n",
    "    print('Full training set training accuracy:',\"{0:.2%}\".format(accuracy_score(y_train,y_pred)))\n",
    "    return clf\n",
    "\n",
    "# keep track of the model trained with 15 most importat features\n",
    "model_15f = {}"
   ]
  },
  {
   "cell_type": "code",
   "execution_count": 14,
   "metadata": {},
   "outputs": [],
   "source": [
    "# visualize confusion matrix\n",
    "def visual_cm(y_train, y_pred):\n",
    "    cm = confusion_matrix(y_train, y_pred,labels = [1,0])\n",
    "    group_names = ['TP','FN','FP','TN']\n",
    "\n",
    "    group_counts = [\"{0:0.0f}\".format(value) for value in\n",
    "                    cm.flatten()]\n",
    "    group_percentages = [\"{0:.2%}\".format(value) for value in\n",
    "                         cm.flatten()/np.sum(cm)]\n",
    "    labels = [f\"{v1}\\n{v2}\\n{v3}\" for v1, v2, v3 in\n",
    "              zip(group_names,group_counts,group_percentages)]\n",
    "    labels = np.asarray(labels).reshape(2,2)\n",
    "    sns.heatmap(cm, annot=labels, fmt='', cmap='Blues', xticklabels = [1,0], yticklabels = ['Rain','No Rain'])\n",
    "    TP = cm[0,0]\n",
    "    FN = cm[0,1]\n",
    "    FP = cm[1,0]\n",
    "    TN = cm[1,1]\n",
    "    sensitivity = round(cm[0,0]/(cm[0,0]+cm[0,1]),2)\n",
    "    specificity = round(cm[1,1]/(cm[1,0]+cm[1,1]),2)\n",
    "    precision = round(TP/(TP+FP),2)\n",
    "    f1_score = round((2*(sensitivity * precision) / (sensitivity + precision)),2)\n",
    "    \n",
    "    print(\"3. Precision(How many days labeled as rainy are actually rainy?):\",precision)\n",
    "    print(\"4. Sensitivity/Recall(Of all the rainy days, how many of those are correctly predict?):\", sensitivity)\n",
    "    print(\"5. Specificity(Of all the normal days, how many of those did we correctly predict?):\", specificity)\n",
    "    print(\"6. F1 score:\",f1_score)\n",
    "    "
   ]
  },
  {
   "cell_type": "code",
   "execution_count": 15,
   "metadata": {},
   "outputs": [],
   "source": [
    "# Cross validation and confusion matrix\n",
    "def cross_validation(clf, X_train = X_train1, y_train = y_train1, X_valid=X_valid, y_valid=y_valid):\n",
    "    time0= time.time()\n",
    "    clf = clf.fit(X_train, y_train)\n",
    "    y_pred_train = clf.predict(X_train)\n",
    "    acc = accuracy_score(y_train, y_pred_train)\n",
    "    print(\"1. Training set accuracy:\",\"{0:.2%}\".format(acc))\n",
    "    \n",
    "    y_pred = clf.predict(X_valid)\n",
    "    score_cv = accuracy_score(y_valid, y_pred)\n",
    "    print(\"2. Validation accuracy:\", \"{0:.2%}\".format(score_cv))\n",
    "    \n",
    "    if acc - score_cv < -0.01 :\n",
    "        print(\"       Underfitting by:\", \"{0:.2%}\".format(score_cv - acc))\n",
    "#     print(\"3. Classification_report:\\n\",classification_report(y_valid, y_pred))\n",
    "    \n",
    "    \n",
    "    \n",
    "#     print(\"5. Confusion matric of validation set:\")\n",
    "    visual_cm(y_valid, y_pred)\n",
    "    print(\"7. ROC Area under Curve:\", round(metrics.roc_auc_score(y_valid, y_pred),2))\n",
    "    plt.show()\n",
    "    print(\"Time spent:\", round((time.time()-time0),2))\n",
    "    "
   ]
  },
  {
   "cell_type": "code",
   "execution_count": 16,
   "metadata": {},
   "outputs": [],
   "source": [
    "# use 15 most Important features based on coefficient\n",
    "def cv_important_features(clf, clf_coef= None, X_train = X_train, y_train = y_train):\n",
    "    \n",
    "    clf = clf.fit(X_train, y_train)\n",
    "    \n",
    "    # if random forest\n",
    "    if clf_coef:\n",
    "        coef = np.round(clf.feature_importances_,2)\n",
    "        coef = list(coef.reshape(coef.shape[0],))\n",
    "    else: \n",
    "        coef = np.round(clf.coef_,2)\n",
    "        coef = list(coef.reshape(coef.shape[1],))\n",
    "    l = X_train.columns\n",
    "\n",
    "    d = {} \n",
    "    for key in l: \n",
    "        for value in coef: \n",
    "            d[key] = value \n",
    "            coef.remove(value) \n",
    "            break\n",
    "\n",
    "    predictor_coef = {k: v for k, v in sorted(d.items(), reverse=True, key=lambda item: abs(item[1]))}\n",
    "    # select top 1o features \n",
    "    impt_15f= [k for k,v in predictor_coef.items()][:15]\n",
    "    impt_10f = impt_15f[:10]\n",
    "    \n",
    "    # compared wiht cv using top 15 features\n",
    "    start_time_sgd_impt = time.time()\n",
    "    scores_impt = cross_val_score(clf, X_train[impt_15f], y_train, cv=5, scoring=\"accuracy\")\n",
    "    print(\"Took  %s seconds  for 5-fold CV using 15 most important features\" % round((time.time() - start_time_sgd_impt),2))\n",
    "    print(\"cv scores using 15 most important features:\",scores_impt,)\n",
    "    avg_scores = scores_impt.mean()\n",
    "    print('Average score:', \"{0:.2%}\".format(avg_scores))\n",
    "    print()\n",
    "    \n",
    "    # compared wiht cv using all features\n",
    "    start_time = time.time()\n",
    "    scores_all = cross_val_score(clf, X_train, y_train, cv=5, scoring='accuracy')\n",
    "    print(\"Took %s seconds for 5-fold CV using all feature\" % round((time.time() - start_time),2))\n",
    "    print(\"cv scores using all features:\",scores_all)\n",
    "    avg_scores_all = scores_all.mean()\n",
    "    print('Average score:', \"{0:.2%}\".format(avg_scores_all))\n",
    "    print()\n",
    "    \n",
    "    diff = round((avg_scores - avg_scores_all)*100,2)\n",
    "\n",
    "    if (diff>=0):\n",
    "        print('Using most important 15 features IMPROVED average CV accuracy by '+str(diff)+'%')\n",
    "    else:\n",
    "        print('Using most important 15 features decresed average CV accuracy by '+str(diff)+'%')\n",
    "    \n",
    "    return predictor_coef, impt_15f, scores_impt, scores_all"
   ]
  },
  {
   "cell_type": "markdown",
   "metadata": {},
   "source": [
    "# 4. Train Models"
   ]
  },
  {
   "cell_type": "markdown",
   "metadata": {},
   "source": [
    "## 4.1 SGD classifier - FAST!\n",
    "\n",
    "#Stochastic Gradient Descent (SGD) classifier. This classifier has the advantage of being capable of handling very large datasets efficiently. This is in part because SGD deals with training instances independently, one at a time (which also makes SGD well suited for online learning)."
   ]
  },
  {
   "cell_type": "code",
   "execution_count": 17,
   "metadata": {},
   "outputs": [
    {
     "name": "stdout",
     "output_type": "stream",
     "text": [
      "1. Training set accuracy: 84.74%\n",
      "2. Validation accuracy: 84.67%\n",
      "3. Precision(How many days labeled as rainy are actually rainy?): 0.71\n",
      "4. Sensitivity/Recall(Of all the rainy days, how many of those are correctly predict?): 0.51\n",
      "5. Specificity(Of all the normal days, how many of those did we correctly predict?): 0.94\n",
      "6. F1 score: 0.59\n",
      "7. ROC Area under Curve: 0.72\n"
     ]
    },
    {
     "data": {
      "image/png": "[encoded data removed]",
      "text/plain": [
       "<Figure size 432x288 with 2 Axes>"
      ]
     },
     "metadata": {
      "needs_background": "light"
     },
     "output_type": "display_data"
    },
    {
     "name": "stdout",
     "output_type": "stream",
     "text": [
      "Time spent: 0.9\n"
     ]
    }
   ],
   "source": [
    "sgd_clf = SGDClassifier(random_state=42)\n",
    "cross_validation(sgd_clf)"
   ]
  },
  {
   "cell_type": "markdown",
   "metadata": {},
   "source": [
    "###  4.1.1 5 fold Cross validation and most important predictors"
   ]
  },
  {
   "cell_type": "code",
   "execution_count": 18,
   "metadata": {},
   "outputs": [
    {
     "name": "stdout",
     "output_type": "stream",
     "text": [
      "Took  0.88 seconds  for 5-fold CV using 15 most important features\n",
      "cv scores using 15 most important features: [0.83909161 0.83812112 0.83106884 0.84419282 0.83882239]\n",
      "Average score: 83.83%\n",
      "\n",
      "Took 3.42 seconds for 5-fold CV using all feature\n",
      "cv scores using all features: [0.83799172 0.77620342 0.77659161 0.84296344 0.84082821]\n",
      "Average score: 81.49%\n",
      "\n",
      "Using most important 15 features IMPROVED average CV accuracy by 2.33%\n"
     ]
    }
   ],
   "source": [
    "predictor_coef_sgd, impt_15f_sgd, scores_impt_sgd, scores_all_sgd = cv_important_features(sgd_clf)"
   ]
  },
  {
   "cell_type": "code",
   "execution_count": 19,
   "metadata": {},
   "outputs": [
    {
     "name": "stdout",
     "output_type": "stream",
     "text": [
      "1. Training set accuracy: 83.93%\n",
      "2. Validation accuracy: 83.95%\n",
      "3. Precision(How many days labeled as rainy are actually rainy?): 0.76\n",
      "4. Sensitivity/Recall(Of all the rainy days, how many of those are correctly predict?): 0.39\n",
      "5. Specificity(Of all the normal days, how many of those did we correctly predict?): 0.97\n",
      "6. F1 score: 0.52\n",
      "7. ROC Area under Curve: 0.68\n"
     ]
    },
    {
     "data": {
      "image/png": "[encoded data removed]",
      "text/plain": [
       "<Figure size 432x288 with 2 Axes>"
      ]
     },
     "metadata": {
      "needs_background": "light"
     },
     "output_type": "display_data"
    },
    {
     "name": "stdout",
     "output_type": "stream",
     "text": [
      "Time spent: 0.32\n"
     ]
    }
   ],
   "source": [
    "cross_validation(sgd_clf, X_train = X_train1[impt_15f_sgd], X_valid = X_valid[impt_15f_sgd])"
   ]
  },
  {
   "cell_type": "code",
   "execution_count": 20,
   "metadata": {},
   "outputs": [
    {
     "data": {
      "text/plain": [
       "['Humidity3pm',\n",
       " 'Rainfall',\n",
       " 'Rainfall_year_diff',\n",
       " 'Pressure3pm',\n",
       " 'Pressure3pm_lag1',\n",
       " 'Rainfall_month_diff',\n",
       " 'Pressure3pm_year_diff',\n",
       " 'MinTemp',\n",
       " 'Pressure3pm_month_diff',\n",
       " 'WindGustY_month_diff',\n",
       " 'Humidity3pm_year_diff',\n",
       " 'MinTemp_month_diff',\n",
       " 'Humidity3pm_lag1',\n",
       " 'WindGustY_year_diff',\n",
       " 'WindGustY']"
      ]
     },
     "execution_count": 20,
     "metadata": {},
     "output_type": "execute_result"
    }
   ],
   "source": [
    "# use most important 15 features\n",
    "impt_15f_sgd"
   ]
  },
  {
   "cell_type": "code",
   "execution_count": 21,
   "metadata": {},
   "outputs": [],
   "source": [
    "model_15f[sgd_clf] = impt_15f_sgd"
   ]
  },
  {
   "cell_type": "markdown",
   "metadata": {},
   "source": [
    "### 4.1.2 Use PCA"
   ]
  },
  {
   "cell_type": "code",
   "execution_count": 22,
   "metadata": {},
   "outputs": [
    {
     "name": "stdout",
     "output_type": "stream",
     "text": [
      "X train1 pca: (61822, 20) \n",
      "y train1: (61822,) \n",
      "X valid pca: (15456, 20) \n",
      "y valid: (15456,)\n"
     ]
    }
   ],
   "source": [
    "from sklearn.decomposition import PCA\n",
    "\n",
    "pca = PCA(20, whiten=True)\n",
    "pac_train = pca.fit(X_train)\n",
    "principalComponents = pac_train.transform(X_train)\n",
    "#fit-train, transform-test\n",
    "X_train_pca = pd.DataFrame(data = principalComponents)\n",
    "X_train_pca.shape\n",
    "\n",
    "# PCA cross validation set\n",
    "X_train1_pca, X_valid_pca, y_train1_pca, y_valid_pca = train_test_split(X_train_pca , y_train, test_size=0.20, stratify = y_train, random_state=0)\n",
    "print(\"X train1 pca:\",X_train1_pca.shape, \"\\ny train1:\", y_train1_pca.shape, \"\\nX valid pca:\",X_valid_pca.shape, \"\\ny valid:\",y_valid.shape)"
   ]
  },
  {
   "cell_type": "code",
   "execution_count": 23,
   "metadata": {},
   "outputs": [
    {
     "name": "stdout",
     "output_type": "stream",
     "text": [
      "1. Training set accuracy: 83.17%\n",
      "2. Validation accuracy: 82.75%\n",
      "3. Precision(How many days labeled as rainy are actually rainy?): 0.65\n",
      "4. Sensitivity/Recall(Of all the rainy days, how many of those are correctly predict?): 0.45\n",
      "5. Specificity(Of all the normal days, how many of those did we correctly predict?): 0.93\n",
      "6. F1 score: 0.53\n",
      "7. ROC Area under Curve: 0.69\n"
     ]
    },
    {
     "data": {
      "image/png": "[encoded data removed]",
      "text/plain": [
       "<Figure size 432x288 with 2 Axes>"
      ]
     },
     "metadata": {
      "needs_background": "light"
     },
     "output_type": "display_data"
    },
    {
     "name": "stdout",
     "output_type": "stream",
     "text": [
      "Time spent: 0.45\n"
     ]
    }
   ],
   "source": [
    "# use PCA for cross validation\n",
    "sgd_clf_pca = SGDClassifier(random_state=42)\n",
    "cross_validation(sgd_clf_pca, X_train = X_train1_pca, y_train = y_train1_pca, X_valid = X_valid_pca, y_valid = y_valid_pca )"
   ]
  },
  {
   "cell_type": "markdown",
   "metadata": {},
   "source": [
    "sensitivity dropped"
   ]
  },
  {
   "cell_type": "markdown",
   "metadata": {},
   "source": [
    "### 4.1.3* cross validate on a whole year"
   ]
  },
  {
   "cell_type": "code",
   "execution_count": 24,
   "metadata": {
    "scrolled": true
   },
   "outputs": [
    {
     "data": {
      "text/plain": [
       "['83.21%', '84.76%', '83.62%', '84.47%', '84.93%', '84.63%', '78.69%']"
      ]
     },
     "execution_count": 24,
     "metadata": {},
     "output_type": "execute_result"
    }
   ],
   "source": [
    "# 2015 is held out as the test set, other years will be held out one by one as validation set.\n",
    "train_df1 = train_df.copy(deep=True)\n",
    "\n",
    "def cross_validation_year():\n",
    "    cv_score_year = []\n",
    "    for y in train_df1.Year.unique():\n",
    "\n",
    "        train1 = train_df1 [(train_df1.Year != y)]\n",
    "        valid = train_df1 [train_df1.Year == y]\n",
    "\n",
    "        X_train1 = train1.drop(columns = [\"RainTomorrow\", \"Year\"], axis = 1)\n",
    "        y_train1 = train1[\"RainTomorrow\"]\n",
    "\n",
    "        X_valid = valid.drop(columns = [\"RainTomorrow\", \"Year\"], axis=1)\n",
    "        y_valid = valid[\"RainTomorrow\"]\n",
    "\n",
    "        sgd_clf1 = SGDClassifier(random_state=42)\n",
    "        sgd_clf1.fit(X_train1, y_train1)\n",
    "        y_pred_sgd1=sgd_clf1.predict(X_valid)\n",
    "        score = \"{0:.2%}\".format(accuracy_score(y_valid,y_pred_sgd1))\n",
    "        cv_score_year.append(score)\n",
    "        \n",
    "    return cv_score_year\n",
    "\n",
    "cross_validation_year()"
   ]
  },
  {
   "cell_type": "markdown",
   "metadata": {},
   "source": [
    "#### going to expect diffent test result####"
   ]
  },
  {
   "cell_type": "markdown",
   "metadata": {},
   "source": [
    "## 4.2 Logistic Regression"
   ]
  },
  {
   "cell_type": "code",
   "execution_count": 91,
   "metadata": {},
   "outputs": [
    {
     "name": "stdout",
     "output_type": "stream",
     "text": [
      "1. Training set accuracy: 84.88%\n",
      "2. Validation accuracy: 85.09%\n",
      "3. Precision(How many days labeled as rainy are actually rainy?): 0.73\n",
      "4. Sensitivity/Recall(Of all the rainy days, how many of those are correctly predict?): 0.5\n",
      "5. Specificity(Of all the normal days, how many of those did we correctly predict?): 0.95\n",
      "6. F1 score: 0.59\n",
      "7. ROC Area under Curve: 0.73\n"
     ]
    },
    {
     "data": {
      "image/png": "[encoded data removed]",
      "text/plain": [
       "<Figure size 432x288 with 2 Axes>"
      ]
     },
     "metadata": {
      "needs_background": "light"
     },
     "output_type": "display_data"
    },
    {
     "name": "stdout",
     "output_type": "stream",
     "text": [
      "Time spent: 34.22\n"
     ]
    }
   ],
   "source": [
    "clf_lr = LogisticRegression(C=100, penalty='l1', solver='liblinear')\n",
    "cross_validation(clf_lr)"
   ]
  },
  {
   "cell_type": "code",
   "execution_count": 93,
   "metadata": {},
   "outputs": [
    {
     "name": "stdout",
     "output_type": "stream",
     "text": [
      "1. Training set accuracy: 84.84%\n",
      "2. Validation accuracy: 85.18%\n",
      "3. Precision(How many days labeled as rainy are actually rainy?): 0.74\n",
      "4. Sensitivity/Recall(Of all the rainy days, how many of those are correctly predict?): 0.5\n",
      "5. Specificity(Of all the normal days, how many of those did we correctly predict?): 0.95\n",
      "6. F1 score: 0.6\n",
      "7. ROC Area under Curve: 0.73\n"
     ]
    },
    {
     "data": {
      "image/png": "[encoded data removed]",
      "text/plain": [
       "<Figure size 432x288 with 2 Axes>"
      ]
     },
     "metadata": {
      "needs_background": "light"
     },
     "output_type": "display_data"
    },
    {
     "name": "stdout",
     "output_type": "stream",
     "text": [
      "Time spent: 29.09\n"
     ]
    }
   ],
   "source": [
    "clf_lr = LogisticRegression(C=0.9, penalty='l1', solver='liblinear')\n",
    "cross_validation(clf_lr)"
   ]
  },
  {
   "cell_type": "code",
   "execution_count": 97,
   "metadata": {},
   "outputs": [
    {
     "name": "stdout",
     "output_type": "stream",
     "text": [
      "1. Training set accuracy: 83.62%\n",
      "2. Validation accuracy: 83.27%\n",
      "3. Precision(How many days labeled as rainy are actually rainy?): 0.69\n",
      "4. Sensitivity/Recall(Of all the rainy days, how many of those are correctly predict?): 0.43\n",
      "5. Specificity(Of all the normal days, how many of those did we correctly predict?): 0.95\n",
      "6. F1 score: 0.53\n",
      "7. ROC Area under Curve: 0.69\n"
     ]
    },
    {
     "data": {
      "image/png": "[encoded data removed]",
      "text/plain": [
       "<Figure size 432x288 with 2 Axes>"
      ]
     },
     "metadata": {
      "needs_background": "light"
     },
     "output_type": "display_data"
    },
    {
     "name": "stdout",
     "output_type": "stream",
     "text": [
      "Time spent: 0.39\n"
     ]
    }
   ],
   "source": [
    "cross_validation(clf_lr, X_train = X_train1_pca, y_train = y_train1_pca, X_valid = X_valid_pca, y_valid = y_valid_pca )"
   ]
  },
  {
   "cell_type": "markdown",
   "metadata": {},
   "source": [
    "A bit under fitting"
   ]
  },
  {
   "cell_type": "code",
   "execution_count": 26,
   "metadata": {},
   "outputs": [
    {
     "data": {
      "text/plain": [
       "Index(['Humidity9am', 'Temp9am', 'Rainfall_lag1', 'Rainfall_lag2',\n",
       "       'WindGustX_year_diff', 'Launceston', 'PerthAirport', 'SydneyAirport'],\n",
       "      dtype='object')"
      ]
     },
     "execution_count": 26,
     "metadata": {},
     "output_type": "execute_result"
    }
   ],
   "source": [
    "# see the features removed by lasso\n",
    "sel_ = SelectFromModel(LogisticRegression(C=1, penalty='l1', solver='liblinear')).fit(X_train, y_train)\n",
    "lasso_removed_feats = X_train.columns[(sel_.estimator_.coef_ == 0).ravel().tolist()]\n",
    "lasso_removed_feats"
   ]
  },
  {
   "cell_type": "code",
   "execution_count": 27,
   "metadata": {
    "scrolled": true
   },
   "outputs": [
    {
     "name": "stdout",
     "output_type": "stream",
     "text": [
      "Took  35.58 seconds  for 5-fold CV using 15 most important features\n",
      "cv scores using 15 most important features: [0.8448499  0.83592133 0.83216874 0.84665157 0.84102232]\n",
      "Average score: 84.01%\n",
      "\n",
      "Took 197.22 seconds for 5-fold CV using all feature\n",
      "cv scores using all features: [0.85209627 0.76358696 0.75808747 0.83274021 0.83778712]\n",
      "Average score: 80.89%\n",
      "\n",
      "Using most important 15 features IMPROVED average CV accuracy by 3.13%\n"
     ]
    }
   ],
   "source": [
    "predictor_coef_lr, impt_15f_lr, scores_impt_lr, scores_all_lr = cv_important_features(clf_lr)"
   ]
  },
  {
   "cell_type": "code",
   "execution_count": 90,
   "metadata": {},
   "outputs": [
    {
     "name": "stdout",
     "output_type": "stream",
     "text": [
      "1. Training set accuracy: 84.66%\n",
      "2. Validation accuracy: 84.83%\n",
      "3. Precision(How many days labeled as rainy are actually rainy?): 0.72\n",
      "4. Sensitivity/Recall(Of all the rainy days, how many of those are correctly predict?): 0.5\n",
      "5. Specificity(Of all the normal days, how many of those did we correctly predict?): 0.95\n",
      "6. F1 score: 0.59\n",
      "7. ROC Area under Curve: 0.72\n"
     ]
    },
    {
     "data": {
      "image/png": "[encoded data removed]",
      "text/plain": [
       "<Figure size 432x288 with 2 Axes>"
      ]
     },
     "metadata": {
      "needs_background": "light"
     },
     "output_type": "display_data"
    },
    {
     "name": "stdout",
     "output_type": "stream",
     "text": [
      "Time spent: 10.76\n"
     ]
    }
   ],
   "source": [
    "cross_validation(clf_lr, X_train = X_train1[imp_15_Freq], X_valid = X_valid[imp_15_Freq])"
   ]
  },
  {
   "cell_type": "markdown",
   "metadata": {},
   "source": [
    "## SVC"
   ]
  },
  {
   "cell_type": "code",
   "execution_count": 80,
   "metadata": {},
   "outputs": [
    {
     "name": "stdout",
     "output_type": "stream",
     "text": [
      "1. Training set accuracy: 84.93%\n",
      "2. Validation accuracy: 85.08%\n",
      "3. Precision(How many days labeled as rainy are actually rainy?): 0.76\n",
      "4. Sensitivity/Recall(Of all the rainy days, how many of those are correctly predict?): 0.47\n",
      "5. Specificity(Of all the normal days, how many of those did we correctly predict?): 0.96\n",
      "6. F1 score: 0.58\n",
      "7. ROC Area under Curve: 0.71\n"
     ]
    },
    {
     "data": {
      "image/png": "[encoded data removed]",
      "text/plain": [
       "<Figure size 432x288 with 2 Axes>"
      ]
     },
     "metadata": {
      "needs_background": "light"
     },
     "output_type": "display_data"
    },
    {
     "name": "stdout",
     "output_type": "stream",
     "text": [
      "Time spent: 587.43\n"
     ]
    }
   ],
   "source": [
    "clf_svc = svm.SVC(kernel='linear', C=1)\n",
    "cross_validation(clf_svc)"
   ]
  },
  {
   "cell_type": "code",
   "execution_count": 85,
   "metadata": {},
   "outputs": [
    {
     "name": "stdout",
     "output_type": "stream",
     "text": [
      "1. Training set accuracy: 83.57%\n",
      "2. Validation accuracy: 83.17%\n",
      "3. Precision(How many days labeled as rainy are actually rainy?): 0.71\n",
      "4. Sensitivity/Recall(Of all the rainy days, how many of those are correctly predict?): 0.39\n",
      "5. Specificity(Of all the normal days, how many of those did we correctly predict?): 0.95\n",
      "6. F1 score: 0.5\n",
      "7. ROC Area under Curve: 0.67\n"
     ]
    },
    {
     "data": {
      "image/png": "[encoded data removed]",
      "text/plain": [
       "<Figure size 432x288 with 2 Axes>"
      ]
     },
     "metadata": {
      "needs_background": "light"
     },
     "output_type": "display_data"
    },
    {
     "name": "stdout",
     "output_type": "stream",
     "text": [
      "Time spent: 233.39\n"
     ]
    }
   ],
   "source": [
    "# use PCA for cross validation\n",
    "cross_validation(clf_svc, X_train = X_train1_pca, y_train = y_train1_pca, X_valid = X_valid_pca, y_valid = y_valid_pca )"
   ]
  },
  {
   "cell_type": "code",
   "execution_count": 86,
   "metadata": {},
   "outputs": [
    {
     "name": "stdout",
     "output_type": "stream",
     "text": [
      "1. Training set accuracy: 84.49%\n",
      "2. Validation accuracy: 84.52%\n",
      "3. Precision(How many days labeled as rainy are actually rainy?): 0.75\n",
      "4. Sensitivity/Recall(Of all the rainy days, how many of those are correctly predict?): 0.44\n",
      "5. Specificity(Of all the normal days, how many of those did we correctly predict?): 0.96\n",
      "6. F1 score: 0.55\n",
      "7. ROC Area under Curve: 0.7\n"
     ]
    },
    {
     "data": {
      "image/png": "[encoded data removed]",
      "text/plain": [
       "<Figure size 432x288 with 2 Axes>"
      ]
     },
     "metadata": {
      "needs_background": "light"
     },
     "output_type": "display_data"
    },
    {
     "name": "stdout",
     "output_type": "stream",
     "text": [
      "Time spent: 0.45\n"
     ]
    }
   ],
   "source": [
    "# use PCA for cross validation\n",
    "cross_validation(sgd_clf, X_train = X_train1[imp_15_Freq], X_valid = X_valid[imp_15_Freq])"
   ]
  },
  {
   "cell_type": "markdown",
   "metadata": {},
   "source": [
    "## 4.4 KNN"
   ]
  },
  {
   "cell_type": "code",
   "execution_count": 84,
   "metadata": {},
   "outputs": [
    {
     "name": "stdout",
     "output_type": "stream",
     "text": [
      "1. Training set accuracy: 86.23%\n",
      "2. Validation accuracy: 80.91%\n",
      "3. Precision(How many days labeled as rainy are actually rainy?): 0.61\n",
      "4. Sensitivity/Recall(Of all the rainy days, how many of those are correctly predict?): 0.36\n",
      "5. Specificity(Of all the normal days, how many of those did we correctly predict?): 0.93\n",
      "6. F1 score: 0.45\n",
      "7. ROC Area under Curve: 0.65\n"
     ]
    },
    {
     "data": {
      "image/png": "[encoded data removed]",
      "text/plain": [
       "<Figure size 432x288 with 2 Axes>"
      ]
     },
     "metadata": {
      "needs_background": "light"
     },
     "output_type": "display_data"
    },
    {
     "name": "stdout",
     "output_type": "stream",
     "text": [
      "Time spent: 149.57\n"
     ]
    }
   ],
   "source": [
    "knn = KNeighborsClassifier(n_neighbors=5)\n",
    "cross_validation(knn)\n",
    "# cross_validation(knn, X_train = X_train1_pca, y_train = y_train1_pca, X_valid = X_valid_pca, y_valid = y_valid_pca )"
   ]
  },
  {
   "cell_type": "markdown",
   "metadata": {},
   "source": [
    "#### K=5 overfit"
   ]
  },
  {
   "cell_type": "markdown",
   "metadata": {},
   "source": [
    "## 4.5 Random Forest"
   ]
  },
  {
   "cell_type": "code",
   "execution_count": 31,
   "metadata": {},
   "outputs": [
    {
     "name": "stdout",
     "output_type": "stream",
     "text": [
      "1. Training set accuracy: 86.11%\n",
      "2. Validation accuracy: 84.96%\n",
      "3. Precision(How many days labeled as rainy are actually rainy?): 0.79\n",
      "4. Sensitivity/Recall(Of all the rainy days, how many of those are correctly predict?): 0.42\n",
      "5. Specificity(Of all the normal days, how many of those did we correctly predict?): 0.97\n",
      "6. F1 score: 0.55\n",
      "7. ROC Area under Curve: 0.7\n"
     ]
    },
    {
     "data": {
      "image/png": "[encoded data removed]",
      "text/plain": [
       "<Figure size 432x288 with 2 Axes>"
      ]
     },
     "metadata": {
      "needs_background": "light"
     },
     "output_type": "display_data"
    },
    {
     "name": "stdout",
     "output_type": "stream",
     "text": [
      "Time spent: 22.75\n"
     ]
    }
   ],
   "source": [
    "rfc=RandomForestClassifier(random_state=42, max_features='auto', n_estimators= 200, max_depth=8, criterion='gini')\n",
    "cross_validation(rfc)"
   ]
  },
  {
   "cell_type": "code",
   "execution_count": 32,
   "metadata": {},
   "outputs": [
    {
     "name": "stdout",
     "output_type": "stream",
     "text": [
      "Took  55.42 seconds  for 5-fold CV using 15 most important features\n",
      "cv scores using 15 most important features: [0.85157867 0.8449146  0.83993271 0.85092203 0.84613394]\n",
      "Average score: 84.67%\n",
      "\n",
      "Took 102.56 seconds for 5-fold CV using all feature\n",
      "cv scores using all features: [0.85119048 0.8432324  0.84148551 0.8487221  0.84678098]\n",
      "Average score: 84.63%\n",
      "\n",
      "Using most important 15 features IMPROVED average CV accuracy by 0.04%\n"
     ]
    }
   ],
   "source": [
    "predictor_coef_rfc, impt_15f_rfc, scores_impt_rfc, scores_all_r10c = cv_important_features(rfc, 1)"
   ]
  },
  {
   "cell_type": "code",
   "execution_count": null,
   "metadata": {
    "scrolled": true
   },
   "outputs": [],
   "source": [
    "# plot_roc_curve(rfc, X_train[impt_15f_rfc], y_train)\n",
    "# plot_roc_curve(sgd_clf, X_train[impt_15f_sgd], y_train)\n",
    "# plot_roc_curve(clf_lr, X_train[impt_15f_lr], y_train)\n",
    "# plot_roc_curve(knn, X_train[impt_15f_rfc], y_train)\n",
    "# plt.show()"
   ]
  },
  {
   "cell_type": "markdown",
   "metadata": {},
   "source": [
    "## 4.6 Multilayer Perceptron"
   ]
  },
  {
   "cell_type": "code",
   "execution_count": 33,
   "metadata": {},
   "outputs": [
    {
     "name": "stdout",
     "output_type": "stream",
     "text": [
      "1. Training set accuracy: 87.53%\n",
      "2. Validation accuracy: 86.25%\n",
      "3. Precision(How many days labeled as rainy are actually rainy?): 0.74\n",
      "4. Sensitivity/Recall(Of all the rainy days, how many of those are correctly predict?): 0.57\n",
      "5. Specificity(Of all the normal days, how many of those did we correctly predict?): 0.94\n",
      "6. F1 score: 0.64\n",
      "7. ROC Area under Curve: 0.76\n"
     ]
    },
    {
     "data": {
      "image/png": "[encoded data removed]",
      "text/plain": [
       "<Figure size 432x288 with 2 Axes>"
      ]
     },
     "metadata": {
      "needs_background": "light"
     },
     "output_type": "display_data"
    },
    {
     "name": "stdout",
     "output_type": "stream",
     "text": [
      "Time spent: 174.14\n"
     ]
    }
   ],
   "source": [
    "from sklearn.neural_network import MLPClassifier\n",
    "\n",
    "params_nn = {'hidden_layer_sizes': (25,25,25),\n",
    "             'activation': 'relu',\n",
    "             'solver': 'lbfgs',\n",
    "             'max_iter': 10000,\n",
    "             'tol': 0.001,\n",
    "             'batch_size' : 10,\n",
    "             'early_stopping': True}\n",
    "\n",
    "model_mlpc = MLPClassifier(**params_nn)\n",
    "\n",
    "cross_validation(model_mlpc)"
   ]
  },
  {
   "cell_type": "markdown",
   "metadata": {},
   "source": [
    "# Deal with Imbalance"
   ]
  },
  {
   "cell_type": "markdown",
   "metadata": {},
   "source": [
    "## 4.6 Balanced Random Forest"
   ]
  },
  {
   "cell_type": "code",
   "execution_count": 34,
   "metadata": {},
   "outputs": [
    {
     "name": "stdout",
     "output_type": "stream",
     "text": [
      "1. Training set accuracy: 82.46%\n",
      "2. Validation accuracy: 80.87%\n",
      "3. Precision(How many days labeled as rainy are actually rainy?): 0.55\n",
      "4. Sensitivity/Recall(Of all the rainy days, how many of those are correctly predict?): 0.74\n",
      "5. Specificity(Of all the normal days, how many of those did we correctly predict?): 0.83\n",
      "6. F1 score: 0.63\n",
      "7. ROC Area under Curve: 0.78\n"
     ]
    },
    {
     "data": {
      "image/png": "[encoded data removed]",
      "text/plain": [
       "<Figure size 432x288 with 2 Axes>"
      ]
     },
     "metadata": {
      "needs_background": "light"
     },
     "output_type": "display_data"
    },
    {
     "name": "stdout",
     "output_type": "stream",
     "text": [
      "Time spent: 24.58\n"
     ]
    }
   ],
   "source": [
    "rfc_bal = RandomForestClassifier(class_weight='balanced',random_state=42, max_features='auto', \n",
    "                                 n_estimators= 200, max_depth=8, criterion='gini')\n",
    "cross_validation(rfc_bal)"
   ]
  },
  {
   "cell_type": "code",
   "execution_count": 35,
   "metadata": {},
   "outputs": [
    {
     "name": "stdout",
     "output_type": "stream",
     "text": [
      "Took  52.13 seconds  for 5-fold CV using 15 most important features\n",
      "cv scores using 15 most important features: [0.81437629 0.78500259 0.78681418 0.81617599 0.80724685]\n",
      "Average score: 80.19%\n",
      "\n",
      "Took 102.98 seconds for 5-fold CV using all feature\n",
      "cv scores using all features: [0.82434006 0.78616718 0.79380176 0.82296991 0.81287609]\n",
      "Average score: 80.80%\n",
      "\n",
      "Using most important 15 features decresed average CV accuracy by -0.61%\n"
     ]
    }
   ],
   "source": [
    "predictor_coef_brfc, impt_15f_brfc, scores_impt_brfc, scores_all_brfc = cv_important_features(rfc_bal, 1)"
   ]
  },
  {
   "cell_type": "markdown",
   "metadata": {},
   "source": [
    "## 4.7 Balanced Bagging Classifier"
   ]
  },
  {
   "cell_type": "code",
   "execution_count": 36,
   "metadata": {},
   "outputs": [
    {
     "name": "stdout",
     "output_type": "stream",
     "text": [
      "1. Training set accuracy: 100.00%\n",
      "2. Validation accuracy: 86.74%\n",
      "3. Precision(How many days labeled as rainy are actually rainy?): 0.78\n",
      "4. Sensitivity/Recall(Of all the rainy days, how many of those are correctly predict?): 0.54\n",
      "5. Specificity(Of all the normal days, how many of those did we correctly predict?): 0.96\n",
      "6. F1 score: 0.64\n",
      "7. ROC Area under Curve: 0.75\n"
     ]
    },
    {
     "data": {
      "image/png": "[encoded data removed]",
      "text/plain": [
       "<Figure size 432x288 with 2 Axes>"
      ]
     },
     "metadata": {
      "needs_background": "light"
     },
     "output_type": "display_data"
    },
    {
     "name": "stdout",
     "output_type": "stream",
     "text": [
      "Time spent: 712.11\n"
     ]
    }
   ],
   "source": [
    "clf_bb = BalancedBaggingClassifier(random_state=42, max_features= 0.8, \n",
    "                                 n_estimators= 200, sampling_strategy = 'not majority')\n",
    "cross_validation(clf_bb)"
   ]
  },
  {
   "cell_type": "markdown",
   "metadata": {},
   "source": [
    "## 4.8 EasyEnsemble\n",
    "Bag of balanced boosted learners.\n",
    "\n",
    "The classifier is an ensemble of AdaBoost learners trained on different balanced boostrap samples. \n",
    "The balancing is achieved by random under-sampling."
   ]
  },
  {
   "cell_type": "code",
   "execution_count": 37,
   "metadata": {},
   "outputs": [
    {
     "name": "stdout",
     "output_type": "stream",
     "text": [
      "1. Training set accuracy: 80.10%\n",
      "2. Validation accuracy: 79.23%\n",
      "3. Precision(How many days labeled as rainy are actually rainy?): 0.52\n",
      "4. Sensitivity/Recall(Of all the rainy days, how many of those are correctly predict?): 0.77\n",
      "5. Specificity(Of all the normal days, how many of those did we correctly predict?): 0.8\n",
      "6. F1 score: 0.62\n",
      "7. ROC Area under Curve: 0.78\n"
     ]
    },
    {
     "data": {
      "image/png": "[encoded data removed]",
      "text/plain": [
       "<Figure size 432x288 with 2 Axes>"
      ]
     },
     "metadata": {
      "needs_background": "light"
     },
     "output_type": "display_data"
    },
    {
     "name": "stdout",
     "output_type": "stream",
     "text": [
      "Time spent: 69.28\n"
     ]
    }
   ],
   "source": [
    "from imblearn.ensemble import EasyEnsembleClassifier \n",
    "eec = EasyEnsembleClassifier(random_state=42)\n",
    "cross_validation(eec)"
   ]
  },
  {
   "cell_type": "markdown",
   "metadata": {},
   "source": [
    "## 4.9 RUSBoostClassifier"
   ]
  },
  {
   "cell_type": "code",
   "execution_count": 38,
   "metadata": {},
   "outputs": [
    {
     "name": "stdout",
     "output_type": "stream",
     "text": [
      "1. Training set accuracy: 79.78%\n",
      "2. Validation accuracy: 79.30%\n",
      "3. Precision(How many days labeled as rainy are actually rainy?): 0.52\n",
      "4. Sensitivity/Recall(Of all the rainy days, how many of those are correctly predict?): 0.76\n",
      "5. Specificity(Of all the normal days, how many of those did we correctly predict?): 0.8\n",
      "6. F1 score: 0.62\n",
      "7. ROC Area under Curve: 0.78\n"
     ]
    },
    {
     "data": {
      "image/png": "[encoded data removed]",
      "text/plain": [
       "<Figure size 432x288 with 2 Axes>"
      ]
     },
     "metadata": {
      "needs_background": "light"
     },
     "output_type": "display_data"
    },
    {
     "name": "stdout",
     "output_type": "stream",
     "text": [
      "Time spent: 11.53\n"
     ]
    }
   ],
   "source": [
    "from imblearn.ensemble import RUSBoostClassifier\n",
    "\n",
    "clf_rus = RUSBoostClassifier(random_state=0)\n",
    "cross_validation(clf_rus)"
   ]
  },
  {
   "cell_type": "markdown",
   "metadata": {},
   "source": [
    "# 5. Show best features"
   ]
  },
  {
   "cell_type": "markdown",
   "metadata": {},
   "source": [
    "## 5.1 based on coeffients"
   ]
  },
  {
   "cell_type": "markdown",
   "metadata": {},
   "source": [
    "## 5.2  use RFE."
   ]
  },
  {
   "cell_type": "code",
   "execution_count": 51,
   "metadata": {},
   "outputs": [],
   "source": [
    "from sklearn.feature_selection import RFE\n",
    "\n",
    "# n_features_to_select=1 to rank all features\n",
    "selector = RFE(sgd_clf, n_features_to_select=1, step=1)\n",
    "selector = selector.fit(X_train, y_train)\n",
    "\n",
    "rank1 = selector.ranking_\n",
    "\n",
    "d1 = {} \n",
    "for key in l: \n",
    "    for value in rank1: \n",
    "        d1[key] = value \n",
    "        np.delete(rank1, np.argwhere(rank1 == 6))\n",
    "        break\n",
    "\n",
    "predictor_rank = {k: v for k, v in sorted(d1.items(), reverse=True, key=lambda item: abs(item[1]))}\n",
    "# select top 10 features \n",
    "impt_15_rfe= [k for k,v in predictor_rank.items()][:15]"
   ]
  },
  {
   "cell_type": "markdown",
   "metadata": {},
   "source": [
    "### 5.3 Kbest"
   ]
  },
  {
   "cell_type": "code",
   "execution_count": 52,
   "metadata": {},
   "outputs": [
    {
     "data": {
      "text/plain": [
       "Index(['Rainfall', 'Sunshine', 'Humidity9am', 'Humidity3pm', 'Cloud9am',\n",
       "       'Cloud3pm', 'RainToday', 'Humidity3pm_lag1', 'RainToday_lag1',\n",
       "       'Humidity3pm_lag2', 'RainToday_lag2', 'Humidity3pm_month_diff',\n",
       "       'Humidity3pm_year_diff', 'AliceSprings', 'Woomera'],\n",
       "      dtype='object')"
      ]
     },
     "execution_count": 52,
     "metadata": {},
     "output_type": "execute_result"
    }
   ],
   "source": [
    "from sklearn.feature_selection import SelectKBest, chi2\n",
    "from sklearn.model_selection import train_test_split\n",
    "\n",
    "selector = SelectKBest(chi2, k=15)\n",
    "selector.fit_transform(X_train, y_train)\n",
    "impt_15_Kbest = X_train.columns[selector.get_support(indices=True)]\n",
    "impt_15_Kbest"
   ]
  },
  {
   "cell_type": "code",
   "execution_count": 53,
   "metadata": {},
   "outputs": [
    {
     "data": {
      "text/html": [
       "<div>\n",
       "<style scoped>\n",
       "    .dataframe tbody tr th:only-of-type {\n",
       "        vertical-align: middle;\n",
       "    }\n",
       "\n",
       "    .dataframe tbody tr th {\n",
       "        vertical-align: top;\n",
       "    }\n",
       "\n",
       "    .dataframe thead th {\n",
       "        text-align: right;\n",
       "    }\n",
       "</style>\n",
       "<table border=\"1\" class=\"dataframe\">\n",
       "  <thead>\n",
       "    <tr style=\"text-align: right;\">\n",
       "      <th></th>\n",
       "      <th>LReg</th>\n",
       "      <th>RamF</th>\n",
       "      <th>SGD</th>\n",
       "      <th>RFE_sgd</th>\n",
       "      <th>Kbest</th>\n",
       "      <th>gradient_baggin</th>\n",
       "    </tr>\n",
       "  </thead>\n",
       "  <tbody>\n",
       "    <tr>\n",
       "      <th>0</th>\n",
       "      <td>Rainfall_month_diff</td>\n",
       "      <td>Humidity3pm</td>\n",
       "      <td>Humidity3pm</td>\n",
       "      <td>MinTemp</td>\n",
       "      <td>Rainfall</td>\n",
       "      <td>Humidity3pm</td>\n",
       "    </tr>\n",
       "    <tr>\n",
       "      <th>1</th>\n",
       "      <td>Rainfall</td>\n",
       "      <td>Humidity3pm_year_diff</td>\n",
       "      <td>Rainfall</td>\n",
       "      <td>MaxTemp</td>\n",
       "      <td>Sunshine</td>\n",
       "      <td>Rainfall</td>\n",
       "    </tr>\n",
       "    <tr>\n",
       "      <th>2</th>\n",
       "      <td>Rainfall_year_diff</td>\n",
       "      <td>Humidity3pm_month_diff</td>\n",
       "      <td>Rainfall_year_diff</td>\n",
       "      <td>Rainfall</td>\n",
       "      <td>Humidity9am</td>\n",
       "      <td>Humidity3pm_year_diff</td>\n",
       "    </tr>\n",
       "    <tr>\n",
       "      <th>3</th>\n",
       "      <td>MinTemp</td>\n",
       "      <td>Rainfall</td>\n",
       "      <td>Pressure3pm</td>\n",
       "      <td>Evaporation</td>\n",
       "      <td>Humidity3pm</td>\n",
       "      <td>Sunshine</td>\n",
       "    </tr>\n",
       "    <tr>\n",
       "      <th>4</th>\n",
       "      <td>Pressure3pm</td>\n",
       "      <td>Sunshine</td>\n",
       "      <td>Pressure3pm_lag1</td>\n",
       "      <td>Sunshine</td>\n",
       "      <td>Cloud9am</td>\n",
       "      <td>Pressure3pm_month_diff</td>\n",
       "    </tr>\n",
       "    <tr>\n",
       "      <th>5</th>\n",
       "      <td>Pressure3pm_month_diff</td>\n",
       "      <td>Cloud3pm</td>\n",
       "      <td>Rainfall_month_diff</td>\n",
       "      <td>Humidity9am</td>\n",
       "      <td>Cloud3pm</td>\n",
       "      <td>Pressure3pm</td>\n",
       "    </tr>\n",
       "    <tr>\n",
       "      <th>6</th>\n",
       "      <td>Humidity3pm</td>\n",
       "      <td>RainToday</td>\n",
       "      <td>Pressure3pm_year_diff</td>\n",
       "      <td>Humidity3pm</td>\n",
       "      <td>RainToday</td>\n",
       "      <td>lon</td>\n",
       "    </tr>\n",
       "    <tr>\n",
       "      <th>7</th>\n",
       "      <td>MinTemp_month_diff</td>\n",
       "      <td>Rainfall_year_diff</td>\n",
       "      <td>MinTemp</td>\n",
       "      <td>Pressure9am</td>\n",
       "      <td>Humidity3pm_lag1</td>\n",
       "      <td>Pressure3pm_year_diff</td>\n",
       "    </tr>\n",
       "    <tr>\n",
       "      <th>8</th>\n",
       "      <td>Pressure3pm_lag1</td>\n",
       "      <td>Pressure3pm_month_diff</td>\n",
       "      <td>Pressure3pm_month_diff</td>\n",
       "      <td>Pressure3pm</td>\n",
       "      <td>RainToday_lag1</td>\n",
       "      <td>Cloud3pm</td>\n",
       "    </tr>\n",
       "    <tr>\n",
       "      <th>9</th>\n",
       "      <td>MaxTemp_month_diff</td>\n",
       "      <td>Humidity9am</td>\n",
       "      <td>WindGustY_month_diff</td>\n",
       "      <td>Cloud9am</td>\n",
       "      <td>Humidity3pm_lag2</td>\n",
       "      <td>WindGustY</td>\n",
       "    </tr>\n",
       "    <tr>\n",
       "      <th>10</th>\n",
       "      <td>MaxTemp</td>\n",
       "      <td>Pressure9am</td>\n",
       "      <td>Humidity3pm_year_diff</td>\n",
       "      <td>Cloud3pm</td>\n",
       "      <td>RainToday_lag2</td>\n",
       "      <td>Rainfall_month_diff</td>\n",
       "    </tr>\n",
       "    <tr>\n",
       "      <th>11</th>\n",
       "      <td>WindGustY_month_diff</td>\n",
       "      <td>Pressure3pm</td>\n",
       "      <td>MinTemp_month_diff</td>\n",
       "      <td>Temp9am</td>\n",
       "      <td>Humidity3pm_month_diff</td>\n",
       "      <td>MinTemp</td>\n",
       "    </tr>\n",
       "    <tr>\n",
       "      <th>12</th>\n",
       "      <td>Pressure9am</td>\n",
       "      <td>Rainfall_month_diff</td>\n",
       "      <td>Humidity3pm_lag1</td>\n",
       "      <td>Temp3pm</td>\n",
       "      <td>Humidity3pm_year_diff</td>\n",
       "      <td>RainToday</td>\n",
       "    </tr>\n",
       "    <tr>\n",
       "      <th>13</th>\n",
       "      <td>WindGustY_year_diff</td>\n",
       "      <td>Pressure3pm_year_diff</td>\n",
       "      <td>WindGustY_year_diff</td>\n",
       "      <td>RainToday</td>\n",
       "      <td>AliceSprings</td>\n",
       "      <td>WindGustX</td>\n",
       "    </tr>\n",
       "    <tr>\n",
       "      <th>14</th>\n",
       "      <td>Humidity3pm_month_diff</td>\n",
       "      <td>MinTemp</td>\n",
       "      <td>WindGustY</td>\n",
       "      <td>lat</td>\n",
       "      <td>Woomera</td>\n",
       "      <td>Wind3pmX</td>\n",
       "    </tr>\n",
       "  </tbody>\n",
       "</table>\n",
       "</div>"
      ],
      "text/plain": [
       "                      LReg                    RamF                     SGD  \\\n",
       "0      Rainfall_month_diff             Humidity3pm             Humidity3pm   \n",
       "1                 Rainfall   Humidity3pm_year_diff                Rainfall   \n",
       "2       Rainfall_year_diff  Humidity3pm_month_diff      Rainfall_year_diff   \n",
       "3                  MinTemp                Rainfall             Pressure3pm   \n",
       "4              Pressure3pm                Sunshine        Pressure3pm_lag1   \n",
       "5   Pressure3pm_month_diff                Cloud3pm     Rainfall_month_diff   \n",
       "6              Humidity3pm               RainToday   Pressure3pm_year_diff   \n",
       "7       MinTemp_month_diff      Rainfall_year_diff                 MinTemp   \n",
       "8         Pressure3pm_lag1  Pressure3pm_month_diff  Pressure3pm_month_diff   \n",
       "9       MaxTemp_month_diff             Humidity9am    WindGustY_month_diff   \n",
       "10                 MaxTemp             Pressure9am   Humidity3pm_year_diff   \n",
       "11    WindGustY_month_diff             Pressure3pm      MinTemp_month_diff   \n",
       "12             Pressure9am     Rainfall_month_diff        Humidity3pm_lag1   \n",
       "13     WindGustY_year_diff   Pressure3pm_year_diff     WindGustY_year_diff   \n",
       "14  Humidity3pm_month_diff                 MinTemp               WindGustY   \n",
       "\n",
       "        RFE_sgd                   Kbest         gradient_baggin  \n",
       "0       MinTemp                Rainfall             Humidity3pm  \n",
       "1       MaxTemp                Sunshine                Rainfall  \n",
       "2      Rainfall             Humidity9am   Humidity3pm_year_diff  \n",
       "3   Evaporation             Humidity3pm                Sunshine  \n",
       "4      Sunshine                Cloud9am  Pressure3pm_month_diff  \n",
       "5   Humidity9am                Cloud3pm             Pressure3pm  \n",
       "6   Humidity3pm               RainToday                     lon  \n",
       "7   Pressure9am        Humidity3pm_lag1   Pressure3pm_year_diff  \n",
       "8   Pressure3pm          RainToday_lag1                Cloud3pm  \n",
       "9      Cloud9am        Humidity3pm_lag2               WindGustY  \n",
       "10     Cloud3pm          RainToday_lag2     Rainfall_month_diff  \n",
       "11      Temp9am  Humidity3pm_month_diff                 MinTemp  \n",
       "12      Temp3pm   Humidity3pm_year_diff               RainToday  \n",
       "13    RainToday            AliceSprings               WindGustX  \n",
       "14          lat                 Woomera                Wind3pmX  "
      ]
     },
     "execution_count": 53,
     "metadata": {},
     "output_type": "execute_result"
    }
   ],
   "source": [
    "f_top15 = pd.DataFrame(\n",
    "    {\n",
    "     'LReg': impt_15f_lr, \n",
    "     #'SVC': impt_15f_svc,\n",
    "     'RamF': impt_15f_rfc,\n",
    "     'SGD':impt_15f_sgd,\n",
    "     #'Balanc_RF': impt_15f_brfc,\n",
    "     'RFE_sgd':impt_15_rfe,\n",
    "     'Kbest':  impt_15_Kbest,\n",
    "     'gradient_baggin':impt_15f_gbc\n",
    "    })\n",
    "f_top15"
   ]
  },
  {
   "cell_type": "markdown",
   "metadata": {},
   "source": [
    "## 5.3 Most important features"
   ]
  },
  {
   "cell_type": "code",
   "execution_count": 54,
   "metadata": {
    "scrolled": false
   },
   "outputs": [
    {
     "name": "stdout",
     "output_type": "stream",
     "text": [
      "common features in all methods: {'Humidity3pm', 'Rainfall'} \n",
      "frequencies:\n"
     ]
    },
    {
     "data": {
      "text/plain": [
       "{'Humidity3pm': 7,\n",
       " 'Rainfall': 7,\n",
       " 'Pressure3pm': 6,\n",
       " 'Rainfall_month_diff': 5,\n",
       " 'Pressure3pm_month_diff': 5,\n",
       " 'MinTemp': 5,\n",
       " 'Humidity3pm_year_diff': 5,\n",
       " 'Sunshine': 5,\n",
       " 'Cloud3pm': 5,\n",
       " 'RainToday': 5,\n",
       " 'Rainfall_year_diff': 4,\n",
       " 'Pressure9am': 4,\n",
       " 'Humidity3pm_month_diff': 4,\n",
       " 'Humidity9am': 4,\n",
       " 'Pressure3pm_year_diff': 4,\n",
       " 'Cloud9am': 3,\n",
       " 'Pressure3pm_lag1': 2,\n",
       " 'WindGustY_year_diff': 2,\n",
       " 'WindGustY_month_diff': 2,\n",
       " 'MinTemp_month_diff': 2,\n",
       " 'MaxTemp': 2,\n",
       " 'Humidity3pm_lag1': 2,\n",
       " 'WindGustY': 2,\n",
       " 'MaxTemp_month_diff': 1,\n",
       " 'Evaporation': 1,\n",
       " 'Temp9am': 1,\n",
       " 'Temp3pm': 1,\n",
       " 'lat': 1,\n",
       " 'RainToday_lag1': 1,\n",
       " 'Humidity3pm_lag2': 1,\n",
       " 'RainToday_lag2': 1,\n",
       " 'AliceSprings': 1,\n",
       " 'Woomera': 1,\n",
       " 'lon': 1,\n",
       " 'WindGustX': 1,\n",
       " 'Wind3pmX': 1}"
      ]
     },
     "execution_count": 54,
     "metadata": {},
     "output_type": "execute_result"
    }
   ],
   "source": [
    "def longestCommonFeatures(lists):\n",
    "    \n",
    "    l1 = set(lists[0])\n",
    "    ppl = {}\n",
    "    \n",
    "    for i in l1:\n",
    "        if i not in ppl:\n",
    "            ppl[i] = 1\n",
    "        else:\n",
    "            ppl[i] += 1            \n",
    "            \n",
    "    for l in lists[1:]:\n",
    "        common = set(l).intersection(l1)\n",
    "        \n",
    "        for i in l:\n",
    "            if i not in ppl:\n",
    "                ppl[i] = 1\n",
    "            else:\n",
    "                ppl[i] += 1               \n",
    "                \n",
    "        l1 = common\n",
    "      \n",
    "    ppl = {k: v for k, v in sorted(ppl.items(), reverse=True, key=lambda item: abs(item[1]))}\n",
    "    \n",
    "    # choose the col with more than one vote\n",
    "    imp_15_Freq = []\n",
    "    for k,v in ppl.items():\n",
    "        if v>1:\n",
    "            imp_15_Freq.append(k)\n",
    "            \n",
    "    return common, ppl, imp_15_Freq\n",
    "\n",
    "impt_lists = [impt_15f_lr, impt_15f_rfc, impt_15f_sgd, impt_15f_brfc,impt_15_rfe, impt_15_Kbest, impt_15f_gbc]\n",
    "common, ppl, imp_15_Freq = longestCommonFeatures(impt_lists)\n",
    "print(\"common features in all methods:\",common, \"\\nfrequencies:\")\n",
    "ppl"
   ]
  },
  {
   "cell_type": "code",
   "execution_count": 56,
   "metadata": {
    "scrolled": true
   },
   "outputs": [
    {
     "data": {
      "text/plain": [
       "(36, 23)"
      ]
     },
     "execution_count": 56,
     "metadata": {},
     "output_type": "execute_result"
    }
   ],
   "source": [
    "len(ppl), len(imp_15_Freq)"
   ]
  },
  {
   "cell_type": "markdown",
   "metadata": {},
   "source": [
    "### select K beast features "
   ]
  },
  {
   "cell_type": "markdown",
   "metadata": {},
   "source": [
    "#### use important features saves time and doesn't lower accuracy"
   ]
  },
  {
   "cell_type": "markdown",
   "metadata": {},
   "source": [
    "# 6 Boosting"
   ]
  },
  {
   "cell_type": "markdown",
   "metadata": {},
   "source": [
    "## 6.1 Gradient Boosting"
   ]
  },
  {
   "cell_type": "code",
   "execution_count": 49,
   "metadata": {},
   "outputs": [
    {
     "name": "stdout",
     "output_type": "stream",
     "text": [
      "1. Training set accuracy: 86.26%\n",
      "2. Validation accuracy: 85.86%\n",
      "3. Precision(How many days labeled as rainy are actually rainy?): 0.76\n",
      "4. Sensitivity/Recall(Of all the rainy days, how many of those are correctly predict?): 0.52\n",
      "5. Specificity(Of all the normal days, how many of those did we correctly predict?): 0.95\n",
      "6. F1 score: 0.62\n",
      "7. ROC Area under Curve: 0.74\n"
     ]
    },
    {
     "data": {
      "image/png": "[encoded data removed]",
      "text/plain": [
       "<Figure size 432x288 with 2 Axes>"
      ]
     },
     "metadata": {
      "needs_background": "light"
     },
     "output_type": "display_data"
    },
    {
     "name": "stdout",
     "output_type": "stream",
     "text": [
      "Time spent: 56.02\n",
      "Took  62.09 seconds  for 5-fold CV using 15 most important features\n",
      "cv scores using 15 most important features: [0.85539596 0.84543219 0.84077381 0.86036881 0.85655128]\n",
      "Average score: 85.17%\n",
      "\n",
      "Took 261.97 seconds for 5-fold CV using all feature\n",
      "cv scores using all features: [0.85507246 0.77846791 0.77846791 0.85803947 0.85506309]\n",
      "Average score: 82.50%\n",
      "\n",
      "Using most important 15 features IMPROVED average CV accuracy by 2.67%\n"
     ]
    }
   ],
   "source": [
    "gbc = GradientBoostingClassifier(random_state=0)\n",
    "\n",
    "cross_validation(gbc)\n",
    "\n",
    "predictor_coef_gbc, impt_15f_gbc, scores_impt_gbc, scores_all_gbc = cv_important_features(gbc,1)"
   ]
  },
  {
   "cell_type": "markdown",
   "metadata": {},
   "source": [
    "## 6.2 AdaBoosting"
   ]
  },
  {
   "cell_type": "code",
   "execution_count": 40,
   "metadata": {},
   "outputs": [
    {
     "name": "stdout",
     "output_type": "stream",
     "text": [
      "1. Training set accuracy: 85.34%\n",
      "2. Validation accuracy: 85.37%\n",
      "3. Precision(How many days labeled as rainy are actually rainy?): 0.74\n",
      "4. Sensitivity/Recall(Of all the rainy days, how many of those are correctly predict?): 0.51\n",
      "5. Specificity(Of all the normal days, how many of those did we correctly predict?): 0.95\n",
      "6. F1 score: 0.6\n",
      "7. ROC Area under Curve: 0.73\n"
     ]
    },
    {
     "data": {
      "image/png": "[encoded data removed]",
      "text/plain": [
       "<Figure size 432x288 with 2 Axes>"
      ]
     },
     "metadata": {
      "needs_background": "light"
     },
     "output_type": "display_data"
    },
    {
     "name": "stdout",
     "output_type": "stream",
     "text": [
      "Time spent: 23.43\n"
     ]
    }
   ],
   "source": [
    "from sklearn.ensemble import AdaBoostClassifier\n",
    "adaB = AdaBoostClassifier(\n",
    "    n_estimators=100,\n",
    "    learning_rate=1\n",
    ")\n",
    "\n",
    "cross_validation(adaB)"
   ]
  },
  {
   "cell_type": "code",
   "execution_count": 46,
   "metadata": {},
   "outputs": [
    {
     "name": "stdout",
     "output_type": "stream",
     "text": [
      "1. Training set accuracy: 88.88%\n",
      "2. Validation accuracy: 86.56%\n",
      "3. Precision(How many days labeled as rainy are actually rainy?): 0.78\n",
      "4. Sensitivity/Recall(Of all the rainy days, how many of those are correctly predict?): 0.53\n",
      "5. Specificity(Of all the normal days, how many of those did we correctly predict?): 0.96\n",
      "6. F1 score: 0.63\n",
      "7. ROC Area under Curve: 0.75\n"
     ]
    },
    {
     "data": {
      "image/png": "[encoded data removed]",
      "text/plain": [
       "<Figure size 432x288 with 2 Axes>"
      ]
     },
     "metadata": {
      "needs_background": "light"
     },
     "output_type": "display_data"
    },
    {
     "name": "stdout",
     "output_type": "stream",
     "text": [
      "Time spent: 119.49\n"
     ]
    }
   ],
   "source": [
    "from sklearn.ensemble import AdaBoostClassifier\n",
    "adaB1 = AdaBoostClassifier(\n",
    "    base_estimator = rfc,\n",
    "    n_estimators=5,\n",
    "    learning_rate=1\n",
    ")\n",
    "\n",
    "cross_validation(adaB1)"
   ]
  },
  {
   "cell_type": "code",
   "execution_count": 47,
   "metadata": {},
   "outputs": [
    {
     "name": "stdout",
     "output_type": "stream",
     "text": [
      "1. Training set accuracy: 85.78%\n",
      "2. Validation accuracy: 82.71%\n",
      "3. Precision(How many days labeled as rainy are actually rainy?): 0.58\n",
      "4. Sensitivity/Recall(Of all the rainy days, how many of those are correctly predict?): 0.78\n",
      "5. Specificity(Of all the normal days, how many of those did we correctly predict?): 0.84\n",
      "6. F1 score: 0.67\n",
      "7. ROC Area under Curve: 0.81\n"
     ]
    },
    {
     "data": {
      "image/png": "[encoded data removed]",
      "text/plain": [
       "<Figure size 432x288 with 2 Axes>"
      ]
     },
     "metadata": {
      "needs_background": "light"
     },
     "output_type": "display_data"
    },
    {
     "name": "stdout",
     "output_type": "stream",
     "text": [
      "Time spent: 118.18\n"
     ]
    }
   ],
   "source": [
    "from sklearn.ensemble import AdaBoostClassifier\n",
    "adaB2 = AdaBoostClassifier(\n",
    "    base_estimator = rfc_bal,\n",
    "    n_estimators=5,\n",
    "    learning_rate=1\n",
    ")\n",
    "\n",
    "cross_validation(adaB2)"
   ]
  },
  {
   "cell_type": "markdown",
   "metadata": {},
   "source": [
    "## 6.3 Costomized boosting"
   ]
  },
  {
   "cell_type": "code",
   "execution_count": 69,
   "metadata": {},
   "outputs": [
    {
     "name": "stdout",
     "output_type": "stream",
     "text": [
      "SGDClassifier boosting accuracy: 0.7811408162737131\n",
      "3. Precision(How many days labeled as rainy are actually rainy?): nan\n",
      "4. Sensitivity/Recall(Of all the rainy days, how many of those are correctly predict?): 0.0\n",
      "5. Specificity(Of all the normal days, how many of those did we correctly predict?): 1.0\n",
      "6. F1 score: nan\n"
     ]
    },
    {
     "name": "stderr",
     "output_type": "stream",
     "text": [
      "<ipython-input-14-f8dab3d70abc>:20: RuntimeWarning: invalid value encountered in long_scalars\n",
      "  precision = round(TP/(TP+FP),2)\n"
     ]
    },
    {
     "data": {
      "image/png": "[encoded data removed]",
      "text/plain": [
       "<Figure size 432x288 with 2 Axes>"
      ]
     },
     "metadata": {
      "needs_background": "light"
     },
     "output_type": "display_data"
    }
   ],
   "source": [
    "def boosting(clf, X_train, y_train):\n",
    "    \n",
    "    clf1 = clf\n",
    "    clf.fit(X_train, y_train)\n",
    "    y2 = abs(y_train - clf.predict(X_train))\n",
    "    clf2 = clf\n",
    "    clf2.fit(X_train, y2)\n",
    "    y3 = abs(y2 - clf2.predict(X_train))\n",
    "    clf3 = clf\n",
    "    clf3.fit(X_train, y3)\n",
    "    y_pred = sum(clf.predict(X_train) for tree in (clf1, clf2, clf3))\n",
    "    print(clf.__class__.__name__, \"boosting accuracy:\",accuracy_score(y_train, y_pred))\n",
    "    return y_pred\n",
    "\n",
    "y_pred_bst = boosting(sgd_clf, X_train, y_train)\n",
    "\n",
    "visual_cm(y_train, y_pred_bst)"
   ]
  },
  {
   "cell_type": "markdown",
   "metadata": {},
   "source": [
    "# 7 Ensemble"
   ]
  },
  {
   "cell_type": "markdown",
   "metadata": {},
   "source": [
    "## 7.1 ensemble simple algorithms"
   ]
  },
  {
   "cell_type": "code",
   "execution_count": 66,
   "metadata": {},
   "outputs": [],
   "source": [
    "from sklearn.ensemble import VotingClassifier\n",
    "\n",
    "voting_clf0 = VotingClassifier(\n",
    "    estimators=[('lr', clf_lr), ('rf', rfc), ('sgd', sgd_clf),  \n",
    "                (\"mlpc\", model_mlpc)],\n",
    "    voting='hard')"
   ]
  },
  {
   "cell_type": "code",
   "execution_count": 45,
   "metadata": {
    "scrolled": false
   },
   "outputs": [
    {
     "name": "stdout",
     "output_type": "stream",
     "text": [
      "1. Training set accuracy: 85.61%\n",
      "2. Validation accuracy: 85.51%\n",
      "3. Precision(How many days labeled as rainy are actually rainy?): 0.78\n",
      "4. Sensitivity/Recall(Of all the rainy days, how many of those are correctly predict?): 0.47\n",
      "5. Specificity(Of all the normal days, how many of those did we correctly predict?): 0.96\n",
      "6. F1 score: 0.59\n",
      "7. ROC Area under Curve: 0.72\n"
     ]
    },
    {
     "data": {
      "image/png": "[encoded data removed]",
      "text/plain": [
       "<Figure size 432x288 with 2 Axes>"
      ]
     },
     "metadata": {
      "needs_background": "light"
     },
     "output_type": "display_data"
    },
    {
     "name": "stdout",
     "output_type": "stream",
     "text": [
      "Time spent: 176.01\n"
     ]
    }
   ],
   "source": [
    "# add knn and svc later\n",
    "\n",
    "cross_validation(voting_clf0)"
   ]
  },
  {
   "cell_type": "code",
   "execution_count": 67,
   "metadata": {},
   "outputs": [],
   "source": [
    "from sklearn.ensemble import VotingClassifier\n",
    "\n",
    "voting_clf1 = VotingClassifier(\n",
    "    estimators=[('lr', clf_lr), ('rf', rfc), ('sgd', sgd_clf), \n",
    "#                 ('AdamBoosting', adaB), ('GradientBoosting', gbc), \n",
    "                (\"mlpc\", model_mlpc), ('RUS',clf_rus),('EasyEnsemble',eec),('BlanceRF',rfc_bal)],\n",
    "    voting='hard') #('BalanceBagging',clf_bb)"
   ]
  },
  {
   "cell_type": "markdown",
   "metadata": {},
   "source": [
    "# 7.2 add imbalanced learning models"
   ]
  },
  {
   "cell_type": "code",
   "execution_count": 57,
   "metadata": {
    "scrolled": false
   },
   "outputs": [
    {
     "name": "stdout",
     "output_type": "stream",
     "text": [
      "1. Training set accuracy: 85.82%\n",
      "2. Validation accuracy: 85.41%\n",
      "3. Precision(How many days labeled as rainy are actually rainy?): 0.7\n",
      "4. Sensitivity/Recall(Of all the rainy days, how many of those are correctly predict?): 0.59\n",
      "5. Specificity(Of all the normal days, how many of those did we correctly predict?): 0.93\n",
      "6. F1 score: 0.64\n",
      "7. ROC Area under Curve: 0.76\n"
     ]
    },
    {
     "data": {
      "image/png": "[encoded data removed]",
      "text/plain": [
       "<Figure size 432x288 with 2 Axes>"
      ]
     },
     "metadata": {
      "needs_background": "light"
     },
     "output_type": "display_data"
    },
    {
     "name": "stdout",
     "output_type": "stream",
     "text": [
      "Time spent: 307.21\n"
     ]
    }
   ],
   "source": [
    "cross_validation(voting_clf1)\n",
    "# add knn and svc later"
   ]
  },
  {
   "cell_type": "markdown",
   "metadata": {},
   "source": [
    "## 7.3 add imbalanced learning and boosting models"
   ]
  },
  {
   "cell_type": "code",
   "execution_count": 68,
   "metadata": {},
   "outputs": [],
   "source": [
    "from sklearn.ensemble import VotingClassifier\n",
    "\n",
    "voting_clf2 = VotingClassifier(\n",
    "    estimators=[('lr', clf_lr), ('rf', rfc), ('sgd', sgd_clf), \n",
    "                ('AdamBoosting', adaB), ('GradientBoosting', gbc), \n",
    "                (\"mlpc\", model_mlpc), ('RUS',clf_rus),('EasyEnsemble',eec),('BlanceRF',rfc_bal)],\n",
    "    voting='hard') #('BalanceBagging',clf_bb)"
   ]
  },
  {
   "cell_type": "code",
   "execution_count": 50,
   "metadata": {},
   "outputs": [
    {
     "name": "stdout",
     "output_type": "stream",
     "text": [
      "1. Training set accuracy: 86.18%\n",
      "2. Validation accuracy: 85.85%\n",
      "3. Precision(How many days labeled as rainy are actually rainy?): 0.72\n",
      "4. Sensitivity/Recall(Of all the rainy days, how many of those are correctly predict?): 0.57\n",
      "5. Specificity(Of all the normal days, how many of those did we correctly predict?): 0.94\n",
      "6. F1 score: 0.64\n",
      "7. ROC Area under Curve: 0.76\n"
     ]
    },
    {
     "data": {
      "image/png": "[encoded data removed]",
      "text/plain": [
       "<Figure size 432x288 with 2 Axes>"
      ]
     },
     "metadata": {
      "needs_background": "light"
     },
     "output_type": "display_data"
    },
    {
     "name": "stdout",
     "output_type": "stream",
     "text": [
      "Time spent: 424.71\n"
     ]
    }
   ],
   "source": [
    "cross_validation(voting_clf2)"
   ]
  },
  {
   "cell_type": "code",
   "execution_count": null,
   "metadata": {},
   "outputs": [],
   "source": [
    "cross_validation(voting_clf, X_train = X_train1[imp_15_Freq], X_valid = X_valid[imp_15_Freq] )"
   ]
  },
  {
   "cell_type": "markdown",
   "metadata": {},
   "source": [
    "# 8 Test\n",
    "\n",
    "remeber to use most important 15 features if models were trained with them."
   ]
  },
  {
   "cell_type": "code",
   "execution_count": null,
   "metadata": {},
   "outputs": [],
   "source": [
    "estimators=[('lr', clf_lr), ('rf', rfc), ('sgd', sgd_clf), \n",
    "                ('AdamBoosting', adaB), ('GradientBoosting', gbc), \n",
    "                (\"mlpc\", model_mlpc), ('RUS',clf_rus),('EasyEnsemble',eec),('BalanceBagging',clf_bb),('BlanceRF',rfc_bal)],\n",
    "    "
   ]
  },
  {
   "cell_type": "code",
   "execution_count": 63,
   "metadata": {},
   "outputs": [],
   "source": [
    "def test_model(clf, X_train = X_train, y_train = y_train, X_test = X_test, y_test = y_test):\n",
    "    time0 = time.time()\n",
    "    clf = clf.fit(X_train, y_train)\n",
    "    \n",
    "    y_pred_train = clf.predict(X_train)\n",
    "    acc = accuracy_score(y_train, y_pred_train)\n",
    "    print(\"1. Training set accuracy:\",\"{0:.2%}\".format(acc))\n",
    "    \n",
    "    y_pred = clf.predict(X_test)\n",
    "    score_cv = accuracy_score(y_test, y_pred)\n",
    "    print(\"2. Test set accuracy:\", \"{0:.2%}\".format(score_cv))\n",
    "    \n",
    "    if acc - score_cv < -0.01 :\n",
    "        print(\"       Underfitting by:\", \"{0:.2%}\".format(score_cv - acc))\n",
    "        \n",
    "    visual_cm(y_test, y_pred)\n",
    "    print(\"7. ROC Area under Curve:\", round(metrics.roc_auc_score(y_test, y_pred),2))\n",
    "    plt.show()\n",
    "    print(\"Time Spent:\", round((time.time()- time0),2))\n",
    "    return clf, y_pred_train, y_pred"
   ]
  },
  {
   "cell_type": "markdown",
   "metadata": {},
   "source": [
    "## 8.1 Adaboost of Random forest with down sampling"
   ]
  },
  {
   "cell_type": "code",
   "execution_count": null,
   "metadata": {},
   "outputs": [],
   "source": [
    "test_model(adaB2)"
   ]
  },
  {
   "cell_type": "code",
   "execution_count": null,
   "metadata": {},
   "outputs": [],
   "source": [
    "# test on 15 most important features\n",
    "test_model(adaB2, X_train = X_train[imp_15_Freq], X_test = X_test[imp_15_Freq])"
   ]
  },
  {
   "cell_type": "markdown",
   "metadata": {},
   "source": [
    "## 8.2 Nerual Network"
   ]
  },
  {
   "cell_type": "code",
   "execution_count": null,
   "metadata": {},
   "outputs": [],
   "source": [
    "test_model(model_mlpc)"
   ]
  },
  {
   "cell_type": "code",
   "execution_count": null,
   "metadata": {},
   "outputs": [],
   "source": [
    "test_model(model_mlpc, X_train = X_train[imp_15_Freq], X_test = X_test[imp_15_Freq])"
   ]
  },
  {
   "cell_type": "markdown",
   "metadata": {},
   "source": [
    "## 8.3 Ensemble of all"
   ]
  },
  {
   "cell_type": "code",
   "execution_count": 74,
   "metadata": {},
   "outputs": [
    {
     "name": "stdout",
     "output_type": "stream",
     "text": [
      "1. Training set accuracy: 85.68%\n",
      "2. Test set accuracy: 83.72%\n",
      "3. Precision(How many days labeled as rainy are actually rainy?): 0.65\n",
      "4. Sensitivity/Recall(Of all the rainy days, how many of those are correctly predict?): 0.64\n",
      "5. Specificity(Of all the normal days, how many of those did we correctly predict?): 0.9\n",
      "6. F1 score: 0.64\n",
      "7. ROC Area under Curve: 0.77\n"
     ]
    },
    {
     "data": {
      "image/png": "[encoded data removed]",
      "text/plain": [
       "<Figure size 432x288 with 2 Axes>"
      ]
     },
     "metadata": {
      "needs_background": "light"
     },
     "output_type": "display_data"
    },
    {
     "name": "stdout",
     "output_type": "stream",
     "text": [
      "Time Spent: 429.15\n"
     ]
    },
    {
     "data": {
      "text/plain": [
       "(VotingClassifier(estimators=[('lr',\n",
       "                               LogisticRegression(C=50, penalty='l1',\n",
       "                                                  solver='liblinear')),\n",
       "                              ('rf',\n",
       "                               RandomForestClassifier(max_depth=8,\n",
       "                                                      n_estimators=200,\n",
       "                                                      random_state=42)),\n",
       "                              ('sgd', SGDClassifier(random_state=42)),\n",
       "                              ('mlpc',\n",
       "                               MLPClassifier(batch_size=10, early_stopping=True,\n",
       "                                             hidden_layer_sizes=(25, 25, 25),\n",
       "                                             max_iter=10000, solver='lbfgs',\n",
       "                                             tol=0.001)),\n",
       "                              ('RUS', RUSBoostClassifier(random_state=0)),\n",
       "                              ('EasyEnsemble',\n",
       "                               EasyEnsembleClassifier(random_state=42)),\n",
       "                              ('BlanceRF',\n",
       "                               RandomForestClassifier(class_weight='balanced',\n",
       "                                                      max_depth=8,\n",
       "                                                      n_estimators=200,\n",
       "                                                      random_state=42))]),\n",
       " array([1., 0., 0., ..., 0., 0., 0.]),\n",
       " array([0., 0., 0., ..., 0., 0., 0.]))"
      ]
     },
     "execution_count": 74,
     "metadata": {},
     "output_type": "execute_result"
    }
   ],
   "source": [
    "test_model(voting_clf1)"
   ]
  },
  {
   "cell_type": "code",
   "execution_count": null,
   "metadata": {
    "scrolled": false
   },
   "outputs": [],
   "source": [
    "test_model(voting_clf, X_train = X_train[imp_15_Freq], X_test = X_test[imp_15_Freq])"
   ]
  },
  {
   "cell_type": "code",
   "execution_count": 94,
   "metadata": {},
   "outputs": [
    {
     "name": "stdout",
     "output_type": "stream",
     "text": [
      "1. Training set accuracy: 84.93%\n",
      "2. Test set accuracy: 84.17%\n",
      "3. Precision(How many days labeled as rainy are actually rainy?): 0.74\n",
      "4. Sensitivity/Recall(Of all the rainy days, how many of those are correctly predict?): 0.47\n",
      "5. Specificity(Of all the normal days, how many of those did we correctly predict?): 0.95\n",
      "6. F1 score: 0.57\n",
      "7. ROC Area under Curve: 0.71\n"
     ]
    },
    {
     "data": {
      "image/png": "[encoded data removed]",
      "text/plain": [
       "<Figure size 432x288 with 2 Axes>"
      ]
     },
     "metadata": {
      "needs_background": "light"
     },
     "output_type": "display_data"
    },
    {
     "name": "stdout",
     "output_type": "stream",
     "text": [
      "Time Spent: 38.8\n"
     ]
    },
    {
     "data": {
      "text/plain": [
       "(LogisticRegression(C=0.9, penalty='l1', solver='liblinear'),\n",
       " array([1., 0., 0., ..., 0., 0., 0.]),\n",
       " array([0., 0., 0., ..., 0., 0., 0.]))"
      ]
     },
     "execution_count": 94,
     "metadata": {},
     "output_type": "execute_result"
    }
   ],
   "source": [
    "test_model(clf_lr)"
   ]
  },
  {
   "cell_type": "markdown",
   "metadata": {},
   "source": [
    "# 9 Final - Test on Safe data"
   ]
  },
  {
   "cell_type": "code",
   "execution_count": 58,
   "metadata": {},
   "outputs": [],
   "source": [
    "df_safe = pd.read_csv(\"safe_data.csv\")\n",
    "df_safe[\"Date\"] = pd.to_datetime(df_safe['Date'])\n",
    "df_safe.insert(1, \"Year\", df_safe[\"Date\"].dt.year, True)"
   ]
  },
  {
   "cell_type": "code",
   "execution_count": 60,
   "metadata": {},
   "outputs": [
    {
     "data": {
      "text/plain": [
       "((109630, 111), (109630, 111), (32552, 25), (32549, 111))"
      ]
     },
     "execution_count": 60,
     "metadata": {},
     "output_type": "execute_result"
    }
   ],
   "source": [
    "train_df_full = df.copy(deep=True)\n",
    "train_df_full, medians_full, pt_fit_full, mms_fit_full = preprocess(df)\n",
    "\n",
    "safe = df_safe.copy(deep=True)\n",
    "# use the medians in training set to fill missing values in test days\n",
    "safe_df= preprocess(safe, medians_full, pt_fit_full, mms_fit_full)\n",
    "\n",
    "train_df_full.shape,train_df_full.shape, safe.shape, safe_df.shape"
   ]
  },
  {
   "cell_type": "code",
   "execution_count": 61,
   "metadata": {},
   "outputs": [
    {
     "data": {
      "text/plain": [
       "((109630, 109), (109630,), (32549, 109), (32549,))"
      ]
     },
     "execution_count": 61,
     "metadata": {},
     "output_type": "execute_result"
    }
   ],
   "source": [
    "X_train_full = train_df_full.drop(columns = [\"RainTomorrow\",'Year'], axis = 1)\n",
    "y_train_full = train_df_full[\"RainTomorrow\"]\n",
    "\n",
    "X_safe = safe_df.drop(columns = [\"RainTomorrow\",'Year'], axis = 1)\n",
    "y_safe = safe_df[\"RainTomorrow\"]\n",
    "\n",
    "X_train_full.shape,y_train_full.shape, X_safe.shape, y_safe.shape"
   ]
  },
  {
   "cell_type": "markdown",
   "metadata": {},
   "source": [
    "## 9.1 Ensemble of all"
   ]
  },
  {
   "cell_type": "code",
   "execution_count": 70,
   "metadata": {
    "scrolled": false
   },
   "outputs": [
    {
     "name": "stdout",
     "output_type": "stream",
     "text": [
      "1. Training set accuracy: 85.58%\n",
      "2. Test set accuracy: 83.58%\n",
      "3. Precision(How many days labeled as rainy are actually rainy?): 0.64\n",
      "4. Sensitivity/Recall(Of all the rainy days, how many of those are correctly predict?): 0.66\n",
      "5. Specificity(Of all the normal days, how many of those did we correctly predict?): 0.89\n",
      "6. F1 score: 0.65\n",
      "7. ROC Area under Curve: 0.77\n"
     ]
    },
    {
     "data": {
      "image/png": "[encoded data removed]",
      "text/plain": [
       "<Figure size 432x288 with 2 Axes>"
      ]
     },
     "metadata": {
      "needs_background": "light"
     },
     "output_type": "display_data"
    },
    {
     "name": "stdout",
     "output_type": "stream",
     "text": [
      "Time Spent: 489.03\n"
     ]
    },
    {
     "data": {
      "text/plain": [
       "(VotingClassifier(estimators=[('lr',\n",
       "                               LogisticRegression(C=50, penalty='l1',\n",
       "                                                  solver='liblinear')),\n",
       "                              ('rf',\n",
       "                               RandomForestClassifier(max_depth=8,\n",
       "                                                      n_estimators=200,\n",
       "                                                      random_state=42)),\n",
       "                              ('sgd', SGDClassifier(random_state=42)),\n",
       "                              ('mlpc',\n",
       "                               MLPClassifier(batch_size=10, early_stopping=True,\n",
       "                                             hidden_layer_sizes=(25, 25, 25),\n",
       "                                             max_iter=10000, solver='lbfgs',\n",
       "                                             tol=0.001)),\n",
       "                              ('RUS', RUSBoostClassifier(random_state=0)),\n",
       "                              ('EasyEnsemble',\n",
       "                               EasyEnsembleClassifier(random_state=42)),\n",
       "                              ('BlanceRF',\n",
       "                               RandomForestClassifier(class_weight='balanced',\n",
       "                                                      max_depth=8,\n",
       "                                                      n_estimators=200,\n",
       "                                                      random_state=42))]),\n",
       " array([1., 0., 0., ..., 0., 0., 0.]),\n",
       " array([0., 0., 0., ..., 0., 1., 0.]))"
      ]
     },
     "execution_count": 70,
     "metadata": {},
     "output_type": "execute_result"
    }
   ],
   "source": [
    "test_model(voting_clf1, X_train = X_train_full, y_train = y_train_full, X_test = X_safe , y_test = y_safe )"
   ]
  },
  {
   "cell_type": "code",
   "execution_count": 75,
   "metadata": {},
   "outputs": [
    {
     "name": "stdout",
     "output_type": "stream",
     "text": [
      "1. Training set accuracy: 84.88%\n",
      "2. Test set accuracy: 83.55%\n",
      "3. Precision(How many days labeled as rainy are actually rainy?): 0.69\n",
      "4. Sensitivity/Recall(Of all the rainy days, how many of those are correctly predict?): 0.54\n",
      "5. Specificity(Of all the normal days, how many of those did we correctly predict?): 0.92\n",
      "6. F1 score: 0.61\n",
      "7. ROC Area under Curve: 0.73\n"
     ]
    },
    {
     "data": {
      "image/png": "[encoded data removed]",
      "text/plain": [
       "<Figure size 432x288 with 2 Axes>"
      ]
     },
     "metadata": {
      "needs_background": "light"
     },
     "output_type": "display_data"
    },
    {
     "name": "stdout",
     "output_type": "stream",
     "text": [
      "Time Spent: 154.83\n"
     ]
    },
    {
     "data": {
      "text/plain": [
       "(VotingClassifier(estimators=[('lr',\n",
       "                               LogisticRegression(C=50, penalty='l1',\n",
       "                                                  solver='liblinear')),\n",
       "                              ('rf',\n",
       "                               RandomForestClassifier(max_depth=8,\n",
       "                                                      n_estimators=200,\n",
       "                                                      random_state=42)),\n",
       "                              ('sgd', SGDClassifier(random_state=42)),\n",
       "                              ('mlpc',\n",
       "                               MLPClassifier(batch_size=10, early_stopping=True,\n",
       "                                             hidden_layer_sizes=(25, 25, 25),\n",
       "                                             max_iter=10000, solver='lbfgs',\n",
       "                                             tol=0.001)),\n",
       "                              ('RUS', RUSBoostClassifier(random_state=0)),\n",
       "                              ('EasyEnsemble',\n",
       "                               EasyEnsembleClassifier(random_state=42)),\n",
       "                              ('BlanceRF',\n",
       "                               RandomForestClassifier(class_weight='balanced',\n",
       "                                                      max_depth=8,\n",
       "                                                      n_estimators=200,\n",
       "                                                      random_state=42))]),\n",
       " array([1., 0., 0., ..., 0., 0., 0.]),\n",
       " array([0., 0., 0., ..., 0., 1., 0.]))"
      ]
     },
     "execution_count": 75,
     "metadata": {},
     "output_type": "execute_result"
    }
   ],
   "source": [
    "test_model(voting_clf1, X_train = X_train_full[imp_15_Freq], y_train = y_train_full, X_test = X_safe[imp_15_Freq], y_test = y_safe )"
   ]
  },
  {
   "cell_type": "code",
   "execution_count": 82,
   "metadata": {},
   "outputs": [
    {
     "name": "stdout",
     "output_type": "stream",
     "text": [
      "1. Training set accuracy: 85.68%\n",
      "2. Test set accuracy: 83.72%\n",
      "3. Precision(How many days labeled as rainy are actually rainy?): 0.65\n",
      "4. Sensitivity/Recall(Of all the rainy days, how many of those are correctly predict?): 0.64\n",
      "5. Specificity(Of all the normal days, how many of those did we correctly predict?): 0.9\n",
      "6. F1 score: 0.64\n",
      "7. ROC Area under Curve: 0.77\n"
     ]
    },
    {
     "data": {
      "image/png": "[encoded data removed]",
      "text/plain": [
       "<Figure size 432x288 with 2 Axes>"
      ]
     },
     "metadata": {
      "needs_background": "light"
     },
     "output_type": "display_data"
    },
    {
     "name": "stdout",
     "output_type": "stream",
     "text": [
      "Time Spent: 998.24\n"
     ]
    },
    {
     "data": {
      "text/plain": [
       "(VotingClassifier(estimators=[('lr',\n",
       "                               LogisticRegression(C=50, penalty='l1',\n",
       "                                                  solver='liblinear')),\n",
       "                              ('rf',\n",
       "                               RandomForestClassifier(max_depth=8,\n",
       "                                                      n_estimators=200,\n",
       "                                                      random_state=42)),\n",
       "                              ('sgd', SGDClassifier(random_state=42)),\n",
       "                              ('AdamBoosting',\n",
       "                               AdaBoostClassifier(learning_rate=1,\n",
       "                                                  n_estimators=100)),\n",
       "                              ('GradientBoosting',\n",
       "                               GradientBoostingClassifier(random_state=0)),\n",
       "                              ('mlpc',\n",
       "                               MLPClassifier(batch_size=10, early_stopping=True,\n",
       "                                             hidden_layer_sizes=(25, 25, 25),\n",
       "                                             max_iter=10000, solver='lbfgs',\n",
       "                                             tol=0.001)),\n",
       "                              ('RUS', RUSBoostClassifier(random_state=0)),\n",
       "                              ('EasyEnsemble',\n",
       "                               EasyEnsembleClassifier(random_state=42)),\n",
       "                              ('BlanceRF',\n",
       "                               RandomForestClassifier(class_weight='balanced',\n",
       "                                                      max_depth=8,\n",
       "                                                      n_estimators=200,\n",
       "                                                      random_state=42))]),\n",
       " array([1., 0., 0., ..., 0., 0., 0.]),\n",
       " array([0., 0., 0., ..., 0., 1., 0.]))"
      ]
     },
     "execution_count": 82,
     "metadata": {},
     "output_type": "execute_result"
    }
   ],
   "source": [
    "test_model(voting_clf2, X_train = X_train_full, y_train = y_train_full, X_test = X_safe , y_test = y_safe )"
   ]
  },
  {
   "cell_type": "code",
   "execution_count": 83,
   "metadata": {},
   "outputs": [
    {
     "name": "stdout",
     "output_type": "stream",
     "text": [
      "1. Training set accuracy: 85.33%\n",
      "2. Test set accuracy: 83.45%\n",
      "3. Precision(How many days labeled as rainy are actually rainy?): 0.66\n",
      "4. Sensitivity/Recall(Of all the rainy days, how many of those are correctly predict?): 0.58\n",
      "5. Specificity(Of all the normal days, how many of those did we correctly predict?): 0.91\n",
      "6. F1 score: 0.62\n",
      "7. ROC Area under Curve: 0.75\n"
     ]
    },
    {
     "data": {
      "image/png": "[encoded data removed]",
      "text/plain": [
       "<Figure size 432x288 with 2 Axes>"
      ]
     },
     "metadata": {
      "needs_background": "light"
     },
     "output_type": "display_data"
    },
    {
     "name": "stdout",
     "output_type": "stream",
     "text": [
      "Time Spent: 326.32\n"
     ]
    },
    {
     "data": {
      "text/plain": [
       "(VotingClassifier(estimators=[('lr',\n",
       "                               LogisticRegression(C=50, penalty='l1',\n",
       "                                                  solver='liblinear')),\n",
       "                              ('rf',\n",
       "                               RandomForestClassifier(max_depth=8,\n",
       "                                                      n_estimators=200,\n",
       "                                                      random_state=42)),\n",
       "                              ('sgd', SGDClassifier(random_state=42)),\n",
       "                              ('AdamBoosting',\n",
       "                               AdaBoostClassifier(learning_rate=1,\n",
       "                                                  n_estimators=100)),\n",
       "                              ('GradientBoosting',\n",
       "                               GradientBoostingClassifier(random_state=0)),\n",
       "                              ('mlpc',\n",
       "                               MLPClassifier(batch_size=10, early_stopping=True,\n",
       "                                             hidden_layer_sizes=(25, 25, 25),\n",
       "                                             max_iter=10000, solver='lbfgs',\n",
       "                                             tol=0.001)),\n",
       "                              ('RUS', RUSBoostClassifier(random_state=0)),\n",
       "                              ('EasyEnsemble',\n",
       "                               EasyEnsembleClassifier(random_state=42)),\n",
       "                              ('BlanceRF',\n",
       "                               RandomForestClassifier(class_weight='balanced',\n",
       "                                                      max_depth=8,\n",
       "                                                      n_estimators=200,\n",
       "                                                      random_state=42))]),\n",
       " array([1., 0., 0., ..., 0., 0., 0.]),\n",
       " array([0., 0., 0., ..., 0., 1., 0.]))"
      ]
     },
     "execution_count": 83,
     "metadata": {},
     "output_type": "execute_result"
    }
   ],
   "source": [
    "test_model(voting_clf2, X_train = X_train_full[imp_15_Freq], y_train = y_train_full, X_test = X_safe[imp_15_Freq], y_test = y_safe )"
   ]
  },
  {
   "cell_type": "markdown",
   "metadata": {},
   "source": [
    "## 9.2 Neural Network"
   ]
  },
  {
   "cell_type": "code",
   "execution_count": 64,
   "metadata": {},
   "outputs": [
    {
     "name": "stdout",
     "output_type": "stream",
     "text": [
      "1. Training set accuracy: 87.24%\n",
      "2. Test set accuracy: 85.42%\n",
      "3. Precision(How many days labeled as rainy are actually rainy?): 0.74\n",
      "4. Sensitivity/Recall(Of all the rainy days, how many of those are correctly predict?): 0.58\n",
      "5. Specificity(Of all the normal days, how many of those did we correctly predict?): 0.94\n",
      "6. F1 score: 0.65\n",
      "7. ROC Area under Curve: 0.76\n"
     ]
    },
    {
     "data": {
      "image/png": "[encoded data removed]",
      "text/plain": [
       "<Figure size 432x288 with 2 Axes>"
      ]
     },
     "metadata": {
      "needs_background": "light"
     },
     "output_type": "display_data"
    },
    {
     "name": "stdout",
     "output_type": "stream",
     "text": [
      "Time Spent: 294.84\n"
     ]
    },
    {
     "data": {
      "text/plain": [
       "(MLPClassifier(batch_size=10, early_stopping=True,\n",
       "               hidden_layer_sizes=(25, 25, 25), max_iter=10000, solver='lbfgs',\n",
       "               tol=0.001),\n",
       " array([1., 0., 0., ..., 0., 0., 0.]),\n",
       " array([0., 0., 0., ..., 0., 0., 0.]))"
      ]
     },
     "execution_count": 64,
     "metadata": {},
     "output_type": "execute_result"
    }
   ],
   "source": [
    "test_model(model_mlpc, X_train = X_train_full, y_train = y_train_full, X_test = X_safe , y_test = y_safe)"
   ]
  },
  {
   "cell_type": "code",
   "execution_count": 65,
   "metadata": {},
   "outputs": [
    {
     "name": "stdout",
     "output_type": "stream",
     "text": [
      "1. Training set accuracy: 85.03%\n",
      "2. Test set accuracy: 83.24%\n",
      "3. Precision(How many days labeled as rainy are actually rainy?): 0.66\n",
      "4. Sensitivity/Recall(Of all the rainy days, how many of those are correctly predict?): 0.57\n",
      "5. Specificity(Of all the normal days, how many of those did we correctly predict?): 0.91\n",
      "6. F1 score: 0.61\n",
      "7. ROC Area under Curve: 0.74\n"
     ]
    },
    {
     "data": {
      "image/png": "[encoded data removed]",
      "text/plain": [
       "<Figure size 432x288 with 2 Axes>"
      ]
     },
     "metadata": {
      "needs_background": "light"
     },
     "output_type": "display_data"
    },
    {
     "name": "stdout",
     "output_type": "stream",
     "text": [
      "Time Spent: 154.4\n"
     ]
    },
    {
     "data": {
      "text/plain": [
       "(MLPClassifier(batch_size=10, early_stopping=True,\n",
       "               hidden_layer_sizes=(25, 25, 25), max_iter=10000, solver='lbfgs',\n",
       "               tol=0.001),\n",
       " array([1., 0., 0., ..., 0., 0., 0.]),\n",
       " array([0., 0., 0., ..., 0., 1., 0.]))"
      ]
     },
     "execution_count": 65,
     "metadata": {},
     "output_type": "execute_result"
    }
   ],
   "source": [
    "test_model(model_mlpc, X_train = X_train_full[imp_15_Freq], y_train = y_train_full, X_test = X_safe[imp_15_Freq], y_test = y_safe )"
   ]
  },
  {
   "cell_type": "markdown",
   "metadata": {},
   "source": [
    "## 9.3 adaboost of random forest with class weight"
   ]
  },
  {
   "cell_type": "code",
   "execution_count": 71,
   "metadata": {},
   "outputs": [
    {
     "name": "stdout",
     "output_type": "stream",
     "text": [
      "1. Training set accuracy: 84.05%\n",
      "2. Test set accuracy: 78.80%\n",
      "3. Precision(How many days labeled as rainy are actually rainy?): 0.53\n",
      "4. Sensitivity/Recall(Of all the rainy days, how many of those are correctly predict?): 0.81\n",
      "5. Specificity(Of all the normal days, how many of those did we correctly predict?): 0.78\n",
      "6. F1 score: 0.64\n",
      "7. ROC Area under Curve: 0.79\n"
     ]
    },
    {
     "data": {
      "image/png": "[encoded data removed]",
      "text/plain": [
       "<Figure size 432x288 with 2 Axes>"
      ]
     },
     "metadata": {
      "needs_background": "light"
     },
     "output_type": "display_data"
    },
    {
     "name": "stdout",
     "output_type": "stream",
     "text": [
      "Time Spent: 205.9\n"
     ]
    },
    {
     "data": {
      "text/plain": [
       "(AdaBoostClassifier(base_estimator=RandomForestClassifier(class_weight='balanced',\n",
       "                                                          max_depth=8,\n",
       "                                                          n_estimators=200,\n",
       "                                                          random_state=42),\n",
       "                    learning_rate=1, n_estimators=5),\n",
       " array([1., 0., 0., ..., 0., 0., 0.]),\n",
       " array([0., 0., 0., ..., 0., 1., 0.]))"
      ]
     },
     "execution_count": 71,
     "metadata": {},
     "output_type": "execute_result"
    }
   ],
   "source": [
    "test_model(adaB2, X_train = X_train_full, y_train = y_train_full, X_test = X_safe , y_test = y_safe)"
   ]
  },
  {
   "cell_type": "code",
   "execution_count": 77,
   "metadata": {},
   "outputs": [
    {
     "name": "stdout",
     "output_type": "stream",
     "text": [
      "1. Training set accuracy: 82.66%\n",
      "2. Test set accuracy: 76.16%\n",
      "3. Precision(How many days labeled as rainy are actually rainy?): 0.49\n",
      "4. Sensitivity/Recall(Of all the rainy days, how many of those are correctly predict?): 0.8\n",
      "5. Specificity(Of all the normal days, how many of those did we correctly predict?): 0.75\n",
      "6. F1 score: 0.61\n",
      "7. ROC Area under Curve: 0.77\n"
     ]
    },
    {
     "data": {
      "image/png": "[encoded data removed]",
      "text/plain": [
       "<Figure size 432x288 with 2 Axes>"
      ]
     },
     "metadata": {
      "needs_background": "light"
     },
     "output_type": "display_data"
    },
    {
     "name": "stdout",
     "output_type": "stream",
     "text": [
      "Time Spent: 146.01\n"
     ]
    },
    {
     "data": {
      "text/plain": [
       "(AdaBoostClassifier(base_estimator=RandomForestClassifier(class_weight='balanced',\n",
       "                                                          max_depth=8,\n",
       "                                                          n_estimators=200,\n",
       "                                                          random_state=42),\n",
       "                    learning_rate=1, n_estimators=5),\n",
       " array([1., 0., 0., ..., 0., 0., 0.]),\n",
       " array([0., 0., 0., ..., 0., 1., 0.]))"
      ]
     },
     "execution_count": 77,
     "metadata": {},
     "output_type": "execute_result"
    }
   ],
   "source": [
    "test_model(adaB2, X_train = X_train_full[imp_15_Freq], y_train = y_train_full, X_test = X_safe[imp_15_Freq], y_test = y_safe ) "
   ]
  },
  {
   "cell_type": "code",
   "execution_count": 72,
   "metadata": {},
   "outputs": [
    {
     "name": "stdout",
     "output_type": "stream",
     "text": [
      "1. Training set accuracy: 87.76%\n",
      "2. Test set accuracy: 84.71%\n",
      "3. Precision(How many days labeled as rainy are actually rainy?): 0.73\n",
      "4. Sensitivity/Recall(Of all the rainy days, how many of those are correctly predict?): 0.55\n",
      "5. Specificity(Of all the normal days, how many of those did we correctly predict?): 0.94\n",
      "6. F1 score: 0.63\n",
      "7. ROC Area under Curve: 0.74\n"
     ]
    },
    {
     "data": {
      "image/png": "[encoded data removed]",
      "text/plain": [
       "<Figure size 432x288 with 2 Axes>"
      ]
     },
     "metadata": {
      "needs_background": "light"
     },
     "output_type": "display_data"
    },
    {
     "name": "stdout",
     "output_type": "stream",
     "text": [
      "Time Spent: 203.69\n"
     ]
    },
    {
     "data": {
      "text/plain": [
       "(AdaBoostClassifier(base_estimator=RandomForestClassifier(max_depth=8,\n",
       "                                                          n_estimators=200,\n",
       "                                                          random_state=42),\n",
       "                    learning_rate=1, n_estimators=5),\n",
       " array([0., 0., 0., ..., 0., 0., 0.]),\n",
       " array([0., 0., 0., ..., 0., 1., 0.]))"
      ]
     },
     "execution_count": 72,
     "metadata": {},
     "output_type": "execute_result"
    }
   ],
   "source": [
    "test_model(adaB1, X_train = X_train_full, y_train = y_train_full, X_test = X_safe , y_test = y_safe)"
   ]
  },
  {
   "cell_type": "code",
   "execution_count": 76,
   "metadata": {},
   "outputs": [
    {
     "name": "stdout",
     "output_type": "stream",
     "text": [
      "1. Training set accuracy: 87.06%\n",
      "2. Test set accuracy: 83.81%\n",
      "3. Precision(How many days labeled as rainy are actually rainy?): 0.7\n",
      "4. Sensitivity/Recall(Of all the rainy days, how many of those are correctly predict?): 0.53\n",
      "5. Specificity(Of all the normal days, how many of those did we correctly predict?): 0.93\n",
      "6. F1 score: 0.6\n",
      "7. ROC Area under Curve: 0.73\n"
     ]
    },
    {
     "data": {
      "image/png": "[encoded data removed]",
      "text/plain": [
       "<Figure size 432x288 with 2 Axes>"
      ]
     },
     "metadata": {
      "needs_background": "light"
     },
     "output_type": "display_data"
    },
    {
     "name": "stdout",
     "output_type": "stream",
     "text": [
      "Time Spent: 145.25\n"
     ]
    },
    {
     "data": {
      "text/plain": [
       "(AdaBoostClassifier(base_estimator=RandomForestClassifier(max_depth=8,\n",
       "                                                          n_estimators=200,\n",
       "                                                          random_state=42),\n",
       "                    learning_rate=1, n_estimators=5),\n",
       " array([0., 0., 0., ..., 0., 0., 0.]),\n",
       " array([0., 0., 0., ..., 0., 1., 0.]))"
      ]
     },
     "execution_count": 76,
     "metadata": {},
     "output_type": "execute_result"
    }
   ],
   "source": [
    "test_model(adaB1, X_train = X_train_full[imp_15_Freq], y_train = y_train_full, X_test = X_safe[imp_15_Freq], y_test = y_safe ) "
   ]
  },
  {
   "cell_type": "markdown",
   "metadata": {},
   "source": [
    "## Random Forest"
   ]
  },
  {
   "cell_type": "code",
   "execution_count": 73,
   "metadata": {
    "scrolled": true
   },
   "outputs": [
    {
     "name": "stdout",
     "output_type": "stream",
     "text": [
      "1. Training set accuracy: 85.44%\n",
      "2. Test set accuracy: 83.42%\n",
      "3. Precision(How many days labeled as rainy are actually rainy?): 0.8\n",
      "4. Sensitivity/Recall(Of all the rainy days, how many of those are correctly predict?): 0.38\n",
      "5. Specificity(Of all the normal days, how many of those did we correctly predict?): 0.97\n",
      "6. F1 score: 0.52\n",
      "7. ROC Area under Curve: 0.68\n"
     ]
    },
    {
     "data": {
      "image/png": "[encoded data removed]",
      "text/plain": [
       "<Figure size 432x288 with 2 Axes>"
      ]
     },
     "metadata": {
      "needs_background": "light"
     },
     "output_type": "display_data"
    },
    {
     "name": "stdout",
     "output_type": "stream",
     "text": [
      "Time Spent: 40.55\n"
     ]
    },
    {
     "data": {
      "text/plain": [
       "(RandomForestClassifier(max_depth=8, n_estimators=200, random_state=42),\n",
       " array([0., 0., 0., ..., 0., 0., 0.]),\n",
       " array([0., 0., 0., ..., 0., 1., 0.]))"
      ]
     },
     "execution_count": 73,
     "metadata": {},
     "output_type": "execute_result"
    }
   ],
   "source": [
    "test_model(rfc, X_train = X_train_full, y_train = y_train_full, X_test = X_safe , y_test = y_safe)"
   ]
  },
  {
   "cell_type": "code",
   "execution_count": 78,
   "metadata": {},
   "outputs": [
    {
     "name": "stdout",
     "output_type": "stream",
     "text": [
      "1. Training set accuracy: 85.41%\n",
      "2. Test set accuracy: 83.48%\n",
      "3. Precision(How many days labeled as rainy are actually rainy?): 0.78\n",
      "4. Sensitivity/Recall(Of all the rainy days, how many of those are correctly predict?): 0.4\n",
      "5. Specificity(Of all the normal days, how many of those did we correctly predict?): 0.97\n",
      "6. F1 score: 0.53\n",
      "7. ROC Area under Curve: 0.68\n"
     ]
    },
    {
     "data": {
      "image/png": "[encoded data removed]",
      "text/plain": [
       "<Figure size 432x288 with 2 Axes>"
      ]
     },
     "metadata": {
      "needs_background": "light"
     },
     "output_type": "display_data"
    },
    {
     "name": "stdout",
     "output_type": "stream",
     "text": [
      "Time Spent: 30.44\n"
     ]
    },
    {
     "data": {
      "text/plain": [
       "(RandomForestClassifier(max_depth=8, n_estimators=200, random_state=42),\n",
       " array([0., 0., 0., ..., 0., 0., 0.]),\n",
       " array([0., 0., 0., ..., 0., 1., 0.]))"
      ]
     },
     "execution_count": 78,
     "metadata": {},
     "output_type": "execute_result"
    }
   ],
   "source": [
    "test_model(rfc, X_train = X_train_full[imp_15_Freq], y_train = y_train_full, X_test = X_safe[imp_15_Freq], y_test = y_safe ) "
   ]
  },
  {
   "cell_type": "code",
   "execution_count": 88,
   "metadata": {},
   "outputs": [
    {
     "name": "stdout",
     "output_type": "stream",
     "text": [
      "1. Training set accuracy: 84.44%\n",
      "2. Test set accuracy: 83.49%\n",
      "3. Precision(How many days labeled as rainy are actually rainy?): 0.68\n",
      "4. Sensitivity/Recall(Of all the rainy days, how many of those are correctly predict?): 0.55\n",
      "5. Specificity(Of all the normal days, how many of those did we correctly predict?): 0.92\n",
      "6. F1 score: 0.61\n",
      "7. ROC Area under Curve: 0.74\n"
     ]
    },
    {
     "data": {
      "image/png": "[encoded data removed]",
      "text/plain": [
       "<Figure size 432x288 with 2 Axes>"
      ]
     },
     "metadata": {
      "needs_background": "light"
     },
     "output_type": "display_data"
    },
    {
     "name": "stdout",
     "output_type": "stream",
     "text": [
      "Time Spent: 1.79\n"
     ]
    },
    {
     "data": {
      "text/plain": [
       "(SGDClassifier(random_state=42),\n",
       " array([1., 0., 0., ..., 0., 0., 0.]),\n",
       " array([0., 0., 0., ..., 0., 1., 0.]))"
      ]
     },
     "execution_count": 88,
     "metadata": {},
     "output_type": "execute_result"
    }
   ],
   "source": [
    "test_model(sgd_clf, X_train = X_train_full, y_train = y_train_full, X_test = X_safe , y_test = y_safe)"
   ]
  },
  {
   "cell_type": "code",
   "execution_count": 89,
   "metadata": {},
   "outputs": [
    {
     "name": "stdout",
     "output_type": "stream",
     "text": [
      "1. Training set accuracy: 83.62%\n",
      "2. Test set accuracy: 82.41%\n",
      "3. Precision(How many days labeled as rainy are actually rainy?): 0.82\n",
      "4. Sensitivity/Recall(Of all the rainy days, how many of those are correctly predict?): 0.31\n",
      "5. Specificity(Of all the normal days, how many of those did we correctly predict?): 0.98\n",
      "6. F1 score: 0.45\n",
      "7. ROC Area under Curve: 0.65\n"
     ]
    },
    {
     "data": {
      "image/png": "[encoded data removed]",
      "text/plain": [
       "<Figure size 432x288 with 2 Axes>"
      ]
     },
     "metadata": {
      "needs_background": "light"
     },
     "output_type": "display_data"
    },
    {
     "name": "stdout",
     "output_type": "stream",
     "text": [
      "Time Spent: 0.6\n"
     ]
    },
    {
     "data": {
      "text/plain": [
       "(SGDClassifier(random_state=42),\n",
       " array([0., 0., 0., ..., 0., 0., 0.]),\n",
       " array([0., 0., 0., ..., 0., 1., 0.]))"
      ]
     },
     "execution_count": 89,
     "metadata": {},
     "output_type": "execute_result"
    }
   ],
   "source": [
    "test_model(sgd_clf, X_train = X_train_full[imp_15_Freq], y_train = y_train_full, X_test = X_safe[imp_15_Freq], y_test = y_safe ) "
   ]
  },
  {
   "cell_type": "code",
   "execution_count": 95,
   "metadata": {},
   "outputs": [
    {
     "name": "stdout",
     "output_type": "stream",
     "text": [
      "1. Training set accuracy: 84.73%\n",
      "2. Test set accuracy: 82.94%\n",
      "3. Precision(How many days labeled as rainy are actually rainy?): 0.64\n",
      "4. Sensitivity/Recall(Of all the rainy days, how many of those are correctly predict?): 0.62\n",
      "5. Specificity(Of all the normal days, how many of those did we correctly predict?): 0.89\n",
      "6. F1 score: 0.63\n",
      "7. ROC Area under Curve: 0.76\n"
     ]
    },
    {
     "data": {
      "image/png": "[encoded data removed]",
      "text/plain": [
       "<Figure size 432x288 with 2 Axes>"
      ]
     },
     "metadata": {
      "needs_background": "light"
     },
     "output_type": "display_data"
    },
    {
     "name": "stdout",
     "output_type": "stream",
     "text": [
      "Time Spent: 85.28\n"
     ]
    },
    {
     "data": {
      "text/plain": [
       "(LogisticRegression(C=0.9, penalty='l1', solver='liblinear'),\n",
       " array([1., 0., 0., ..., 0., 0., 0.]),\n",
       " array([0., 0., 0., ..., 0., 1., 0.]))"
      ]
     },
     "execution_count": 95,
     "metadata": {},
     "output_type": "execute_result"
    }
   ],
   "source": [
    "test_model(clf_lr, X_train = X_train_full, y_train = y_train_full, X_test = X_safe , y_test = y_safe)"
   ]
  },
  {
   "cell_type": "code",
   "execution_count": 96,
   "metadata": {},
   "outputs": [
    {
     "name": "stdout",
     "output_type": "stream",
     "text": [
      "1. Training set accuracy: 84.45%\n",
      "2. Test set accuracy: 83.29%\n",
      "3. Precision(How many days labeled as rainy are actually rainy?): 0.68\n",
      "4. Sensitivity/Recall(Of all the rainy days, how many of those are correctly predict?): 0.53\n",
      "5. Specificity(Of all the normal days, how many of those did we correctly predict?): 0.93\n",
      "6. F1 score: 0.6\n",
      "7. ROC Area under Curve: 0.73\n"
     ]
    },
    {
     "data": {
      "image/png": "[encoded data removed]",
      "text/plain": [
       "<Figure size 432x288 with 2 Axes>"
      ]
     },
     "metadata": {
      "needs_background": "light"
     },
     "output_type": "display_data"
    },
    {
     "name": "stdout",
     "output_type": "stream",
     "text": [
      "Time Spent: 18.88\n"
     ]
    },
    {
     "data": {
      "text/plain": [
       "(LogisticRegression(C=0.9, penalty='l1', solver='liblinear'),\n",
       " array([1., 0., 0., ..., 0., 0., 0.]),\n",
       " array([0., 0., 0., ..., 0., 1., 0.]))"
      ]
     },
     "execution_count": 96,
     "metadata": {},
     "output_type": "execute_result"
    }
   ],
   "source": [
    "test_model(clf_lr, X_train = X_train_full[imp_15_Freq], y_train = y_train_full, X_test = X_safe[imp_15_Freq], y_test = y_safe ) "
   ]
  },
  {
   "cell_type": "markdown",
   "metadata": {},
   "source": [
    "# Reference:\n",
    "##### circular data transform: http://blog.davidkaleko.com/feature-engineering-cyclical-features.html  \n",
    "##### Australian weather https://www.finalword.com/map-weather-of-australia/\n",
    "##### Confusion Matrix Visualization ,Medium https://medium.com/@dtuk81/confusion-matrix-visualization-fc31e3f30fea\n",
    "##### Ensemble https://learning.oreilly.com/library/view/hands-on-machine-learning/9781492032632/ch07.html#ensembles_chapter"
   ]
  },
  {
   "cell_type": "code",
   "execution_count": null,
   "metadata": {},
   "outputs": [],
   "source": []
  }
 ],
 "metadata": {
  "kernelspec": {
   "display_name": "Python 3",
   "language": "python",
   "name": "python3"
  },
  "language_info": {
   "codemirror_mode": {
    "name": "ipython",
    "version": 3
   },
   "file_extension": ".py",
   "mimetype": "text/x-python",
   "name": "python",
   "nbconvert_exporter": "python",
   "pygments_lexer": "ipython3",
   "version": "3.8.3"
  }
 },
 "nbformat": 4,
 "nbformat_minor": 4
}
